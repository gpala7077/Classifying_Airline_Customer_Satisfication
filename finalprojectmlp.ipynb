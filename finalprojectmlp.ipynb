{
 "cells": [
  {
   "cell_type": "code",
   "execution_count": 1,
   "metadata": {},
   "outputs": [],
   "source": [
    "import pandas as pd\n",
    "import numpy as np\n",
    "from matplotlib import pyplot as plt\n",
    "import sklearn"
   ]
  },
  {
   "cell_type": "code",
   "execution_count": 2,
   "metadata": {},
   "outputs": [
    {
     "name": "stdout",
     "output_type": "stream",
     "text": [
      "This dataset contains 129880 observations and 23 attributes\n"
     ]
    },
    {
     "data": {
      "text/html": [
       "<div>\n",
       "<style scoped>\n",
       "    .dataframe tbody tr th:only-of-type {\n",
       "        vertical-align: middle;\n",
       "    }\n",
       "\n",
       "    .dataframe tbody tr th {\n",
       "        vertical-align: top;\n",
       "    }\n",
       "\n",
       "    .dataframe thead th {\n",
       "        text-align: right;\n",
       "    }\n",
       "</style>\n",
       "<table border=\"1\" class=\"dataframe\">\n",
       "  <thead>\n",
       "    <tr style=\"text-align: right;\">\n",
       "      <th></th>\n",
       "      <th>Gender</th>\n",
       "      <th>Customer Type</th>\n",
       "      <th>Age</th>\n",
       "      <th>Type of Travel</th>\n",
       "      <th>Class</th>\n",
       "      <th>Flight Distance</th>\n",
       "      <th>Inflight wifi service</th>\n",
       "      <th>Departure/Arrival time convenient</th>\n",
       "      <th>Ease of Online booking</th>\n",
       "      <th>Gate location</th>\n",
       "      <th>...</th>\n",
       "      <th>Inflight entertainment</th>\n",
       "      <th>On-board service</th>\n",
       "      <th>Leg room service</th>\n",
       "      <th>Baggage handling</th>\n",
       "      <th>Checkin service</th>\n",
       "      <th>Inflight service</th>\n",
       "      <th>Cleanliness</th>\n",
       "      <th>Departure Delay in Minutes</th>\n",
       "      <th>Arrival Delay in Minutes</th>\n",
       "      <th>satisfaction</th>\n",
       "    </tr>\n",
       "    <tr>\n",
       "      <th>id</th>\n",
       "      <th></th>\n",
       "      <th></th>\n",
       "      <th></th>\n",
       "      <th></th>\n",
       "      <th></th>\n",
       "      <th></th>\n",
       "      <th></th>\n",
       "      <th></th>\n",
       "      <th></th>\n",
       "      <th></th>\n",
       "      <th></th>\n",
       "      <th></th>\n",
       "      <th></th>\n",
       "      <th></th>\n",
       "      <th></th>\n",
       "      <th></th>\n",
       "      <th></th>\n",
       "      <th></th>\n",
       "      <th></th>\n",
       "      <th></th>\n",
       "      <th></th>\n",
       "    </tr>\n",
       "  </thead>\n",
       "  <tbody>\n",
       "    <tr>\n",
       "      <th>70172.00000</th>\n",
       "      <td>Male</td>\n",
       "      <td>Loyal Customer</td>\n",
       "      <td>13.000000</td>\n",
       "      <td>Personal Travel</td>\n",
       "      <td>Eco Plus</td>\n",
       "      <td>460.000000</td>\n",
       "      <td>3.000000</td>\n",
       "      <td>4.000000</td>\n",
       "      <td>3.000000</td>\n",
       "      <td>1.000000</td>\n",
       "      <td>...</td>\n",
       "      <td>5.000000</td>\n",
       "      <td>4.000000</td>\n",
       "      <td>3.000000</td>\n",
       "      <td>4.000000</td>\n",
       "      <td>4.000000</td>\n",
       "      <td>5.000000</td>\n",
       "      <td>5.000000</td>\n",
       "      <td>25.000000</td>\n",
       "      <td>18.000000</td>\n",
       "      <td>neutral or dissatisfied</td>\n",
       "    </tr>\n",
       "    <tr>\n",
       "      <th>5047.00000</th>\n",
       "      <td>Male</td>\n",
       "      <td>disloyal Customer</td>\n",
       "      <td>25.000000</td>\n",
       "      <td>Business travel</td>\n",
       "      <td>Business</td>\n",
       "      <td>235.000000</td>\n",
       "      <td>3.000000</td>\n",
       "      <td>2.000000</td>\n",
       "      <td>3.000000</td>\n",
       "      <td>3.000000</td>\n",
       "      <td>...</td>\n",
       "      <td>1.000000</td>\n",
       "      <td>1.000000</td>\n",
       "      <td>5.000000</td>\n",
       "      <td>3.000000</td>\n",
       "      <td>1.000000</td>\n",
       "      <td>4.000000</td>\n",
       "      <td>1.000000</td>\n",
       "      <td>1.000000</td>\n",
       "      <td>6.000000</td>\n",
       "      <td>neutral or dissatisfied</td>\n",
       "    </tr>\n",
       "    <tr>\n",
       "      <th>110028.00000</th>\n",
       "      <td>Female</td>\n",
       "      <td>Loyal Customer</td>\n",
       "      <td>26.000000</td>\n",
       "      <td>Business travel</td>\n",
       "      <td>Business</td>\n",
       "      <td>1142.000000</td>\n",
       "      <td>2.000000</td>\n",
       "      <td>2.000000</td>\n",
       "      <td>2.000000</td>\n",
       "      <td>2.000000</td>\n",
       "      <td>...</td>\n",
       "      <td>5.000000</td>\n",
       "      <td>4.000000</td>\n",
       "      <td>3.000000</td>\n",
       "      <td>4.000000</td>\n",
       "      <td>4.000000</td>\n",
       "      <td>4.000000</td>\n",
       "      <td>5.000000</td>\n",
       "      <td>0.000000</td>\n",
       "      <td>0.000000</td>\n",
       "      <td>satisfied</td>\n",
       "    </tr>\n",
       "    <tr>\n",
       "      <th>24026.00000</th>\n",
       "      <td>Female</td>\n",
       "      <td>Loyal Customer</td>\n",
       "      <td>25.000000</td>\n",
       "      <td>Business travel</td>\n",
       "      <td>Business</td>\n",
       "      <td>562.000000</td>\n",
       "      <td>2.000000</td>\n",
       "      <td>5.000000</td>\n",
       "      <td>5.000000</td>\n",
       "      <td>5.000000</td>\n",
       "      <td>...</td>\n",
       "      <td>2.000000</td>\n",
       "      <td>2.000000</td>\n",
       "      <td>5.000000</td>\n",
       "      <td>3.000000</td>\n",
       "      <td>1.000000</td>\n",
       "      <td>4.000000</td>\n",
       "      <td>2.000000</td>\n",
       "      <td>11.000000</td>\n",
       "      <td>9.000000</td>\n",
       "      <td>neutral or dissatisfied</td>\n",
       "    </tr>\n",
       "    <tr>\n",
       "      <th>119299.00000</th>\n",
       "      <td>Male</td>\n",
       "      <td>Loyal Customer</td>\n",
       "      <td>61.000000</td>\n",
       "      <td>Business travel</td>\n",
       "      <td>Business</td>\n",
       "      <td>214.000000</td>\n",
       "      <td>3.000000</td>\n",
       "      <td>3.000000</td>\n",
       "      <td>3.000000</td>\n",
       "      <td>3.000000</td>\n",
       "      <td>...</td>\n",
       "      <td>3.000000</td>\n",
       "      <td>3.000000</td>\n",
       "      <td>4.000000</td>\n",
       "      <td>4.000000</td>\n",
       "      <td>3.000000</td>\n",
       "      <td>3.000000</td>\n",
       "      <td>3.000000</td>\n",
       "      <td>0.000000</td>\n",
       "      <td>0.000000</td>\n",
       "      <td>satisfied</td>\n",
       "    </tr>\n",
       "    <tr>\n",
       "      <th>...</th>\n",
       "      <td>...</td>\n",
       "      <td>...</td>\n",
       "      <td>...</td>\n",
       "      <td>...</td>\n",
       "      <td>...</td>\n",
       "      <td>...</td>\n",
       "      <td>...</td>\n",
       "      <td>...</td>\n",
       "      <td>...</td>\n",
       "      <td>...</td>\n",
       "      <td>...</td>\n",
       "      <td>...</td>\n",
       "      <td>...</td>\n",
       "      <td>...</td>\n",
       "      <td>...</td>\n",
       "      <td>...</td>\n",
       "      <td>...</td>\n",
       "      <td>...</td>\n",
       "      <td>...</td>\n",
       "      <td>...</td>\n",
       "      <td>...</td>\n",
       "    </tr>\n",
       "    <tr>\n",
       "      <th>58805.45150</th>\n",
       "      <td>Female</td>\n",
       "      <td>Loyal Customer</td>\n",
       "      <td>38.187478</td>\n",
       "      <td>Business travel</td>\n",
       "      <td>Business</td>\n",
       "      <td>1036.489743</td>\n",
       "      <td>2.493064</td>\n",
       "      <td>3.433047</td>\n",
       "      <td>2.886652</td>\n",
       "      <td>3.641987</td>\n",
       "      <td>...</td>\n",
       "      <td>2.625779</td>\n",
       "      <td>3.186306</td>\n",
       "      <td>2.799034</td>\n",
       "      <td>3.241455</td>\n",
       "      <td>2.922617</td>\n",
       "      <td>3.105155</td>\n",
       "      <td>2.671643</td>\n",
       "      <td>11.482499</td>\n",
       "      <td>7.632232</td>\n",
       "      <td>satisfied</td>\n",
       "    </tr>\n",
       "    <tr>\n",
       "      <th>58805.20623</th>\n",
       "      <td>Male</td>\n",
       "      <td>Loyal Customer</td>\n",
       "      <td>38.187405</td>\n",
       "      <td>Business travel</td>\n",
       "      <td>Business</td>\n",
       "      <td>1036.482187</td>\n",
       "      <td>2.493054</td>\n",
       "      <td>3.433063</td>\n",
       "      <td>2.886659</td>\n",
       "      <td>3.642014</td>\n",
       "      <td>...</td>\n",
       "      <td>2.625747</td>\n",
       "      <td>3.186298</td>\n",
       "      <td>2.799011</td>\n",
       "      <td>3.241440</td>\n",
       "      <td>2.922602</td>\n",
       "      <td>3.105131</td>\n",
       "      <td>2.671617</td>\n",
       "      <td>11.482348</td>\n",
       "      <td>7.631916</td>\n",
       "      <td>satisfied</td>\n",
       "    </tr>\n",
       "    <tr>\n",
       "      <th>58804.96096</th>\n",
       "      <td>Male</td>\n",
       "      <td>Loyal Customer</td>\n",
       "      <td>38.187332</td>\n",
       "      <td>Personal Travel</td>\n",
       "      <td>Eco</td>\n",
       "      <td>1036.474632</td>\n",
       "      <td>2.493044</td>\n",
       "      <td>3.433079</td>\n",
       "      <td>2.886665</td>\n",
       "      <td>3.642041</td>\n",
       "      <td>...</td>\n",
       "      <td>2.625716</td>\n",
       "      <td>3.186290</td>\n",
       "      <td>2.798987</td>\n",
       "      <td>3.241424</td>\n",
       "      <td>2.922587</td>\n",
       "      <td>3.105108</td>\n",
       "      <td>2.671592</td>\n",
       "      <td>11.482198</td>\n",
       "      <td>7.631599</td>\n",
       "      <td>neutral or dissatisfied</td>\n",
       "    </tr>\n",
       "    <tr>\n",
       "      <th>58804.71569</th>\n",
       "      <td>Male</td>\n",
       "      <td>Loyal Customer</td>\n",
       "      <td>38.187260</td>\n",
       "      <td>Personal Travel</td>\n",
       "      <td>Eco</td>\n",
       "      <td>1036.467076</td>\n",
       "      <td>2.493034</td>\n",
       "      <td>3.433095</td>\n",
       "      <td>2.886671</td>\n",
       "      <td>3.642069</td>\n",
       "      <td>...</td>\n",
       "      <td>2.625685</td>\n",
       "      <td>3.186283</td>\n",
       "      <td>2.798964</td>\n",
       "      <td>3.241409</td>\n",
       "      <td>2.922572</td>\n",
       "      <td>3.105084</td>\n",
       "      <td>2.671566</td>\n",
       "      <td>11.482047</td>\n",
       "      <td>7.631283</td>\n",
       "      <td>neutral or dissatisfied</td>\n",
       "    </tr>\n",
       "    <tr>\n",
       "      <th>58804.47042</th>\n",
       "      <td>Male</td>\n",
       "      <td>Loyal Customer</td>\n",
       "      <td>38.187187</td>\n",
       "      <td>Business travel</td>\n",
       "      <td>Business</td>\n",
       "      <td>1036.459520</td>\n",
       "      <td>2.493023</td>\n",
       "      <td>3.433110</td>\n",
       "      <td>2.886677</td>\n",
       "      <td>3.642096</td>\n",
       "      <td>...</td>\n",
       "      <td>2.625654</td>\n",
       "      <td>3.186275</td>\n",
       "      <td>2.798940</td>\n",
       "      <td>3.241393</td>\n",
       "      <td>2.922557</td>\n",
       "      <td>3.105061</td>\n",
       "      <td>2.671540</td>\n",
       "      <td>11.481897</td>\n",
       "      <td>7.630966</td>\n",
       "      <td>satisfied</td>\n",
       "    </tr>\n",
       "  </tbody>\n",
       "</table>\n",
       "<p>129880 rows × 23 columns</p>\n",
       "</div>"
      ],
      "text/plain": [
       "              Gender      Customer Type        Age   Type of Travel     Class  \\\n",
       "id                                                                              \n",
       "70172.00000     Male     Loyal Customer  13.000000  Personal Travel  Eco Plus   \n",
       "5047.00000      Male  disloyal Customer  25.000000  Business travel  Business   \n",
       "110028.00000  Female     Loyal Customer  26.000000  Business travel  Business   \n",
       "24026.00000   Female     Loyal Customer  25.000000  Business travel  Business   \n",
       "119299.00000    Male     Loyal Customer  61.000000  Business travel  Business   \n",
       "...              ...                ...        ...              ...       ...   \n",
       "58805.45150   Female     Loyal Customer  38.187478  Business travel  Business   \n",
       "58805.20623     Male     Loyal Customer  38.187405  Business travel  Business   \n",
       "58804.96096     Male     Loyal Customer  38.187332  Personal Travel       Eco   \n",
       "58804.71569     Male     Loyal Customer  38.187260  Personal Travel       Eco   \n",
       "58804.47042     Male     Loyal Customer  38.187187  Business travel  Business   \n",
       "\n",
       "              Flight Distance  Inflight wifi service  \\\n",
       "id                                                     \n",
       "70172.00000        460.000000               3.000000   \n",
       "5047.00000         235.000000               3.000000   \n",
       "110028.00000      1142.000000               2.000000   \n",
       "24026.00000        562.000000               2.000000   \n",
       "119299.00000       214.000000               3.000000   \n",
       "...                       ...                    ...   \n",
       "58805.45150       1036.489743               2.493064   \n",
       "58805.20623       1036.482187               2.493054   \n",
       "58804.96096       1036.474632               2.493044   \n",
       "58804.71569       1036.467076               2.493034   \n",
       "58804.47042       1036.459520               2.493023   \n",
       "\n",
       "              Departure/Arrival time convenient  Ease of Online booking  \\\n",
       "id                                                                        \n",
       "70172.00000                            4.000000                3.000000   \n",
       "5047.00000                             2.000000                3.000000   \n",
       "110028.00000                           2.000000                2.000000   \n",
       "24026.00000                            5.000000                5.000000   \n",
       "119299.00000                           3.000000                3.000000   \n",
       "...                                         ...                     ...   \n",
       "58805.45150                            3.433047                2.886652   \n",
       "58805.20623                            3.433063                2.886659   \n",
       "58804.96096                            3.433079                2.886665   \n",
       "58804.71569                            3.433095                2.886671   \n",
       "58804.47042                            3.433110                2.886677   \n",
       "\n",
       "              Gate location  ...  Inflight entertainment  On-board service  \\\n",
       "id                           ...                                             \n",
       "70172.00000        1.000000  ...                5.000000          4.000000   \n",
       "5047.00000         3.000000  ...                1.000000          1.000000   \n",
       "110028.00000       2.000000  ...                5.000000          4.000000   \n",
       "24026.00000        5.000000  ...                2.000000          2.000000   \n",
       "119299.00000       3.000000  ...                3.000000          3.000000   \n",
       "...                     ...  ...                     ...               ...   \n",
       "58805.45150        3.641987  ...                2.625779          3.186306   \n",
       "58805.20623        3.642014  ...                2.625747          3.186298   \n",
       "58804.96096        3.642041  ...                2.625716          3.186290   \n",
       "58804.71569        3.642069  ...                2.625685          3.186283   \n",
       "58804.47042        3.642096  ...                2.625654          3.186275   \n",
       "\n",
       "              Leg room service  Baggage handling  Checkin service  \\\n",
       "id                                                                  \n",
       "70172.00000           3.000000          4.000000         4.000000   \n",
       "5047.00000            5.000000          3.000000         1.000000   \n",
       "110028.00000          3.000000          4.000000         4.000000   \n",
       "24026.00000           5.000000          3.000000         1.000000   \n",
       "119299.00000          4.000000          4.000000         3.000000   \n",
       "...                        ...               ...              ...   \n",
       "58805.45150           2.799034          3.241455         2.922617   \n",
       "58805.20623           2.799011          3.241440         2.922602   \n",
       "58804.96096           2.798987          3.241424         2.922587   \n",
       "58804.71569           2.798964          3.241409         2.922572   \n",
       "58804.47042           2.798940          3.241393         2.922557   \n",
       "\n",
       "              Inflight service  Cleanliness  Departure Delay in Minutes  \\\n",
       "id                                                                        \n",
       "70172.00000           5.000000     5.000000                   25.000000   \n",
       "5047.00000            4.000000     1.000000                    1.000000   \n",
       "110028.00000          4.000000     5.000000                    0.000000   \n",
       "24026.00000           4.000000     2.000000                   11.000000   \n",
       "119299.00000          3.000000     3.000000                    0.000000   \n",
       "...                        ...          ...                         ...   \n",
       "58805.45150           3.105155     2.671643                   11.482499   \n",
       "58805.20623           3.105131     2.671617                   11.482348   \n",
       "58804.96096           3.105108     2.671592                   11.482198   \n",
       "58804.71569           3.105084     2.671566                   11.482047   \n",
       "58804.47042           3.105061     2.671540                   11.481897   \n",
       "\n",
       "              Arrival Delay in Minutes             satisfaction  \n",
       "id                                                               \n",
       "70172.00000                  18.000000  neutral or dissatisfied  \n",
       "5047.00000                    6.000000  neutral or dissatisfied  \n",
       "110028.00000                  0.000000                satisfied  \n",
       "24026.00000                   9.000000  neutral or dissatisfied  \n",
       "119299.00000                  0.000000                satisfied  \n",
       "...                                ...                      ...  \n",
       "58805.45150                   7.632232                satisfied  \n",
       "58805.20623                   7.631916                satisfied  \n",
       "58804.96096                   7.631599  neutral or dissatisfied  \n",
       "58804.71569                   7.631283  neutral or dissatisfied  \n",
       "58804.47042                   7.630966                satisfied  \n",
       "\n",
       "[129880 rows x 23 columns]"
      ]
     },
     "execution_count": 2,
     "metadata": {},
     "output_type": "execute_result"
    }
   ],
   "source": [
    "data = pd.read_csv('/Users/Edvinas/OneDrive/Documents/data/aviation_data.csv', index_col='id')\n",
    "data = data.drop(data.columns[0], axis=1) # dropping an index column\n",
    "\n",
    "\n",
    "\n",
    "print('This dataset contains {} observations and {} attributes'.format(*data.shape))\n",
    "data"
   ]
  },
  {
   "cell_type": "code",
   "execution_count": 3,
   "metadata": {},
   "outputs": [
    {
     "data": {
      "text/plain": [
       "0.000000     59972\n",
       "1.000000      2288\n",
       "2.000000      2115\n",
       "3.000000      2010\n",
       "4.000000      1968\n",
       "             ...  \n",
       "8.989776         1\n",
       "12.091874        1\n",
       "13.052913        1\n",
       "13.631056        1\n",
       "14.270905        1\n",
       "Name: Arrival Delay in Minutes, Length: 23188, dtype: int64"
      ]
     },
     "execution_count": 3,
     "metadata": {},
     "output_type": "execute_result"
    }
   ],
   "source": [
    "data['Arrival Delay in Minutes'].value_counts()"
   ]
  },
  {
   "cell_type": "code",
   "execution_count": 4,
   "metadata": {},
   "outputs": [
    {
     "data": {
      "text/plain": [
       "Gender                                 0\n",
       "Customer Type                          0\n",
       "Age                                    0\n",
       "Type of Travel                         0\n",
       "Class                                  0\n",
       "Flight Distance                        0\n",
       "Inflight wifi service                  0\n",
       "Departure/Arrival time convenient      0\n",
       "Ease of Online booking                 0\n",
       "Gate location                          0\n",
       "Food and drink                         0\n",
       "Online boarding                        0\n",
       "Seat comfort                           0\n",
       "Inflight entertainment                 0\n",
       "On-board service                       0\n",
       "Leg room service                       0\n",
       "Baggage handling                       0\n",
       "Checkin service                        0\n",
       "Inflight service                       0\n",
       "Cleanliness                            0\n",
       "Departure Delay in Minutes             0\n",
       "Arrival Delay in Minutes             321\n",
       "satisfaction                           0\n",
       "dtype: int64"
      ]
     },
     "execution_count": 4,
     "metadata": {},
     "output_type": "execute_result"
    }
   ],
   "source": [
    "data.isnull().sum()"
   ]
  },
  {
   "cell_type": "code",
   "execution_count": 5,
   "metadata": {},
   "outputs": [
    {
     "name": "stdout",
     "output_type": "stream",
     "text": [
      "This dataset contains 129880 observations and 23 attributes\n"
     ]
    }
   ],
   "source": [
    "print('This dataset contains {} observations and {} attributes'.format(*data.shape))"
   ]
  },
  {
   "cell_type": "code",
   "execution_count": 6,
   "metadata": {},
   "outputs": [],
   "source": [
    "data = data.dropna()"
   ]
  },
  {
   "cell_type": "code",
   "execution_count": 34,
   "metadata": {},
   "outputs": [
    {
     "data": {
      "text/html": [
       "<div>\n",
       "<style scoped>\n",
       "    .dataframe tbody tr th:only-of-type {\n",
       "        vertical-align: middle;\n",
       "    }\n",
       "\n",
       "    .dataframe tbody tr th {\n",
       "        vertical-align: top;\n",
       "    }\n",
       "\n",
       "    .dataframe thead th {\n",
       "        text-align: right;\n",
       "    }\n",
       "</style>\n",
       "<table border=\"1\" class=\"dataframe\">\n",
       "  <thead>\n",
       "    <tr style=\"text-align: right;\">\n",
       "      <th></th>\n",
       "      <th>Gender</th>\n",
       "      <th>Customer Type</th>\n",
       "      <th>Age</th>\n",
       "      <th>Type of Travel</th>\n",
       "      <th>Class</th>\n",
       "      <th>Flight Distance</th>\n",
       "      <th>Inflight wifi service</th>\n",
       "      <th>Departure/Arrival time convenient</th>\n",
       "      <th>Ease of Online booking</th>\n",
       "      <th>Gate location</th>\n",
       "      <th>...</th>\n",
       "      <th>Inflight entertainment</th>\n",
       "      <th>On-board service</th>\n",
       "      <th>Leg room service</th>\n",
       "      <th>Baggage handling</th>\n",
       "      <th>Checkin service</th>\n",
       "      <th>Inflight service</th>\n",
       "      <th>Cleanliness</th>\n",
       "      <th>Departure Delay in Minutes</th>\n",
       "      <th>Arrival Delay in Minutes</th>\n",
       "      <th>satisfaction</th>\n",
       "    </tr>\n",
       "    <tr>\n",
       "      <th>id</th>\n",
       "      <th></th>\n",
       "      <th></th>\n",
       "      <th></th>\n",
       "      <th></th>\n",
       "      <th></th>\n",
       "      <th></th>\n",
       "      <th></th>\n",
       "      <th></th>\n",
       "      <th></th>\n",
       "      <th></th>\n",
       "      <th></th>\n",
       "      <th></th>\n",
       "      <th></th>\n",
       "      <th></th>\n",
       "      <th></th>\n",
       "      <th></th>\n",
       "      <th></th>\n",
       "      <th></th>\n",
       "      <th></th>\n",
       "      <th></th>\n",
       "      <th></th>\n",
       "    </tr>\n",
       "  </thead>\n",
       "  <tbody>\n",
       "    <tr>\n",
       "      <th>70172.0</th>\n",
       "      <td>Male</td>\n",
       "      <td>Loyal Customer</td>\n",
       "      <td>13.0</td>\n",
       "      <td>Personal Travel</td>\n",
       "      <td>Eco Plus</td>\n",
       "      <td>460.0</td>\n",
       "      <td>3.0</td>\n",
       "      <td>4.0</td>\n",
       "      <td>3.0</td>\n",
       "      <td>1.0</td>\n",
       "      <td>...</td>\n",
       "      <td>5.0</td>\n",
       "      <td>4.0</td>\n",
       "      <td>3.0</td>\n",
       "      <td>4.0</td>\n",
       "      <td>4.0</td>\n",
       "      <td>5.0</td>\n",
       "      <td>5.0</td>\n",
       "      <td>25.0</td>\n",
       "      <td>18.0</td>\n",
       "      <td>neutral or dissatisfied</td>\n",
       "    </tr>\n",
       "    <tr>\n",
       "      <th>5047.0</th>\n",
       "      <td>Male</td>\n",
       "      <td>disloyal Customer</td>\n",
       "      <td>25.0</td>\n",
       "      <td>Business travel</td>\n",
       "      <td>Business</td>\n",
       "      <td>235.0</td>\n",
       "      <td>3.0</td>\n",
       "      <td>2.0</td>\n",
       "      <td>3.0</td>\n",
       "      <td>3.0</td>\n",
       "      <td>...</td>\n",
       "      <td>1.0</td>\n",
       "      <td>1.0</td>\n",
       "      <td>5.0</td>\n",
       "      <td>3.0</td>\n",
       "      <td>1.0</td>\n",
       "      <td>4.0</td>\n",
       "      <td>1.0</td>\n",
       "      <td>1.0</td>\n",
       "      <td>6.0</td>\n",
       "      <td>neutral or dissatisfied</td>\n",
       "    </tr>\n",
       "    <tr>\n",
       "      <th>110028.0</th>\n",
       "      <td>Female</td>\n",
       "      <td>Loyal Customer</td>\n",
       "      <td>26.0</td>\n",
       "      <td>Business travel</td>\n",
       "      <td>Business</td>\n",
       "      <td>1142.0</td>\n",
       "      <td>2.0</td>\n",
       "      <td>2.0</td>\n",
       "      <td>2.0</td>\n",
       "      <td>2.0</td>\n",
       "      <td>...</td>\n",
       "      <td>5.0</td>\n",
       "      <td>4.0</td>\n",
       "      <td>3.0</td>\n",
       "      <td>4.0</td>\n",
       "      <td>4.0</td>\n",
       "      <td>4.0</td>\n",
       "      <td>5.0</td>\n",
       "      <td>0.0</td>\n",
       "      <td>0.0</td>\n",
       "      <td>satisfied</td>\n",
       "    </tr>\n",
       "    <tr>\n",
       "      <th>24026.0</th>\n",
       "      <td>Female</td>\n",
       "      <td>Loyal Customer</td>\n",
       "      <td>25.0</td>\n",
       "      <td>Business travel</td>\n",
       "      <td>Business</td>\n",
       "      <td>562.0</td>\n",
       "      <td>2.0</td>\n",
       "      <td>5.0</td>\n",
       "      <td>5.0</td>\n",
       "      <td>5.0</td>\n",
       "      <td>...</td>\n",
       "      <td>2.0</td>\n",
       "      <td>2.0</td>\n",
       "      <td>5.0</td>\n",
       "      <td>3.0</td>\n",
       "      <td>1.0</td>\n",
       "      <td>4.0</td>\n",
       "      <td>2.0</td>\n",
       "      <td>11.0</td>\n",
       "      <td>9.0</td>\n",
       "      <td>neutral or dissatisfied</td>\n",
       "    </tr>\n",
       "    <tr>\n",
       "      <th>119299.0</th>\n",
       "      <td>Male</td>\n",
       "      <td>Loyal Customer</td>\n",
       "      <td>61.0</td>\n",
       "      <td>Business travel</td>\n",
       "      <td>Business</td>\n",
       "      <td>214.0</td>\n",
       "      <td>3.0</td>\n",
       "      <td>3.0</td>\n",
       "      <td>3.0</td>\n",
       "      <td>3.0</td>\n",
       "      <td>...</td>\n",
       "      <td>3.0</td>\n",
       "      <td>3.0</td>\n",
       "      <td>4.0</td>\n",
       "      <td>4.0</td>\n",
       "      <td>3.0</td>\n",
       "      <td>3.0</td>\n",
       "      <td>3.0</td>\n",
       "      <td>0.0</td>\n",
       "      <td>0.0</td>\n",
       "      <td>satisfied</td>\n",
       "    </tr>\n",
       "  </tbody>\n",
       "</table>\n",
       "<p>5 rows × 23 columns</p>\n",
       "</div>"
      ],
      "text/plain": [
       "          Gender      Customer Type   Age   Type of Travel     Class  \\\n",
       "id                                                                     \n",
       "70172.0     Male     Loyal Customer  13.0  Personal Travel  Eco Plus   \n",
       "5047.0      Male  disloyal Customer  25.0  Business travel  Business   \n",
       "110028.0  Female     Loyal Customer  26.0  Business travel  Business   \n",
       "24026.0   Female     Loyal Customer  25.0  Business travel  Business   \n",
       "119299.0    Male     Loyal Customer  61.0  Business travel  Business   \n",
       "\n",
       "          Flight Distance  Inflight wifi service  \\\n",
       "id                                                 \n",
       "70172.0             460.0                    3.0   \n",
       "5047.0              235.0                    3.0   \n",
       "110028.0           1142.0                    2.0   \n",
       "24026.0             562.0                    2.0   \n",
       "119299.0            214.0                    3.0   \n",
       "\n",
       "          Departure/Arrival time convenient  Ease of Online booking  \\\n",
       "id                                                                    \n",
       "70172.0                                 4.0                     3.0   \n",
       "5047.0                                  2.0                     3.0   \n",
       "110028.0                                2.0                     2.0   \n",
       "24026.0                                 5.0                     5.0   \n",
       "119299.0                                3.0                     3.0   \n",
       "\n",
       "          Gate location  ...  Inflight entertainment  On-board service  \\\n",
       "id                       ...                                             \n",
       "70172.0             1.0  ...                     5.0               4.0   \n",
       "5047.0              3.0  ...                     1.0               1.0   \n",
       "110028.0            2.0  ...                     5.0               4.0   \n",
       "24026.0             5.0  ...                     2.0               2.0   \n",
       "119299.0            3.0  ...                     3.0               3.0   \n",
       "\n",
       "          Leg room service  Baggage handling  Checkin service  \\\n",
       "id                                                              \n",
       "70172.0                3.0               4.0              4.0   \n",
       "5047.0                 5.0               3.0              1.0   \n",
       "110028.0               3.0               4.0              4.0   \n",
       "24026.0                5.0               3.0              1.0   \n",
       "119299.0               4.0               4.0              3.0   \n",
       "\n",
       "          Inflight service  Cleanliness  Departure Delay in Minutes  \\\n",
       "id                                                                    \n",
       "70172.0                5.0          5.0                        25.0   \n",
       "5047.0                 4.0          1.0                         1.0   \n",
       "110028.0               4.0          5.0                         0.0   \n",
       "24026.0                4.0          2.0                        11.0   \n",
       "119299.0               3.0          3.0                         0.0   \n",
       "\n",
       "          Arrival Delay in Minutes             satisfaction  \n",
       "id                                                           \n",
       "70172.0                       18.0  neutral or dissatisfied  \n",
       "5047.0                         6.0  neutral or dissatisfied  \n",
       "110028.0                       0.0                satisfied  \n",
       "24026.0                        9.0  neutral or dissatisfied  \n",
       "119299.0                       0.0                satisfied  \n",
       "\n",
       "[5 rows x 23 columns]"
      ]
     },
     "execution_count": 34,
     "metadata": {},
     "output_type": "execute_result"
    }
   ],
   "source": [
    "data.head()"
   ]
  },
  {
   "cell_type": "code",
   "execution_count": 35,
   "metadata": {},
   "outputs": [
    {
     "data": {
      "image/png": "[encoded data removed]",
      "text/plain": [
       "<Figure size 1080x504 with 24 Axes>"
      ]
     },
     "metadata": {
      "needs_background": "light"
     },
     "output_type": "display_data"
    }
   ],
   "source": [
    "rows, columns = 4,6\n",
    "# Show the distribution for all attributes\n",
    "fig, axs = plt.subplots(rows,columns, figsize=(15,7))   # initialize 4 by 6 plot grid\n",
    "fig.tight_layout()                                      # set layout\n",
    "column_names = [column for column in data]              # Get column names into list\n",
    "i = 0\n",
    "for x in range(rows):                                   # Fill plot grid\n",
    "    for y in range(columns):\n",
    "        if i < data.shape[1]:\n",
    "            axs[x,y].hist(data[column_names[i]], density=True)\n",
    "            axs[x,y].set(title=column_names[i])\n",
    "            i += 1"
   ]
  },
  {
   "cell_type": "code",
   "execution_count": 7,
   "metadata": {},
   "outputs": [],
   "source": [
    "# This takes a few minutes to run\n",
    "import seaborn as sns\n",
    "#sns.pairplot(pd.get_dummies(data)) can't see anything\n",
    "#plt.show()"
   ]
  },
  {
   "cell_type": "code",
   "execution_count": 8,
   "metadata": {},
   "outputs": [
    {
     "data": {
      "text/html": [
       "<div>\n",
       "<style scoped>\n",
       "    .dataframe tbody tr th:only-of-type {\n",
       "        vertical-align: middle;\n",
       "    }\n",
       "\n",
       "    .dataframe tbody tr th {\n",
       "        vertical-align: top;\n",
       "    }\n",
       "\n",
       "    .dataframe thead th {\n",
       "        text-align: right;\n",
       "    }\n",
       "</style>\n",
       "<table border=\"1\" class=\"dataframe\">\n",
       "  <thead>\n",
       "    <tr style=\"text-align: right;\">\n",
       "      <th></th>\n",
       "      <th>Gender</th>\n",
       "      <th>Customer Type</th>\n",
       "      <th>Type of Travel</th>\n",
       "      <th>Class</th>\n",
       "      <th>satisfaction</th>\n",
       "    </tr>\n",
       "  </thead>\n",
       "  <tbody>\n",
       "    <tr>\n",
       "      <th>count</th>\n",
       "      <td>129559</td>\n",
       "      <td>129559</td>\n",
       "      <td>129559</td>\n",
       "      <td>129559</td>\n",
       "      <td>129559</td>\n",
       "    </tr>\n",
       "    <tr>\n",
       "      <th>unique</th>\n",
       "      <td>2</td>\n",
       "      <td>2</td>\n",
       "      <td>2</td>\n",
       "      <td>3</td>\n",
       "      <td>2</td>\n",
       "    </tr>\n",
       "    <tr>\n",
       "      <th>top</th>\n",
       "      <td>Female</td>\n",
       "      <td>Loyal Customer</td>\n",
       "      <td>Business travel</td>\n",
       "      <td>Business</td>\n",
       "      <td>neutral or dissatisfied</td>\n",
       "    </tr>\n",
       "    <tr>\n",
       "      <th>freq</th>\n",
       "      <td>65226</td>\n",
       "      <td>105819</td>\n",
       "      <td>89678</td>\n",
       "      <td>62142</td>\n",
       "      <td>73304</td>\n",
       "    </tr>\n",
       "  </tbody>\n",
       "</table>\n",
       "</div>"
      ],
      "text/plain": [
       "        Gender   Customer Type   Type of Travel     Class  \\\n",
       "count   129559          129559           129559    129559   \n",
       "unique       2               2                2         3   \n",
       "top     Female  Loyal Customer  Business travel  Business   \n",
       "freq     65226          105819            89678     62142   \n",
       "\n",
       "                   satisfaction  \n",
       "count                    129559  \n",
       "unique                        2  \n",
       "top     neutral or dissatisfied  \n",
       "freq                      73304  "
      ]
     },
     "execution_count": 8,
     "metadata": {},
     "output_type": "execute_result"
    }
   ],
   "source": [
    "data.select_dtypes('object').describe()"
   ]
  },
  {
   "cell_type": "code",
   "execution_count": 9,
   "metadata": {},
   "outputs": [
    {
     "ename": "ValueError",
     "evalue": "Cannot describe a DataFrame without columns",
     "output_type": "error",
     "traceback": [
      "\u001b[1;31m---------------------------------------------------------------------------\u001b[0m",
      "\u001b[1;31mValueError\u001b[0m                                Traceback (most recent call last)",
      "\u001b[1;32m<ipython-input-9-e5f177542e2c>\u001b[0m in \u001b[0;36m<module>\u001b[1;34m\u001b[0m\n\u001b[1;32m----> 1\u001b[1;33m \u001b[0mdata\u001b[0m\u001b[1;33m.\u001b[0m\u001b[0mselect_dtypes\u001b[0m\u001b[1;33m(\u001b[0m\u001b[1;34m'int64'\u001b[0m\u001b[1;33m)\u001b[0m\u001b[1;33m.\u001b[0m\u001b[0mdescribe\u001b[0m\u001b[1;33m(\u001b[0m\u001b[1;33m)\u001b[0m\u001b[1;33m\u001b[0m\u001b[1;33m\u001b[0m\u001b[0m\n\u001b[0m",
      "\u001b[1;32m~\\anaconda3\\lib\\site-packages\\pandas\\core\\generic.py\u001b[0m in \u001b[0;36mdescribe\u001b[1;34m(self, percentiles, include, exclude, datetime_is_numeric)\u001b[0m\n\u001b[0;32m   9972\u001b[0m         \"\"\"\n\u001b[0;32m   9973\u001b[0m         \u001b[1;32mif\u001b[0m \u001b[0mself\u001b[0m\u001b[1;33m.\u001b[0m\u001b[0mndim\u001b[0m \u001b[1;33m==\u001b[0m \u001b[1;36m2\u001b[0m \u001b[1;32mand\u001b[0m \u001b[0mself\u001b[0m\u001b[1;33m.\u001b[0m\u001b[0mcolumns\u001b[0m\u001b[1;33m.\u001b[0m\u001b[0msize\u001b[0m \u001b[1;33m==\u001b[0m \u001b[1;36m0\u001b[0m\u001b[1;33m:\u001b[0m\u001b[1;33m\u001b[0m\u001b[1;33m\u001b[0m\u001b[0m\n\u001b[1;32m-> 9974\u001b[1;33m             \u001b[1;32mraise\u001b[0m \u001b[0mValueError\u001b[0m\u001b[1;33m(\u001b[0m\u001b[1;34m\"Cannot describe a DataFrame without columns\"\u001b[0m\u001b[1;33m)\u001b[0m\u001b[1;33m\u001b[0m\u001b[1;33m\u001b[0m\u001b[0m\n\u001b[0m\u001b[0;32m   9975\u001b[0m \u001b[1;33m\u001b[0m\u001b[0m\n\u001b[0;32m   9976\u001b[0m         \u001b[1;32mif\u001b[0m \u001b[0mpercentiles\u001b[0m \u001b[1;32mis\u001b[0m \u001b[1;32mnot\u001b[0m \u001b[1;32mNone\u001b[0m\u001b[1;33m:\u001b[0m\u001b[1;33m\u001b[0m\u001b[1;33m\u001b[0m\u001b[0m\n",
      "\u001b[1;31mValueError\u001b[0m: Cannot describe a DataFrame without columns"
     ]
    }
   ],
   "source": [
    "data.select_dtypes('int64').describe()"
   ]
  },
  {
   "cell_type": "code",
   "execution_count": 10,
   "metadata": {},
   "outputs": [],
   "source": [
    "dummies = pd.get_dummies(data) # get dummies\n",
    "dummies_norm = (dummies - dummies.min()) / (dummies.max() - dummies.min()) # min-max normalization"
   ]
  },
  {
   "cell_type": "code",
   "execution_count": 11,
   "metadata": {},
   "outputs": [],
   "source": [
    "corr = dummies_norm.corr() # get pearson correlation matrix"
   ]
  },
  {
   "cell_type": "code",
   "execution_count": 12,
   "metadata": {},
   "outputs": [],
   "source": [
    "corr = corr.mask(np.tril(np.ones(corr.shape)).astype(np.bool)) # remove the lower half of the triangle"
   ]
  },
  {
   "cell_type": "code",
   "execution_count": 42,
   "metadata": {},
   "outputs": [
    {
     "ename": "KeyError",
     "evalue": "'[39] not found in axis'",
     "output_type": "error",
     "traceback": [
      "\u001b[1;31m---------------------------------------------------------------------------\u001b[0m",
      "\u001b[1;31mKeyError\u001b[0m                                  Traceback (most recent call last)",
      "\u001b[1;32m<ipython-input-42-190cbb331cc6>\u001b[0m in \u001b[0;36m<module>\u001b[1;34m\u001b[0m\n\u001b[0;32m      2\u001b[0m \u001b[0mcorr_filtered\u001b[0m\u001b[1;33m.\u001b[0m\u001b[0mcolumns\u001b[0m \u001b[1;33m=\u001b[0m \u001b[1;33m[\u001b[0m\u001b[1;34m'Pair1'\u001b[0m\u001b[1;33m,\u001b[0m \u001b[1;34m'Pair2'\u001b[0m\u001b[1;33m,\u001b[0m \u001b[1;34m'Coefficient'\u001b[0m\u001b[1;33m]\u001b[0m \u001b[1;31m# renaming columns\u001b[0m\u001b[1;33m\u001b[0m\u001b[1;33m\u001b[0m\u001b[0m\n\u001b[0;32m      3\u001b[0m \u001b[0mcorr_filtered\u001b[0m \u001b[1;33m=\u001b[0m \u001b[0mcorr_filtered\u001b[0m\u001b[1;33m.\u001b[0m\u001b[0msort_values\u001b[0m\u001b[1;33m(\u001b[0m\u001b[0mkind\u001b[0m\u001b[1;33m=\u001b[0m\u001b[1;34m\"quicksort\"\u001b[0m\u001b[1;33m,\u001b[0m \u001b[0mby\u001b[0m\u001b[1;33m=\u001b[0m\u001b[1;34m'Coefficient'\u001b[0m\u001b[1;33m)\u001b[0m \u001b[1;31m# sorting rows by \"Coefficient\"\u001b[0m\u001b[1;33m\u001b[0m\u001b[1;33m\u001b[0m\u001b[0m\n\u001b[1;32m----> 4\u001b[1;33m \u001b[0mcorr_filtered\u001b[0m \u001b[1;33m=\u001b[0m \u001b[0mcorr_filtered\u001b[0m\u001b[1;33m.\u001b[0m\u001b[0mdrop\u001b[0m\u001b[1;33m(\u001b[0m\u001b[1;33m[\u001b[0m\u001b[1;36m23\u001b[0m\u001b[1;33m,\u001b[0m\u001b[1;36m25\u001b[0m\u001b[1;33m,\u001b[0m\u001b[1;36m24\u001b[0m\u001b[1;33m,\u001b[0m\u001b[1;36m39\u001b[0m\u001b[1;33m]\u001b[0m\u001b[1;33m)\u001b[0m \u001b[1;31m# dropping values that are the exact opposites of each other\u001b[0m\u001b[1;33m\u001b[0m\u001b[1;33m\u001b[0m\u001b[0m\n\u001b[0m\u001b[0;32m      5\u001b[0m \u001b[0mcorr_filtered\u001b[0m\u001b[1;33m[\u001b[0m\u001b[1;34m'Pair'\u001b[0m\u001b[1;33m]\u001b[0m \u001b[1;33m=\u001b[0m \u001b[0mcorr_filtered\u001b[0m\u001b[1;33m.\u001b[0m\u001b[0magg\u001b[0m\u001b[1;33m(\u001b[0m\u001b[1;34m'{0[Pair1]} / {0[Pair2]}'\u001b[0m\u001b[1;33m.\u001b[0m\u001b[0mformat\u001b[0m\u001b[1;33m,\u001b[0m \u001b[0maxis\u001b[0m\u001b[1;33m=\u001b[0m\u001b[1;36m1\u001b[0m\u001b[1;33m)\u001b[0m \u001b[1;31m# concetenate the pair columns\u001b[0m\u001b[1;33m\u001b[0m\u001b[1;33m\u001b[0m\u001b[0m\n\u001b[0;32m      6\u001b[0m \u001b[0mcorr_filtered\u001b[0m \u001b[1;33m=\u001b[0m \u001b[0mcorr_filtered\u001b[0m\u001b[1;33m.\u001b[0m\u001b[0mset_index\u001b[0m\u001b[1;33m(\u001b[0m\u001b[1;34m'Pair'\u001b[0m\u001b[1;33m)\u001b[0m \u001b[1;31m# change index to Pair\u001b[0m\u001b[1;33m\u001b[0m\u001b[1;33m\u001b[0m\u001b[0m\n",
      "\u001b[1;32m~\\anaconda3\\lib\\site-packages\\pandas\\core\\frame.py\u001b[0m in \u001b[0;36mdrop\u001b[1;34m(self, labels, axis, index, columns, level, inplace, errors)\u001b[0m\n\u001b[0;32m   4161\u001b[0m                 \u001b[0mweight\u001b[0m  \u001b[1;36m1.0\u001b[0m     \u001b[1;36m0.8\u001b[0m\u001b[1;33m\u001b[0m\u001b[1;33m\u001b[0m\u001b[0m\n\u001b[0;32m   4162\u001b[0m         \"\"\"\n\u001b[1;32m-> 4163\u001b[1;33m         return super().drop(\n\u001b[0m\u001b[0;32m   4164\u001b[0m             \u001b[0mlabels\u001b[0m\u001b[1;33m=\u001b[0m\u001b[0mlabels\u001b[0m\u001b[1;33m,\u001b[0m\u001b[1;33m\u001b[0m\u001b[1;33m\u001b[0m\u001b[0m\n\u001b[0;32m   4165\u001b[0m             \u001b[0maxis\u001b[0m\u001b[1;33m=\u001b[0m\u001b[0maxis\u001b[0m\u001b[1;33m,\u001b[0m\u001b[1;33m\u001b[0m\u001b[1;33m\u001b[0m\u001b[0m\n",
      "\u001b[1;32m~\\anaconda3\\lib\\site-packages\\pandas\\core\\generic.py\u001b[0m in \u001b[0;36mdrop\u001b[1;34m(self, labels, axis, index, columns, level, inplace, errors)\u001b[0m\n\u001b[0;32m   3885\u001b[0m         \u001b[1;32mfor\u001b[0m \u001b[0maxis\u001b[0m\u001b[1;33m,\u001b[0m \u001b[0mlabels\u001b[0m \u001b[1;32min\u001b[0m \u001b[0maxes\u001b[0m\u001b[1;33m.\u001b[0m\u001b[0mitems\u001b[0m\u001b[1;33m(\u001b[0m\u001b[1;33m)\u001b[0m\u001b[1;33m:\u001b[0m\u001b[1;33m\u001b[0m\u001b[1;33m\u001b[0m\u001b[0m\n\u001b[0;32m   3886\u001b[0m             \u001b[1;32mif\u001b[0m \u001b[0mlabels\u001b[0m \u001b[1;32mis\u001b[0m \u001b[1;32mnot\u001b[0m \u001b[1;32mNone\u001b[0m\u001b[1;33m:\u001b[0m\u001b[1;33m\u001b[0m\u001b[1;33m\u001b[0m\u001b[0m\n\u001b[1;32m-> 3887\u001b[1;33m                 \u001b[0mobj\u001b[0m \u001b[1;33m=\u001b[0m \u001b[0mobj\u001b[0m\u001b[1;33m.\u001b[0m\u001b[0m_drop_axis\u001b[0m\u001b[1;33m(\u001b[0m\u001b[0mlabels\u001b[0m\u001b[1;33m,\u001b[0m \u001b[0maxis\u001b[0m\u001b[1;33m,\u001b[0m \u001b[0mlevel\u001b[0m\u001b[1;33m=\u001b[0m\u001b[0mlevel\u001b[0m\u001b[1;33m,\u001b[0m \u001b[0merrors\u001b[0m\u001b[1;33m=\u001b[0m\u001b[0merrors\u001b[0m\u001b[1;33m)\u001b[0m\u001b[1;33m\u001b[0m\u001b[1;33m\u001b[0m\u001b[0m\n\u001b[0m\u001b[0;32m   3888\u001b[0m \u001b[1;33m\u001b[0m\u001b[0m\n\u001b[0;32m   3889\u001b[0m         \u001b[1;32mif\u001b[0m \u001b[0minplace\u001b[0m\u001b[1;33m:\u001b[0m\u001b[1;33m\u001b[0m\u001b[1;33m\u001b[0m\u001b[0m\n",
      "\u001b[1;32m~\\anaconda3\\lib\\site-packages\\pandas\\core\\generic.py\u001b[0m in \u001b[0;36m_drop_axis\u001b[1;34m(self, labels, axis, level, errors)\u001b[0m\n\u001b[0;32m   3919\u001b[0m                 \u001b[0mnew_axis\u001b[0m \u001b[1;33m=\u001b[0m \u001b[0maxis\u001b[0m\u001b[1;33m.\u001b[0m\u001b[0mdrop\u001b[0m\u001b[1;33m(\u001b[0m\u001b[0mlabels\u001b[0m\u001b[1;33m,\u001b[0m \u001b[0mlevel\u001b[0m\u001b[1;33m=\u001b[0m\u001b[0mlevel\u001b[0m\u001b[1;33m,\u001b[0m \u001b[0merrors\u001b[0m\u001b[1;33m=\u001b[0m\u001b[0merrors\u001b[0m\u001b[1;33m)\u001b[0m\u001b[1;33m\u001b[0m\u001b[1;33m\u001b[0m\u001b[0m\n\u001b[0;32m   3920\u001b[0m             \u001b[1;32melse\u001b[0m\u001b[1;33m:\u001b[0m\u001b[1;33m\u001b[0m\u001b[1;33m\u001b[0m\u001b[0m\n\u001b[1;32m-> 3921\u001b[1;33m                 \u001b[0mnew_axis\u001b[0m \u001b[1;33m=\u001b[0m \u001b[0maxis\u001b[0m\u001b[1;33m.\u001b[0m\u001b[0mdrop\u001b[0m\u001b[1;33m(\u001b[0m\u001b[0mlabels\u001b[0m\u001b[1;33m,\u001b[0m \u001b[0merrors\u001b[0m\u001b[1;33m=\u001b[0m\u001b[0merrors\u001b[0m\u001b[1;33m)\u001b[0m\u001b[1;33m\u001b[0m\u001b[1;33m\u001b[0m\u001b[0m\n\u001b[0m\u001b[0;32m   3922\u001b[0m             \u001b[0mresult\u001b[0m \u001b[1;33m=\u001b[0m \u001b[0mself\u001b[0m\u001b[1;33m.\u001b[0m\u001b[0mreindex\u001b[0m\u001b[1;33m(\u001b[0m\u001b[1;33m**\u001b[0m\u001b[1;33m{\u001b[0m\u001b[0maxis_name\u001b[0m\u001b[1;33m:\u001b[0m \u001b[0mnew_axis\u001b[0m\u001b[1;33m}\u001b[0m\u001b[1;33m)\u001b[0m\u001b[1;33m\u001b[0m\u001b[1;33m\u001b[0m\u001b[0m\n\u001b[0;32m   3923\u001b[0m \u001b[1;33m\u001b[0m\u001b[0m\n",
      "\u001b[1;32m~\\anaconda3\\lib\\site-packages\\pandas\\core\\indexes\\base.py\u001b[0m in \u001b[0;36mdrop\u001b[1;34m(self, labels, errors)\u001b[0m\n\u001b[0;32m   5280\u001b[0m         \u001b[1;32mif\u001b[0m \u001b[0mmask\u001b[0m\u001b[1;33m.\u001b[0m\u001b[0many\u001b[0m\u001b[1;33m(\u001b[0m\u001b[1;33m)\u001b[0m\u001b[1;33m:\u001b[0m\u001b[1;33m\u001b[0m\u001b[1;33m\u001b[0m\u001b[0m\n\u001b[0;32m   5281\u001b[0m             \u001b[1;32mif\u001b[0m \u001b[0merrors\u001b[0m \u001b[1;33m!=\u001b[0m \u001b[1;34m\"ignore\"\u001b[0m\u001b[1;33m:\u001b[0m\u001b[1;33m\u001b[0m\u001b[1;33m\u001b[0m\u001b[0m\n\u001b[1;32m-> 5282\u001b[1;33m                 \u001b[1;32mraise\u001b[0m \u001b[0mKeyError\u001b[0m\u001b[1;33m(\u001b[0m\u001b[1;34mf\"{labels[mask]} not found in axis\"\u001b[0m\u001b[1;33m)\u001b[0m\u001b[1;33m\u001b[0m\u001b[1;33m\u001b[0m\u001b[0m\n\u001b[0m\u001b[0;32m   5283\u001b[0m             \u001b[0mindexer\u001b[0m \u001b[1;33m=\u001b[0m \u001b[0mindexer\u001b[0m\u001b[1;33m[\u001b[0m\u001b[1;33m~\u001b[0m\u001b[0mmask\u001b[0m\u001b[1;33m]\u001b[0m\u001b[1;33m\u001b[0m\u001b[1;33m\u001b[0m\u001b[0m\n\u001b[0;32m   5284\u001b[0m         \u001b[1;32mreturn\u001b[0m \u001b[0mself\u001b[0m\u001b[1;33m.\u001b[0m\u001b[0mdelete\u001b[0m\u001b[1;33m(\u001b[0m\u001b[0mindexer\u001b[0m\u001b[1;33m)\u001b[0m\u001b[1;33m\u001b[0m\u001b[1;33m\u001b[0m\u001b[0m\n",
      "\u001b[1;31mKeyError\u001b[0m: '[39] not found in axis'"
     ]
    }
   ],
   "source": [
    "corr_filtered = corr[abs(corr) >= 0.4].stack().reset_index() # filter out low correlation values\n",
    "corr_filtered.columns = ['Pair1', 'Pair2', 'Coefficient'] # renaming columns\n",
    "corr_filtered = corr_filtered.sort_values(kind=\"quicksort\", by='Coefficient') # sorting rows by \"Coefficient\"\n",
    "corr_filtered = corr_filtered.drop([23,25,24,39]) # dropping values that are the exact opposites of each other\n",
    "corr_filtered['Pair'] = corr_filtered.agg('{0[Pair1]} / {0[Pair2]}'.format, axis=1) # concetenate the pair columns\n",
    "corr_filtered = corr_filtered.set_index('Pair') # change index to Pair"
   ]
  },
  {
   "cell_type": "code",
   "execution_count": 43,
   "metadata": {},
   "outputs": [
    {
     "data": {
      "image/png": "[encoded data removed]",
      "text/plain": [
       "<Figure size 720x720 with 1 Axes>"
      ]
     },
     "metadata": {
      "needs_background": "light"
     },
     "output_type": "display_data"
    }
   ],
   "source": [
    "corr_filtered.plot(kind='barh', figsize=(10,10), fontsize=12);"
   ]
  },
  {
   "cell_type": "code",
   "execution_count": 13,
   "metadata": {},
   "outputs": [],
   "source": [
    "dummies_norm.pop('satisfaction_neutral or dissatisfied')\n",
    "y = dummies_norm.pop('satisfaction_satisfied')\n",
    "x = dummies_norm"
   ]
  },
  {
   "cell_type": "code",
   "execution_count": 14,
   "metadata": {},
   "outputs": [
    {
     "data": {
      "text/plain": [
       "2798469"
      ]
     },
     "execution_count": 14,
     "metadata": {},
     "output_type": "execute_result"
    }
   ],
   "source": [
    "from sklearn.model_selection import train_test_split\n",
    "X_train, X_test, y_train, y_test = train_test_split(x, y, test_size=0.2, random_state=0)\n",
    "X_train.size"
   ]
  },
  {
   "cell_type": "code",
   "execution_count": 15,
   "metadata": {},
   "outputs": [
    {
     "data": {
      "text/plain": [
       "(103647, 27)"
      ]
     },
     "execution_count": 15,
     "metadata": {},
     "output_type": "execute_result"
    }
   ],
   "source": [
    "X_train.shape"
   ]
  },
  {
   "cell_type": "code",
   "execution_count": 16,
   "metadata": {},
   "outputs": [
    {
     "data": {
      "text/plain": [
       "(25912, 27)"
      ]
     },
     "execution_count": 16,
     "metadata": {},
     "output_type": "execute_result"
    }
   ],
   "source": [
    "X_test.shape"
   ]
  },
  {
   "cell_type": "code",
   "execution_count": 48,
   "metadata": {},
   "outputs": [],
   "source": [
    "from sklearn.linear_model import LinearRegression, Lasso, Ridge, ElasticNet\n",
    "from sklearn.model_selection import cross_val_score\n",
    "\n",
    "results = {'alpha':[],'OLS':[],'Lasso':[],'Ridge':[],'Elastic':[]}\n",
    "n = 10\n",
    "for a in np.linspace(0.01, 1, num=10):\n",
    "  results['alpha'].append(a)\n",
    "  for name,met in [\n",
    "          ('OLS', LinearRegression()),\n",
    "          ('Lasso', Lasso(fit_intercept=True, alpha=a)),\n",
    "          ('Ridge', Ridge(fit_intercept=True, alpha=a)),\n",
    "          ('Elastic', ElasticNet(fit_intercept=True, alpha=a))\n",
    "          ]:\n",
    "      results[name].append(abs(cross_val_score(met, x, y, cv=n,scoring='neg_root_mean_squared_error').mean()))\n",
    "\n",
    "results = pd.DataFrame.from_dict(results)"
   ]
  },
  {
   "cell_type": "code",
   "execution_count": 49,
   "metadata": {},
   "outputs": [
    {
     "data": {
      "text/plain": [
       "<matplotlib.legend.Legend at 0x2b61e597550>"
      ]
     },
     "execution_count": 49,
     "metadata": {},
     "output_type": "execute_result"
    },
    {
     "data": {
      "image/png": "[encoded data removed]",
      "text/plain": [
       "<Figure size 432x288 with 1 Axes>"
      ]
     },
     "metadata": {
      "needs_background": "light"
     },
     "output_type": "display_data"
    }
   ],
   "source": [
    "import matplotlib.pyplot as plt\n",
    "\n",
    "plt.plot(results['alpha'],results['Lasso'],label='Lasso')\n",
    "plt.plot(results['alpha'],results['OLS'],label='OLS')\n",
    "plt.plot(results['alpha'],results['Ridge'],label='Ridge')\n",
    "plt.plot(results['alpha'],results['Elastic'],label='Elastic')\n",
    "plt.legend()"
   ]
  },
  {
   "cell_type": "code",
   "execution_count": 18,
   "metadata": {},
   "outputs": [],
   "source": [
    "from sklearn.linear_model import LinearRegression, Lasso, Ridge, ElasticNet\n",
    "from sklearn.model_selection import cross_val_score\n",
    "# XG Boost random forest with hyperparameter optimization\n",
    "# grid search\n",
    "from sklearn.model_selection import RandomizedSearchCV\n",
    "\n",
    "# Number of trees in random forest\n",
    "n_estimators = [int(x) for x in np.linspace(start = 200, stop = 2500, num = 20)]\n",
    "\n",
    "# Number of features to consider at every split\n",
    "max_features = ['auto', 'sqrt']\n",
    "\n",
    "# Maximum number of levels in tree\n",
    "max_depth = [int(x) for x in np.linspace(10, 110, num = 11)]\n",
    "max_depth.append(None)\n",
    "\n",
    "# Minimum number of samples required to split a node\n",
    "min_samples_split = [2,3,4,5,6,7,8,9,10]\n",
    "\n",
    "# Minimum number of samples required at each leaf node\n",
    "min_samples_leaf = [1, 2,3, 4,5,6]\n",
    "\n",
    "#for later use in regularized gradient boost\n",
    "alpha = [0.5,1,5]"
   ]
  },
  {
   "cell_type": "code",
   "execution_count": 51,
   "metadata": {},
   "outputs": [
    {
     "data": {
      "text/plain": [
       "[200,\n",
       " 321,\n",
       " 442,\n",
       " 563,\n",
       " 684,\n",
       " 805,\n",
       " 926,\n",
       " 1047,\n",
       " 1168,\n",
       " 1289,\n",
       " 1410,\n",
       " 1531,\n",
       " 1652,\n",
       " 1773,\n",
       " 1894,\n",
       " 2015,\n",
       " 2136,\n",
       " 2257,\n",
       " 2378,\n",
       " 2500]"
      ]
     },
     "execution_count": 51,
     "metadata": {},
     "output_type": "execute_result"
    }
   ],
   "source": [
    "n_estimators"
   ]
  },
  {
   "cell_type": "code",
   "execution_count": 20,
   "metadata": {},
   "outputs": [],
   "source": [
    "def modelOptimization(clf,grid,x,y):\n",
    "        # Random Grid Search Using 5-fold Cross Validation\n",
    "\n",
    "        clfmodel = RandomizedSearchCV(estimator = clf,param_distributions = grid, n_iter =50, cv=3,verbose =1, random_state=2021,n_jobs=-1)\n",
    "\n",
    "        clfmodel.fit(x,y)\n",
    "        print('Model Best Score: \\n',clfmodel.best_score_)\n",
    "        print('Model Best Parameters: \\n',clfmodel.best_params_)"
   ]
  },
  {
   "cell_type": "code",
   "execution_count": null,
   "metadata": {},
   "outputs": [
    {
     "name": "stdout",
     "output_type": "stream",
     "text": [
      "Fitting 3 folds for each of 50 candidates, totalling 150 fits\n"
     ]
    },
    {
     "name": "stderr",
     "output_type": "stream",
     "text": [
      "[Parallel(n_jobs=-1)]: Using backend LokyBackend with 16 concurrent workers.\n"
     ]
    }
   ],
   "source": [
    "# XG Boost\n",
    "\n",
    "# Training\n",
    "import xgboost as xgb\n",
    "from sklearn.metrics import mean_squared_error\n",
    "\n",
    "gb = xgb.XGBClassifier()\n",
    "\n",
    "# Grid\n",
    "gbgrid = {'n_estimators': n_estimators,    # optimizing number of trees and tree depth\n",
    "               'max_depth': max_depth,\n",
    "               'eval_metric': ['error'],\n",
    "                 'alpha:': alpha}\n",
    "modelOptimization(gb,gbgrid,x,y)"
   ]
  },
  {
   "cell_type": "code",
   "execution_count": null,
   "metadata": {},
   "outputs": [
    {
     "name": "stdout",
     "output_type": "stream",
     "text": [
      "Fitting 3 folds for each of 50 candidates, totalling 150 fits\n"
     ]
    }
   ],
   "source": [
    "# AdaBoost\n",
    "from sklearn.ensemble import AdaBoostClassifier\n",
    "ada = AdaBoostClassifier()\n",
    "# Grid\n",
    "adagrid = {   # optimizing number of trees and tree depth\n",
    "               'n_estimators':n_estimators,\n",
    "                'learning_rate':[0.1,0.5,1,2,3],\n",
    "                'algorithm':['SAMME','SAMME.R']}\n",
    "modelOptimization(ada,adagrid,x,y)"
   ]
  },
  {
   "cell_type": "code",
   "execution_count": null,
   "metadata": {},
   "outputs": [],
   "source": [
    ">>> from sklearn import datasets, linear_model,metrics\n",
    ">>> from sklearn.model_selection import cross_validate\n",
    ">>> from sklearn.metrics import make_scorer\n",
    ">>> from sklearn.metrics import confusion_matrix, accuracy_score\n"
   ]
  },
  {
   "cell_type": "code",
   "execution_count": null,
   "metadata": {},
   "outputs": [],
   "source": [
    "bestxgb=xgb.XGBClassifier(n_estimators=200,max_depth=40,eval_metric='logloss',alpha=1)\n",
    "cv_results = cross_validate(bestxgb,x,y,cv=5,\n",
    "                           scoring=('r2','neg_mean_squared_error','accuracy'),\n",
    "                           return_train_score=True)\n",
    "print(cv_results['test_neg_mean_squared_error'])\n",
    "print(cv_results['test_r2'])\n",
    "print(cv_results['accuracy'])"
   ]
  },
  {
   "cell_type": "code",
   "execution_count": null,
   "metadata": {},
   "outputs": [],
   "source": [
    "print(cv_results['test_neg_mean_squared_error'])\n",
    "print(cv_results['test_r2'])\n",
    "print(cv_results['accuracy'])"
   ]
  },
  {
   "cell_type": "code",
   "execution_count": null,
   "metadata": {},
   "outputs": [],
   "source": [
    "def fit_predict_score(clf):\n",
    "    \"\"\"Predicts the average accuracy score of a classifier clf and outputs a confusion matrix.\"\"\"\n",
    "    clf.fit(X_train, np.ravel(y_train)) # fitting the model to the training data\n",
    "    predicted = clf.predict(X_test) #getting predicted values\n",
    "    \n",
    "    #cross tabulation of predicted and actual values produces the correlation matrix\n",
    "    confusion_matrix =  pd.crosstab(index=np.ravel(y_test), columns=predicted.ravel(), rownames=['Expected'], colnames=['Predicted'])\n",
    "    sns.heatmap(confusion_matrix, annot=True, square=False, fmt='', cbar=False)\n",
    "    accuracy = np.round(metrics.accuracy_score(y_test , predicted),3)\n",
    "    plt.title(clf , fontsize = 12)\n",
    "    plt.suptitle(accuracy)\n",
    "    plt.show()\n",
    "    print (metrics.classification_report(y_test,predicted))"
   ]
  },
  {
   "cell_type": "code",
   "execution_count": null,
   "metadata": {},
   "outputs": [],
   "source": [
    "def roccurve(clf):\n",
    "# crea`ting roc curve\n",
    "    predicted = clf.predict(X_test) #getting y hat\n",
    "    fpr,tpr,_ = metrics.roc_curve(y_test,predicted)  #comparing y hat and the actuall y \n",
    "    #plotting\n",
    "    plt.title('ROC Curve')\n",
    "    plt.plot(fpr,tpr)\n",
    "    plt.ylabel('True Positive Rate')\n",
    "    plt.xlabel('False Positive Rate')\n",
    "    plt.show()"
   ]
  },
  {
   "cell_type": "code",
   "execution_count": null,
   "metadata": {},
   "outputs": [],
   "source": [
    "def prcurve(clf):\n",
    "    predicted = clf.predict(X_test)\n",
    "    precision,recall,_ = precision_recall_curve(y_test,predicted)\n",
    "    #plotting\n",
    "    plt.plot(recall,precision)\n",
    "    plt.xlabel('Recall')\n",
    "    plt.ylabel('Precision')\n",
    "    plt.title(\"Precision Recall Curve\")\n",
    "    plt.show()"
   ]
  },
  {
   "cell_type": "code",
   "execution_count": null,
   "metadata": {},
   "outputs": [],
   "source": [
    "def metrics_report(model):\n",
    "        fit_predict_score(model)\n",
    "        roccurve(model)\n",
    "        prcurve(model)"
   ]
  },
  {
   "cell_type": "code",
   "execution_count": null,
   "metadata": {},
   "outputs": [],
   "source": [
    "metrics_report(bestxgb)"
   ]
  },
  {
   "cell_type": "code",
   "execution_count": null,
   "metadata": {},
   "outputs": [],
   "source": []
  }
 ],
 "metadata": {
  "kernelspec": {
   "display_name": "Python 3",
   "language": "python",
   "name": "python3"
  },
  "language_info": {
   "codemirror_mode": {
    "name": "ipython",
    "version": 3
   },
   "file_extension": ".py",
   "mimetype": "text/x-python",
   "name": "python",
   "nbconvert_exporter": "python",
   "pygments_lexer": "ipython3",
   "version": "3.8.5"
  }
 },
 "nbformat": 4,
 "nbformat_minor": 4
}
