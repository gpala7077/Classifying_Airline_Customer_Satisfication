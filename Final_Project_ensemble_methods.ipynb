{
 "cells": [
  {
   "cell_type": "markdown",
   "metadata": {},
   "source": [
    "# Ensemble Methods"
   ]
  },
  {
   "cell_type": "code",
   "execution_count": 1,
   "metadata": {},
   "outputs": [],
   "source": [
    "import pandas as pd\n",
    "import numpy as np\n",
    "from matplotlib import pyplot as plt\n",
    "import sklearn"
   ]
  },
  {
   "cell_type": "code",
   "execution_count": 2,
   "metadata": {},
   "outputs": [
    {
     "name": "stdout",
     "output_type": "stream",
     "text": [
      "jupyter core     : 4.6.3\n",
      "jupyter-notebook : 6.1.4\n",
      "qtconsole        : 4.7.7\n",
      "ipython          : 7.19.0\n",
      "ipykernel        : 5.3.4\n",
      "jupyter client   : 6.1.7\n",
      "jupyter lab      : 2.2.6\n",
      "nbconvert        : 6.0.7\n",
      "ipywidgets       : 7.5.1\n",
      "nbformat         : 5.0.8\n",
      "traitlets        : 5.0.5\n"
     ]
    }
   ],
   "source": [
    "!jupyter --version"
   ]
  },
  {
   "cell_type": "code",
   "execution_count": 3,
   "metadata": {},
   "outputs": [
    {
     "name": "stdout",
     "output_type": "stream",
     "text": [
      "Python 3.8.5\n"
     ]
    }
   ],
   "source": [
    "!python --version"
   ]
  },
  {
   "cell_type": "code",
   "execution_count": 4,
   "metadata": {},
   "outputs": [],
   "source": [
    "# Importing Data"
   ]
  },
  {
   "cell_type": "code",
   "execution_count": 5,
   "metadata": {},
   "outputs": [],
   "source": [
    "data = pd.read_csv('data/aviation_data.csv', index_col='id')\n",
    "data = data.drop(data.columns[0], axis=1) # dropping an index column"
   ]
  },
  {
   "cell_type": "code",
   "execution_count": 6,
   "metadata": {},
   "outputs": [
    {
     "name": "stdout",
     "output_type": "stream",
     "text": [
      "This dataset contains 129880 observations and 23 attributes\n"
     ]
    }
   ],
   "source": [
    "print('This dataset contains {} observations and {} attributes'.format(*data.shape))"
   ]
  },
  {
   "cell_type": "code",
   "execution_count": 7,
   "metadata": {},
   "outputs": [],
   "source": [
    "# 80/20 split\n",
    "X_train = np.load('data/X_train_s.npy')   # X values have been standardized\n",
    "X_test = np.load('data/X_test_s.npy')\n",
    "y_train = np.load('data/y_train.npy')\n",
    "y_test = np.load('data/y_test.npy')"
   ]
  },
  {
   "cell_type": "code",
   "execution_count": 8,
   "metadata": {},
   "outputs": [
    {
     "data": {
      "text/plain": [
       "(103589, 27)"
      ]
     },
     "execution_count": 8,
     "metadata": {},
     "output_type": "execute_result"
    }
   ],
   "source": [
    "X_train.shape"
   ]
  },
  {
   "cell_type": "code",
   "execution_count": 9,
   "metadata": {},
   "outputs": [
    {
     "data": {
      "text/plain": [
       "(25898, 27)"
      ]
     },
     "execution_count": 9,
     "metadata": {},
     "output_type": "execute_result"
    }
   ],
   "source": [
    "X_test.shape"
   ]
  },
  {
   "cell_type": "markdown",
   "metadata": {},
   "source": [
    "# Boosting - XG Boost, Adaboost,CatBoost"
   ]
  },
  {
   "cell_type": "markdown",
   "metadata": {},
   "source": [
    "### Hyperparameter Tuning\n",
    "\n",
    "#### Initializing Grid Search"
   ]
  },
  {
   "cell_type": "code",
   "execution_count": 10,
   "metadata": {},
   "outputs": [],
   "source": [
    "from sklearn.model_selection import cross_val_score\n",
    "from sklearn.model_selection import RandomizedSearchCV,GridSearchCV"
   ]
  },
  {
   "cell_type": "code",
   "execution_count": 11,
   "metadata": {},
   "outputs": [],
   "source": [
    "def modelOptimization(clf,grid,x,y):\n",
    "        #Input is the classifier,grid,x,and y.\n",
    "        #performs Random Grid Search Using 5-fold Cross Validation\n",
    "        #outputs the best model and accuracy\n",
    "        clfmodel = RandomizedSearchCV(estimator = clf,n_iter=200,param_distributions = grid,scoring='accuracy', cv=3,verbose =1, random_state=2021,n_jobs=-1)\n",
    "        clfmodel.fit(x,y)\n",
    "        print('Model Best Score: \\n',clfmodel.best_score_)\n",
    "        print('Model Best Parameters: \\n',clfmodel.best_params_)"
   ]
  },
  {
   "cell_type": "markdown",
   "metadata": {},
   "source": [
    "### XG Boost"
   ]
  },
  {
   "cell_type": "code",
   "execution_count": 12,
   "metadata": {},
   "outputs": [],
   "source": [
    "import xgboost as xgb\n",
    "from sklearn.metrics import mean_squared_error"
   ]
  },
  {
   "cell_type": "code",
   "execution_count": 15,
   "metadata": {},
   "outputs": [
    {
     "name": "stdout",
     "output_type": "stream",
     "text": [
      "Fitting 3 folds for each of 200 candidates, totalling 600 fits\n"
     ]
    },
    {
     "name": "stderr",
     "output_type": "stream",
     "text": [
      "[Parallel(n_jobs=-1)]: Using backend LokyBackend with 16 concurrent workers.\n",
      "[Parallel(n_jobs=-1)]: Done  18 tasks      | elapsed:   22.3s\n",
      "[Parallel(n_jobs=-1)]: Done 168 tasks      | elapsed:  2.2min\n",
      "[Parallel(n_jobs=-1)]: Done 418 tasks      | elapsed:  5.3min\n",
      "[Parallel(n_jobs=-1)]: Done 600 out of 600 | elapsed:  7.8min finished\n",
      "C:\\Users\\Edvinas\\anaconda3\\lib\\site-packages\\xgboost\\sklearn.py:888: UserWarning: The use of label encoder in XGBClassifier is deprecated and will be removed in a future release. To remove this warning, do the following: 1) Pass option use_label_encoder=False when constructing XGBClassifier object; and 2) Encode your labels (y) as integers starting with 0, i.e. 0, 1, 2, ..., [num_class - 1].\n",
      "  warnings.warn(label_encoder_deprecation_msg, UserWarning)\n"
     ]
    },
    {
     "name": "stdout",
     "output_type": "stream",
     "text": [
      "[21:29:34] WARNING: C:/Users/Administrator/workspace/xgboost-win64_release_1.3.0/src/learner.cc:541: \n",
      "Parameters: { alpha: } might not be used.\n",
      "\n",
      "  This may not be accurate due to some parameters are only used in language bindings but\n",
      "  passed down to XGBoost core.  Or some parameters are not used but slip through this\n",
      "  verification. Please open an issue if you find above cases.\n",
      "\n",
      "\n",
      "[21:29:34] WARNING: C:/Users/Administrator/workspace/xgboost-win64_release_1.3.0/src/learner.cc:1061: Starting in XGBoost 1.3.0, the default evaluation metric used with the objective 'binary:logistic' was changed from 'error' to 'logloss'. Explicitly set eval_metric if you'd like to restore the old behavior.\n",
      "Model Best Score: \n",
      " 0.9632682859571732\n",
      "Model Best Parameters: \n",
      " {'subsample': 1.0, 'n_estimators': 73, 'max_depth': None, 'colsample_bytree': 1.0, 'alpha:': 1}\n"
     ]
    }
   ],
   "source": [
    "# XG Boost gridsearch\n",
    "\n",
    "# Training\n",
    "\n",
    "\n",
    "gb = xgb.XGBClassifier()\n",
    "\n",
    "# Grid\n",
    "gbgrid = {'n_estimators': [int(x) for x in np.linspace(start = 5, stop = 101, num = 25)],    # optimizing number of trees and tree depth\n",
    "               'max_depth': [9,10,11,12,None],\n",
    "              'subsample':[i/10 for i in range (7,11)],\n",
    "               'colsample_bytree': [i/10 for i in range (7,11)],\n",
    "                 'alpha:': [0.5,1,5]}\n",
    "modelOptimization(gb,gbgrid,X_train,y_train)"
   ]
  },
  {
   "cell_type": "markdown",
   "metadata": {},
   "source": [
    "### AdaBoost"
   ]
  },
  {
   "cell_type": "code",
   "execution_count": 13,
   "metadata": {},
   "outputs": [],
   "source": [
    "from sklearn.ensemble import AdaBoostClassifier"
   ]
  },
  {
   "cell_type": "code",
   "execution_count": 16,
   "metadata": {},
   "outputs": [
    {
     "name": "stdout",
     "output_type": "stream",
     "text": [
      "Fitting 3 folds for each of 200 candidates, totalling 600 fits\n"
     ]
    },
    {
     "name": "stderr",
     "output_type": "stream",
     "text": [
      "[Parallel(n_jobs=-1)]: Using backend LokyBackend with 16 concurrent workers.\n",
      "[Parallel(n_jobs=-1)]: Done  18 tasks      | elapsed:    7.3s\n",
      "[Parallel(n_jobs=-1)]: Done 168 tasks      | elapsed:  2.5min\n",
      "[Parallel(n_jobs=-1)]: Done 418 tasks      | elapsed:  6.6min\n",
      "[Parallel(n_jobs=-1)]: Done 600 out of 600 | elapsed:  9.3min finished\n"
     ]
    },
    {
     "name": "stdout",
     "output_type": "stream",
     "text": [
      "Model Best Score: \n",
      " 0.9289596399562967\n",
      "Model Best Parameters: \n",
      " {'n_estimators': 97, 'learning_rate': 1, 'algorithm': 'SAMME.R'}\n"
     ]
    }
   ],
   "source": [
    "# AdaBoost random gridsearch\n",
    "\n",
    "ada = AdaBoostClassifier()\n",
    "# Grid\n",
    "adagrid = {   # optimizing number of trees and tree depth\n",
    "               'n_estimators': [int(x) for x in np.linspace(start = 5, stop = 101, num = 25)],\n",
    "                'learning_rate':[0.001,0.1,0.5,1,2,3],\n",
    "                'algorithm':['SAMME','SAMME.R']}\n",
    "modelOptimization(ada,adagrid,X_train,y_train)"
   ]
  },
  {
   "cell_type": "markdown",
   "metadata": {},
   "source": [
    "### CatBoost"
   ]
  },
  {
   "cell_type": "code",
   "execution_count": 14,
   "metadata": {},
   "outputs": [],
   "source": [
    "import catboost as cb"
   ]
  },
  {
   "cell_type": "code",
   "execution_count": 21,
   "metadata": {},
   "outputs": [
    {
     "name": "stdout",
     "output_type": "stream",
     "text": [
      "Fitting 3 folds for each of 200 candidates, totalling 600 fits\n"
     ]
    },
    {
     "name": "stderr",
     "output_type": "stream",
     "text": [
      "[Parallel(n_jobs=-1)]: Using backend LokyBackend with 16 concurrent workers.\n",
      "[Parallel(n_jobs=-1)]: Done  18 tasks      | elapsed:   21.5s\n",
      "[Parallel(n_jobs=-1)]: Done 168 tasks      | elapsed: 13.5min\n",
      "[Parallel(n_jobs=-1)]: Done 418 tasks      | elapsed: 40.2min\n",
      "[Parallel(n_jobs=-1)]: Done 600 out of 600 | elapsed: 60.0min finished\n"
     ]
    },
    {
     "name": "stdout",
     "output_type": "stream",
     "text": [
      "0:\tlearn: 0.6169770\ttotal: 60.1ms\tremaining: 8.96s\n",
      "1:\tlearn: 0.5333182\ttotal: 122ms\tremaining: 9.03s\n",
      "2:\tlearn: 0.4662597\ttotal: 186ms\tremaining: 9.14s\n",
      "3:\tlearn: 0.4243581\ttotal: 250ms\tremaining: 9.13s\n",
      "4:\tlearn: 0.3885085\ttotal: 311ms\tremaining: 9.02s\n",
      "5:\tlearn: 0.3459653\ttotal: 370ms\tremaining: 8.88s\n",
      "6:\tlearn: 0.3127338\ttotal: 433ms\tremaining: 8.84s\n",
      "7:\tlearn: 0.2860257\ttotal: 493ms\tremaining: 8.74s\n",
      "8:\tlearn: 0.2629254\ttotal: 550ms\tremaining: 8.62s\n",
      "9:\tlearn: 0.2476565\ttotal: 611ms\tremaining: 8.55s\n",
      "10:\tlearn: 0.2288488\ttotal: 672ms\tremaining: 8.49s\n",
      "11:\tlearn: 0.2152729\ttotal: 731ms\tremaining: 8.41s\n",
      "12:\tlearn: 0.2061652\ttotal: 795ms\tremaining: 8.38s\n",
      "13:\tlearn: 0.1986240\ttotal: 860ms\tremaining: 8.35s\n",
      "14:\tlearn: 0.1872202\ttotal: 919ms\tremaining: 8.27s\n",
      "15:\tlearn: 0.1800384\ttotal: 983ms\tremaining: 8.23s\n",
      "16:\tlearn: 0.1743572\ttotal: 1.04s\tremaining: 8.16s\n",
      "17:\tlearn: 0.1697610\ttotal: 1.1s\tremaining: 8.09s\n",
      "18:\tlearn: 0.1653433\ttotal: 1.17s\tremaining: 8.06s\n",
      "19:\tlearn: 0.1604583\ttotal: 1.23s\tremaining: 8s\n",
      "20:\tlearn: 0.1562438\ttotal: 1.3s\tremaining: 7.96s\n",
      "21:\tlearn: 0.1526950\ttotal: 1.36s\tremaining: 7.9s\n",
      "22:\tlearn: 0.1490689\ttotal: 1.42s\tremaining: 7.84s\n",
      "23:\tlearn: 0.1458548\ttotal: 1.48s\tremaining: 7.78s\n",
      "24:\tlearn: 0.1426027\ttotal: 1.54s\tremaining: 7.73s\n",
      "25:\tlearn: 0.1400227\ttotal: 1.61s\tremaining: 7.7s\n",
      "26:\tlearn: 0.1376752\ttotal: 1.69s\tremaining: 7.68s\n",
      "27:\tlearn: 0.1356932\ttotal: 1.75s\tremaining: 7.65s\n",
      "28:\tlearn: 0.1322527\ttotal: 1.82s\tremaining: 7.6s\n",
      "29:\tlearn: 0.1306766\ttotal: 1.88s\tremaining: 7.54s\n",
      "30:\tlearn: 0.1282701\ttotal: 1.95s\tremaining: 7.48s\n",
      "31:\tlearn: 0.1264920\ttotal: 2.01s\tremaining: 7.4s\n",
      "32:\tlearn: 0.1245698\ttotal: 2.07s\tremaining: 7.34s\n",
      "33:\tlearn: 0.1233232\ttotal: 2.14s\tremaining: 7.3s\n",
      "34:\tlearn: 0.1220452\ttotal: 2.2s\tremaining: 7.23s\n",
      "35:\tlearn: 0.1205063\ttotal: 2.26s\tremaining: 7.16s\n",
      "36:\tlearn: 0.1188323\ttotal: 2.32s\tremaining: 7.09s\n",
      "37:\tlearn: 0.1174888\ttotal: 2.38s\tremaining: 7.02s\n",
      "38:\tlearn: 0.1164697\ttotal: 2.44s\tremaining: 6.96s\n",
      "39:\tlearn: 0.1153866\ttotal: 2.5s\tremaining: 6.89s\n",
      "40:\tlearn: 0.1145718\ttotal: 2.56s\tremaining: 6.82s\n",
      "41:\tlearn: 0.1133881\ttotal: 2.62s\tremaining: 6.74s\n",
      "42:\tlearn: 0.1121503\ttotal: 2.69s\tremaining: 6.68s\n",
      "43:\tlearn: 0.1113425\ttotal: 2.75s\tremaining: 6.62s\n",
      "44:\tlearn: 0.1104206\ttotal: 2.81s\tremaining: 6.56s\n",
      "45:\tlearn: 0.1095867\ttotal: 2.87s\tremaining: 6.5s\n",
      "46:\tlearn: 0.1087853\ttotal: 2.94s\tremaining: 6.45s\n",
      "47:\tlearn: 0.1079030\ttotal: 3s\tremaining: 6.38s\n",
      "48:\tlearn: 0.1071200\ttotal: 3.06s\tremaining: 6.32s\n",
      "49:\tlearn: 0.1062051\ttotal: 3.13s\tremaining: 6.25s\n",
      "50:\tlearn: 0.1057761\ttotal: 3.19s\tremaining: 6.19s\n",
      "51:\tlearn: 0.1052827\ttotal: 3.25s\tremaining: 6.12s\n",
      "52:\tlearn: 0.1045519\ttotal: 3.31s\tremaining: 6.05s\n",
      "53:\tlearn: 0.1041163\ttotal: 3.37s\tremaining: 5.99s\n",
      "54:\tlearn: 0.1035764\ttotal: 3.43s\tremaining: 5.92s\n",
      "55:\tlearn: 0.1030901\ttotal: 3.49s\tremaining: 5.86s\n",
      "56:\tlearn: 0.1025495\ttotal: 3.55s\tremaining: 5.8s\n",
      "57:\tlearn: 0.1015727\ttotal: 3.61s\tremaining: 5.73s\n",
      "58:\tlearn: 0.1007611\ttotal: 3.67s\tremaining: 5.66s\n",
      "59:\tlearn: 0.1000010\ttotal: 3.73s\tremaining: 5.6s\n",
      "60:\tlearn: 0.0993198\ttotal: 3.8s\tremaining: 5.54s\n",
      "61:\tlearn: 0.0987548\ttotal: 3.86s\tremaining: 5.48s\n",
      "62:\tlearn: 0.0982838\ttotal: 3.93s\tremaining: 5.42s\n",
      "63:\tlearn: 0.0979235\ttotal: 3.99s\tremaining: 5.36s\n",
      "64:\tlearn: 0.0976326\ttotal: 4.05s\tremaining: 5.3s\n",
      "65:\tlearn: 0.0971736\ttotal: 4.12s\tremaining: 5.24s\n",
      "66:\tlearn: 0.0967787\ttotal: 4.18s\tremaining: 5.18s\n",
      "67:\tlearn: 0.0962406\ttotal: 4.25s\tremaining: 5.13s\n",
      "68:\tlearn: 0.0960022\ttotal: 4.31s\tremaining: 5.06s\n",
      "69:\tlearn: 0.0955404\ttotal: 4.37s\tremaining: 5s\n",
      "70:\tlearn: 0.0949071\ttotal: 4.44s\tremaining: 4.94s\n",
      "71:\tlearn: 0.0946807\ttotal: 4.5s\tremaining: 4.87s\n",
      "72:\tlearn: 0.0942282\ttotal: 4.56s\tremaining: 4.81s\n",
      "73:\tlearn: 0.0938279\ttotal: 4.62s\tremaining: 4.75s\n",
      "74:\tlearn: 0.0934189\ttotal: 4.68s\tremaining: 4.68s\n",
      "75:\tlearn: 0.0930747\ttotal: 4.75s\tremaining: 4.62s\n",
      "76:\tlearn: 0.0927078\ttotal: 4.81s\tremaining: 4.56s\n",
      "77:\tlearn: 0.0924329\ttotal: 4.87s\tremaining: 4.5s\n",
      "78:\tlearn: 0.0921021\ttotal: 4.93s\tremaining: 4.43s\n",
      "79:\tlearn: 0.0917614\ttotal: 5s\tremaining: 4.37s\n",
      "80:\tlearn: 0.0915024\ttotal: 5.05s\tremaining: 4.3s\n",
      "81:\tlearn: 0.0912947\ttotal: 5.12s\tremaining: 4.24s\n",
      "82:\tlearn: 0.0908924\ttotal: 5.18s\tremaining: 4.18s\n",
      "83:\tlearn: 0.0905104\ttotal: 5.25s\tremaining: 4.12s\n",
      "84:\tlearn: 0.0902927\ttotal: 5.31s\tremaining: 4.06s\n",
      "85:\tlearn: 0.0900504\ttotal: 5.37s\tremaining: 4s\n",
      "86:\tlearn: 0.0896678\ttotal: 5.44s\tremaining: 3.94s\n",
      "87:\tlearn: 0.0894500\ttotal: 5.5s\tremaining: 3.88s\n",
      "88:\tlearn: 0.0890888\ttotal: 5.57s\tremaining: 3.81s\n",
      "89:\tlearn: 0.0887586\ttotal: 5.63s\tremaining: 3.75s\n",
      "90:\tlearn: 0.0884432\ttotal: 5.69s\tremaining: 3.69s\n",
      "91:\tlearn: 0.0882300\ttotal: 5.75s\tremaining: 3.63s\n",
      "92:\tlearn: 0.0879931\ttotal: 5.82s\tremaining: 3.57s\n",
      "93:\tlearn: 0.0877641\ttotal: 5.88s\tremaining: 3.5s\n",
      "94:\tlearn: 0.0874692\ttotal: 5.95s\tremaining: 3.44s\n",
      "95:\tlearn: 0.0872072\ttotal: 6.01s\tremaining: 3.38s\n",
      "96:\tlearn: 0.0869974\ttotal: 6.07s\tremaining: 3.32s\n",
      "97:\tlearn: 0.0867854\ttotal: 6.14s\tremaining: 3.26s\n",
      "98:\tlearn: 0.0866091\ttotal: 6.2s\tremaining: 3.19s\n",
      "99:\tlearn: 0.0862834\ttotal: 6.27s\tremaining: 3.13s\n",
      "100:\tlearn: 0.0859974\ttotal: 6.33s\tremaining: 3.07s\n",
      "101:\tlearn: 0.0855839\ttotal: 6.4s\tremaining: 3.01s\n",
      "102:\tlearn: 0.0854118\ttotal: 6.46s\tremaining: 2.95s\n",
      "103:\tlearn: 0.0849429\ttotal: 6.52s\tremaining: 2.88s\n",
      "104:\tlearn: 0.0846163\ttotal: 6.57s\tremaining: 2.82s\n",
      "105:\tlearn: 0.0844232\ttotal: 6.63s\tremaining: 2.75s\n",
      "106:\tlearn: 0.0842389\ttotal: 6.69s\tremaining: 2.69s\n",
      "107:\tlearn: 0.0839417\ttotal: 6.75s\tremaining: 2.63s\n",
      "108:\tlearn: 0.0837296\ttotal: 6.82s\tremaining: 2.56s\n",
      "109:\tlearn: 0.0834972\ttotal: 6.88s\tremaining: 2.5s\n",
      "110:\tlearn: 0.0831796\ttotal: 6.96s\tremaining: 2.44s\n",
      "111:\tlearn: 0.0830162\ttotal: 7.02s\tremaining: 2.38s\n",
      "112:\tlearn: 0.0828058\ttotal: 7.08s\tremaining: 2.32s\n",
      "113:\tlearn: 0.0825963\ttotal: 7.14s\tremaining: 2.26s\n",
      "114:\tlearn: 0.0823752\ttotal: 7.2s\tremaining: 2.19s\n",
      "115:\tlearn: 0.0821927\ttotal: 7.26s\tremaining: 2.13s\n",
      "116:\tlearn: 0.0820212\ttotal: 7.32s\tremaining: 2.06s\n",
      "117:\tlearn: 0.0817093\ttotal: 7.38s\tremaining: 2s\n",
      "118:\tlearn: 0.0815468\ttotal: 7.43s\tremaining: 1.94s\n",
      "119:\tlearn: 0.0814433\ttotal: 7.49s\tremaining: 1.87s\n",
      "120:\tlearn: 0.0813557\ttotal: 7.55s\tremaining: 1.81s\n",
      "121:\tlearn: 0.0811940\ttotal: 7.61s\tremaining: 1.75s\n",
      "122:\tlearn: 0.0810570\ttotal: 7.67s\tremaining: 1.68s\n",
      "123:\tlearn: 0.0808956\ttotal: 7.72s\tremaining: 1.62s\n",
      "124:\tlearn: 0.0807559\ttotal: 7.78s\tremaining: 1.56s\n",
      "125:\tlearn: 0.0805343\ttotal: 7.84s\tremaining: 1.49s\n",
      "126:\tlearn: 0.0803302\ttotal: 7.9s\tremaining: 1.43s\n",
      "127:\tlearn: 0.0801691\ttotal: 7.96s\tremaining: 1.37s\n",
      "128:\tlearn: 0.0799796\ttotal: 8.02s\tremaining: 1.31s\n",
      "129:\tlearn: 0.0798661\ttotal: 8.09s\tremaining: 1.24s\n",
      "130:\tlearn: 0.0796981\ttotal: 8.16s\tremaining: 1.18s\n",
      "131:\tlearn: 0.0795578\ttotal: 8.22s\tremaining: 1.12s\n",
      "132:\tlearn: 0.0793409\ttotal: 8.28s\tremaining: 1.06s\n",
      "133:\tlearn: 0.0792059\ttotal: 8.34s\tremaining: 995ms\n",
      "134:\tlearn: 0.0790300\ttotal: 8.4s\tremaining: 933ms\n",
      "135:\tlearn: 0.0788418\ttotal: 8.45s\tremaining: 870ms\n",
      "136:\tlearn: 0.0785902\ttotal: 8.51s\tremaining: 807ms\n",
      "137:\tlearn: 0.0783502\ttotal: 8.57s\tremaining: 745ms\n",
      "138:\tlearn: 0.0781971\ttotal: 8.63s\tremaining: 683ms\n",
      "139:\tlearn: 0.0780108\ttotal: 8.69s\tremaining: 620ms\n",
      "140:\tlearn: 0.0778254\ttotal: 8.75s\tremaining: 558ms\n",
      "141:\tlearn: 0.0776358\ttotal: 8.8s\tremaining: 496ms\n",
      "142:\tlearn: 0.0774270\ttotal: 8.87s\tremaining: 434ms\n",
      "143:\tlearn: 0.0771889\ttotal: 8.93s\tremaining: 372ms\n",
      "144:\tlearn: 0.0770210\ttotal: 8.99s\tremaining: 310ms\n",
      "145:\tlearn: 0.0768095\ttotal: 9.05s\tremaining: 248ms\n",
      "146:\tlearn: 0.0766584\ttotal: 9.12s\tremaining: 186ms\n",
      "147:\tlearn: 0.0765408\ttotal: 9.18s\tremaining: 124ms\n",
      "148:\tlearn: 0.0763462\ttotal: 9.24s\tremaining: 62ms\n",
      "149:\tlearn: 0.0761275\ttotal: 9.3s\tremaining: 0us\n",
      "Model Best Score: \n",
      " 0.9632296777828634\n",
      "Model Best Parameters: \n",
      " {'learning_rate': 0.04, 'l2_leaf_reg': 1, 'iterations': 150, 'depth': 10}\n"
     ]
    }
   ],
   "source": [
    "#catboost random gridsearch\n",
    "\n",
    "CATBoost = cb. CatBoostClassifier()\n",
    "# Grid\n",
    "catgrid =    {'learning_rate': [0.01,0.02,0.03,0.04],\n",
    "        'depth': [4, 6,7,8,9,10,15,20],\n",
    "        'l2_leaf_reg': [0,0.5,1, 3],\n",
    "        'iterations': [10, 20,30,40,50,60,70,80,90, 100,150]}\n",
    "\n",
    "modelOptimization(CATBoost,catgrid,X_train,y_train)"
   ]
  },
  {
   "cell_type": "code",
   "execution_count": 15,
   "metadata": {},
   "outputs": [],
   "source": [
    ">>> from sklearn import datasets, linear_model,metrics\n",
    ">>> from sklearn.model_selection import cross_validate\n",
    ">>> from sklearn.metrics import make_scorer\n",
    ">>> from sklearn.metrics import confusion_matrix, accuracy_score,precision_recall_curve\n",
    "import seaborn as sns\n"
   ]
  },
  {
   "cell_type": "code",
   "execution_count": 16,
   "metadata": {},
   "outputs": [],
   "source": [
    "def fit_predict_score(clf):\n",
    "    \"\"\"Predicts the average accuracy score of a classifier clf and outputs a confusion matrix.\"\"\"\n",
    "    clf.fit(X_train, np.ravel(y_train)) # fitting the model to the training data\n",
    "    predicted = clf.predict(X_test) #getting predicted values\n",
    "    \n",
    "    #cross tabulation of predicted and actual values produces the correlation matrix\n",
    "    confusion_matrix =  pd.crosstab(index=np.ravel(y_test), columns=predicted.ravel(), rownames=['Expected'], colnames=['Predicted'])\n",
    "    sns.heatmap(confusion_matrix, annot=True, square=False, fmt='', cbar=False)\n",
    "    accuracy = np.round(metrics.accuracy_score(y_test , predicted),4)\n",
    "    plt.title(clf , fontsize = 12)\n",
    "    plt.suptitle(\"Confusion Matrix\")\n",
    "    plt.show()\n",
    "    print(\"Accuracy Score: \",accuracy)\n",
    "    print (metrics.classification_report(y_test,predicted))"
   ]
  },
  {
   "cell_type": "code",
   "execution_count": 17,
   "metadata": {},
   "outputs": [],
   "source": [
    "def roccurve(clf):\n",
    "# crea`ting roc curve\n",
    "    predicted = clf.predict(X_test) #getting y hat\n",
    "    fpr,tpr,_ = metrics.roc_curve(y_test,predicted)  #comparing y hat and the actuall y \n",
    "    #plotting\n",
    "    plt.title('ROC Curve')\n",
    "    plt.plot(fpr,tpr)\n",
    "    plt.ylabel('True Positive Rate')\n",
    "    plt.xlabel('False Positive Rate')\n",
    "    plt.show()"
   ]
  },
  {
   "cell_type": "code",
   "execution_count": 18,
   "metadata": {},
   "outputs": [],
   "source": [
    "def prcurve(clf):\n",
    "    predicted = clf.predict(X_test)\n",
    "    precision,recall,_ = precision_recall_curve(y_test,predicted)\n",
    "    #plotting\n",
    "    plt.plot(recall,precision)\n",
    "    plt.xlabel('Recall')\n",
    "    plt.ylabel('Precision')\n",
    "    plt.title(\"Precision Recall Curve\")\n",
    "    plt.show()"
   ]
  },
  {
   "cell_type": "code",
   "execution_count": 19,
   "metadata": {},
   "outputs": [],
   "source": [
    "def metrics_report(model):\n",
    "        fit_predict_score(model)\n",
    "        roccurve(model)\n",
    "        prcurve(model)"
   ]
  },
  {
   "cell_type": "code",
   "execution_count": 20,
   "metadata": {},
   "outputs": [],
   "source": [
    "bestCat =  cb.CatBoostClassifier(learning_rate= 0.04, l2_leaf_reg= 1, iterations= 150, depth= 10)\n",
    "bestAda = AdaBoostClassifier(n_estimators= 97, learning_rate= 1, algorithm= 'SAMME.R')\n",
    "bestXGB = xgb.XGBClassifier(subsample= 1.0, n_estimators= 73,max_depth= None, colsample_bytree= 1.0, alpha= 1,eval_metric='logloss')\n",
    "bestXGB1 = xgb.XGBClassifier(min_samples_split=45, \n",
    "                                 min_samples_leaf=9, \n",
    "                                 max_leaf_nodes=190, \n",
    "                                 max_depth=20, \n",
    "                                 criterion='entropy', \n",
    "                                 class_weight=None,eval_matric='logloss')"
   ]
  },
  {
   "cell_type": "code",
   "execution_count": null,
   "metadata": {},
   "outputs": [],
   "source": []
  },
  {
   "cell_type": "code",
   "execution_count": 73,
   "metadata": {},
   "outputs": [
    {
     "data": {
      "image/png": "[encoded data removed]",
      "text/plain": [
       "<Figure size 432x288 with 1 Axes>"
      ]
     },
     "metadata": {
      "needs_background": "light"
     },
     "output_type": "display_data"
    },
    {
     "name": "stdout",
     "output_type": "stream",
     "text": [
      "0.9297\n",
      "              precision    recall  f1-score   support\n",
      "\n",
      "           0       0.93      0.94      0.94     14675\n",
      "           1       0.93      0.91      0.92     11223\n",
      "\n",
      "    accuracy                           0.93     25898\n",
      "   macro avg       0.93      0.93      0.93     25898\n",
      "weighted avg       0.93      0.93      0.93     25898\n",
      "\n"
     ]
    },
    {
     "data": {
      "image/png": "[encoded data removed]",
      "text/plain": [
       "<Figure size 432x288 with 1 Axes>"
      ]
     },
     "metadata": {
      "needs_background": "light"
     },
     "output_type": "display_data"
    },
    {
     "data": {
      "image/png": "[encoded data removed]",
      "text/plain": [
       "<Figure size 432x288 with 1 Axes>"
      ]
     },
     "metadata": {
      "needs_background": "light"
     },
     "output_type": "display_data"
    }
   ],
   "source": [
    "metrics_report(bestAda)"
   ]
  },
  {
   "cell_type": "code",
   "execution_count": 74,
   "metadata": {},
   "outputs": [
    {
     "name": "stderr",
     "output_type": "stream",
     "text": [
      "C:\\Users\\Edvinas\\anaconda3\\lib\\site-packages\\xgboost\\sklearn.py:888: UserWarning: The use of label encoder in XGBClassifier is deprecated and will be removed in a future release. To remove this warning, do the following: 1) Pass option use_label_encoder=False when constructing XGBClassifier object; and 2) Encode your labels (y) as integers starting with 0, i.e. 0, 1, 2, ..., [num_class - 1].\n",
      "  warnings.warn(label_encoder_deprecation_msg, UserWarning)\n"
     ]
    },
    {
     "name": "stdout",
     "output_type": "stream",
     "text": [
      "[23:31:06] WARNING: C:/Users/Administrator/workspace/xgboost-win64_release_1.3.0/src/learner.cc:1061: Starting in XGBoost 1.3.0, the default evaluation metric used with the objective 'binary:logistic' was changed from 'error' to 'logloss'. Explicitly set eval_metric if you'd like to restore the old behavior.\n"
     ]
    },
    {
     "data": {
      "image/png": "[encoded data removed]",
      "text/plain": [
       "<Figure size 432x288 with 1 Axes>"
      ]
     },
     "metadata": {
      "needs_background": "light"
     },
     "output_type": "display_data"
    },
    {
     "name": "stdout",
     "output_type": "stream",
     "text": [
      "0.9633\n",
      "              precision    recall  f1-score   support\n",
      "\n",
      "           0       0.96      0.98      0.97     14675\n",
      "           1       0.97      0.94      0.96     11223\n",
      "\n",
      "    accuracy                           0.96     25898\n",
      "   macro avg       0.96      0.96      0.96     25898\n",
      "weighted avg       0.96      0.96      0.96     25898\n",
      "\n"
     ]
    },
    {
     "data": {
      "image/png": "[encoded data removed]",
      "text/plain": [
       "<Figure size 432x288 with 1 Axes>"
      ]
     },
     "metadata": {
      "needs_background": "light"
     },
     "output_type": "display_data"
    },
    {
     "data": {
      "image/png": "[encoded data removed]",
      "text/plain": [
       "<Figure size 432x288 with 1 Axes>"
      ]
     },
     "metadata": {
      "needs_background": "light"
     },
     "output_type": "display_data"
    }
   ],
   "source": [
    "metrics_report(bestXGB)"
   ]
  },
  {
   "cell_type": "code",
   "execution_count": 75,
   "metadata": {},
   "outputs": [
    {
     "name": "stdout",
     "output_type": "stream",
     "text": [
      "0:\tlearn: 0.6169770\ttotal: 57.8ms\tremaining: 8.61s\n",
      "1:\tlearn: 0.5333182\ttotal: 113ms\tremaining: 8.36s\n",
      "2:\tlearn: 0.4662597\ttotal: 168ms\tremaining: 8.24s\n",
      "3:\tlearn: 0.4243581\ttotal: 234ms\tremaining: 8.52s\n",
      "4:\tlearn: 0.3885085\ttotal: 297ms\tremaining: 8.61s\n",
      "5:\tlearn: 0.3459653\ttotal: 360ms\tremaining: 8.64s\n",
      "6:\tlearn: 0.3127338\ttotal: 422ms\tremaining: 8.63s\n",
      "7:\tlearn: 0.2860257\ttotal: 484ms\tremaining: 8.59s\n",
      "8:\tlearn: 0.2629254\ttotal: 542ms\tremaining: 8.5s\n",
      "9:\tlearn: 0.2476565\ttotal: 600ms\tremaining: 8.39s\n",
      "10:\tlearn: 0.2288488\ttotal: 657ms\tremaining: 8.3s\n",
      "11:\tlearn: 0.2152729\ttotal: 716ms\tremaining: 8.23s\n",
      "12:\tlearn: 0.2061652\ttotal: 775ms\tremaining: 8.17s\n",
      "13:\tlearn: 0.1986240\ttotal: 834ms\tremaining: 8.1s\n",
      "14:\tlearn: 0.1872202\ttotal: 895ms\tremaining: 8.05s\n",
      "15:\tlearn: 0.1800384\ttotal: 959ms\tremaining: 8.03s\n",
      "16:\tlearn: 0.1743572\ttotal: 1.02s\tremaining: 7.99s\n",
      "17:\tlearn: 0.1697610\ttotal: 1.08s\tremaining: 7.92s\n",
      "18:\tlearn: 0.1653433\ttotal: 1.14s\tremaining: 7.86s\n",
      "19:\tlearn: 0.1604583\ttotal: 1.2s\tremaining: 7.79s\n",
      "20:\tlearn: 0.1562438\ttotal: 1.26s\tremaining: 7.75s\n",
      "21:\tlearn: 0.1526950\ttotal: 1.32s\tremaining: 7.71s\n",
      "22:\tlearn: 0.1490689\ttotal: 1.39s\tremaining: 7.69s\n",
      "23:\tlearn: 0.1458548\ttotal: 1.46s\tremaining: 7.66s\n",
      "24:\tlearn: 0.1426027\ttotal: 1.53s\tremaining: 7.63s\n",
      "25:\tlearn: 0.1400227\ttotal: 1.6s\tremaining: 7.62s\n",
      "26:\tlearn: 0.1376752\ttotal: 1.67s\tremaining: 7.61s\n",
      "27:\tlearn: 0.1356932\ttotal: 1.74s\tremaining: 7.6s\n",
      "28:\tlearn: 0.1322527\ttotal: 1.81s\tremaining: 7.56s\n",
      "29:\tlearn: 0.1306766\ttotal: 1.88s\tremaining: 7.52s\n",
      "30:\tlearn: 0.1282701\ttotal: 1.95s\tremaining: 7.47s\n",
      "31:\tlearn: 0.1264920\ttotal: 2.01s\tremaining: 7.41s\n",
      "32:\tlearn: 0.1245698\ttotal: 2.07s\tremaining: 7.36s\n",
      "33:\tlearn: 0.1233232\ttotal: 2.14s\tremaining: 7.3s\n",
      "34:\tlearn: 0.1220452\ttotal: 2.2s\tremaining: 7.24s\n",
      "35:\tlearn: 0.1205063\ttotal: 2.27s\tremaining: 7.18s\n",
      "36:\tlearn: 0.1188323\ttotal: 2.33s\tremaining: 7.11s\n",
      "37:\tlearn: 0.1174888\ttotal: 2.4s\tremaining: 7.07s\n",
      "38:\tlearn: 0.1164697\ttotal: 2.47s\tremaining: 7.03s\n",
      "39:\tlearn: 0.1153866\ttotal: 2.53s\tremaining: 6.97s\n",
      "40:\tlearn: 0.1145718\ttotal: 2.6s\tremaining: 6.9s\n",
      "41:\tlearn: 0.1133881\ttotal: 2.65s\tremaining: 6.82s\n",
      "42:\tlearn: 0.1121503\ttotal: 2.72s\tremaining: 6.77s\n",
      "43:\tlearn: 0.1113425\ttotal: 2.78s\tremaining: 6.69s\n",
      "44:\tlearn: 0.1104206\ttotal: 2.84s\tremaining: 6.63s\n",
      "45:\tlearn: 0.1095867\ttotal: 2.9s\tremaining: 6.57s\n",
      "46:\tlearn: 0.1087853\ttotal: 2.97s\tremaining: 6.51s\n",
      "47:\tlearn: 0.1079030\ttotal: 3.03s\tremaining: 6.44s\n",
      "48:\tlearn: 0.1071200\ttotal: 3.09s\tremaining: 6.38s\n",
      "49:\tlearn: 0.1062051\ttotal: 3.16s\tremaining: 6.31s\n",
      "50:\tlearn: 0.1057761\ttotal: 3.22s\tremaining: 6.24s\n",
      "51:\tlearn: 0.1052827\ttotal: 3.28s\tremaining: 6.18s\n",
      "52:\tlearn: 0.1045519\ttotal: 3.34s\tremaining: 6.11s\n",
      "53:\tlearn: 0.1041163\ttotal: 3.4s\tremaining: 6.04s\n",
      "54:\tlearn: 0.1035764\ttotal: 3.45s\tremaining: 5.97s\n",
      "55:\tlearn: 0.1030901\ttotal: 3.51s\tremaining: 5.9s\n",
      "56:\tlearn: 0.1025495\ttotal: 3.58s\tremaining: 5.83s\n",
      "57:\tlearn: 0.1015727\ttotal: 3.64s\tremaining: 5.77s\n",
      "58:\tlearn: 0.1007611\ttotal: 3.7s\tremaining: 5.7s\n",
      "59:\tlearn: 0.1000010\ttotal: 3.75s\tremaining: 5.63s\n",
      "60:\tlearn: 0.0993198\ttotal: 3.82s\tremaining: 5.57s\n",
      "61:\tlearn: 0.0987548\ttotal: 3.88s\tremaining: 5.51s\n",
      "62:\tlearn: 0.0982838\ttotal: 3.94s\tremaining: 5.44s\n",
      "63:\tlearn: 0.0979235\ttotal: 4.01s\tremaining: 5.38s\n",
      "64:\tlearn: 0.0976326\ttotal: 4.07s\tremaining: 5.32s\n",
      "65:\tlearn: 0.0971736\ttotal: 4.13s\tremaining: 5.26s\n",
      "66:\tlearn: 0.0967787\ttotal: 4.2s\tremaining: 5.2s\n",
      "67:\tlearn: 0.0962406\ttotal: 4.26s\tremaining: 5.13s\n",
      "68:\tlearn: 0.0960022\ttotal: 4.32s\tremaining: 5.07s\n",
      "69:\tlearn: 0.0955404\ttotal: 4.37s\tremaining: 5s\n",
      "70:\tlearn: 0.0949071\ttotal: 4.44s\tremaining: 4.94s\n",
      "71:\tlearn: 0.0946807\ttotal: 4.5s\tremaining: 4.87s\n",
      "72:\tlearn: 0.0942282\ttotal: 4.56s\tremaining: 4.81s\n",
      "73:\tlearn: 0.0938279\ttotal: 4.62s\tremaining: 4.75s\n",
      "74:\tlearn: 0.0934189\ttotal: 4.68s\tremaining: 4.68s\n",
      "75:\tlearn: 0.0930747\ttotal: 4.75s\tremaining: 4.62s\n",
      "76:\tlearn: 0.0927078\ttotal: 4.81s\tremaining: 4.56s\n",
      "77:\tlearn: 0.0924329\ttotal: 4.87s\tremaining: 4.5s\n",
      "78:\tlearn: 0.0921021\ttotal: 4.93s\tremaining: 4.43s\n",
      "79:\tlearn: 0.0917614\ttotal: 4.99s\tremaining: 4.37s\n",
      "80:\tlearn: 0.0915024\ttotal: 5.05s\tremaining: 4.3s\n",
      "81:\tlearn: 0.0912947\ttotal: 5.12s\tremaining: 4.25s\n",
      "82:\tlearn: 0.0908924\ttotal: 5.18s\tremaining: 4.18s\n",
      "83:\tlearn: 0.0905104\ttotal: 5.24s\tremaining: 4.12s\n",
      "84:\tlearn: 0.0902927\ttotal: 5.3s\tremaining: 4.05s\n",
      "85:\tlearn: 0.0900504\ttotal: 5.36s\tremaining: 3.99s\n",
      "86:\tlearn: 0.0896678\ttotal: 5.42s\tremaining: 3.92s\n",
      "87:\tlearn: 0.0894500\ttotal: 5.48s\tremaining: 3.86s\n",
      "88:\tlearn: 0.0890888\ttotal: 5.54s\tremaining: 3.8s\n",
      "89:\tlearn: 0.0887586\ttotal: 5.6s\tremaining: 3.73s\n",
      "90:\tlearn: 0.0884432\ttotal: 5.67s\tremaining: 3.67s\n",
      "91:\tlearn: 0.0882300\ttotal: 5.72s\tremaining: 3.61s\n",
      "92:\tlearn: 0.0879931\ttotal: 5.79s\tremaining: 3.55s\n",
      "93:\tlearn: 0.0877641\ttotal: 5.85s\tremaining: 3.48s\n",
      "94:\tlearn: 0.0874692\ttotal: 5.91s\tremaining: 3.42s\n",
      "95:\tlearn: 0.0872072\ttotal: 5.97s\tremaining: 3.36s\n",
      "96:\tlearn: 0.0869974\ttotal: 6.03s\tremaining: 3.3s\n",
      "97:\tlearn: 0.0867854\ttotal: 6.1s\tremaining: 3.23s\n",
      "98:\tlearn: 0.0866091\ttotal: 6.16s\tremaining: 3.17s\n",
      "99:\tlearn: 0.0862834\ttotal: 6.22s\tremaining: 3.11s\n",
      "100:\tlearn: 0.0859974\ttotal: 6.28s\tremaining: 3.04s\n",
      "101:\tlearn: 0.0855839\ttotal: 6.34s\tremaining: 2.98s\n",
      "102:\tlearn: 0.0854118\ttotal: 6.4s\tremaining: 2.92s\n",
      "103:\tlearn: 0.0849429\ttotal: 6.46s\tremaining: 2.86s\n",
      "104:\tlearn: 0.0846163\ttotal: 6.52s\tremaining: 2.79s\n",
      "105:\tlearn: 0.0844232\ttotal: 6.58s\tremaining: 2.73s\n",
      "106:\tlearn: 0.0842389\ttotal: 6.64s\tremaining: 2.67s\n",
      "107:\tlearn: 0.0839417\ttotal: 6.71s\tremaining: 2.61s\n",
      "108:\tlearn: 0.0837296\ttotal: 6.78s\tremaining: 2.55s\n",
      "109:\tlearn: 0.0834972\ttotal: 6.85s\tremaining: 2.49s\n",
      "110:\tlearn: 0.0831796\ttotal: 6.92s\tremaining: 2.43s\n",
      "111:\tlearn: 0.0830162\ttotal: 6.98s\tremaining: 2.37s\n",
      "112:\tlearn: 0.0828058\ttotal: 7.05s\tremaining: 2.31s\n",
      "113:\tlearn: 0.0825963\ttotal: 7.11s\tremaining: 2.25s\n",
      "114:\tlearn: 0.0823752\ttotal: 7.17s\tremaining: 2.18s\n",
      "115:\tlearn: 0.0821927\ttotal: 7.23s\tremaining: 2.12s\n",
      "116:\tlearn: 0.0820212\ttotal: 7.29s\tremaining: 2.06s\n",
      "117:\tlearn: 0.0817093\ttotal: 7.35s\tremaining: 1.99s\n",
      "118:\tlearn: 0.0815468\ttotal: 7.41s\tremaining: 1.93s\n",
      "119:\tlearn: 0.0814433\ttotal: 7.47s\tremaining: 1.87s\n",
      "120:\tlearn: 0.0813557\ttotal: 7.53s\tremaining: 1.8s\n",
      "121:\tlearn: 0.0811940\ttotal: 7.59s\tremaining: 1.74s\n",
      "122:\tlearn: 0.0810570\ttotal: 7.65s\tremaining: 1.68s\n",
      "123:\tlearn: 0.0808956\ttotal: 7.72s\tremaining: 1.62s\n",
      "124:\tlearn: 0.0807559\ttotal: 7.79s\tremaining: 1.56s\n",
      "125:\tlearn: 0.0805343\ttotal: 7.85s\tremaining: 1.5s\n",
      "126:\tlearn: 0.0803302\ttotal: 7.92s\tremaining: 1.43s\n",
      "127:\tlearn: 0.0801691\ttotal: 7.98s\tremaining: 1.37s\n",
      "128:\tlearn: 0.0799796\ttotal: 8.04s\tremaining: 1.31s\n",
      "129:\tlearn: 0.0798661\ttotal: 8.11s\tremaining: 1.25s\n",
      "130:\tlearn: 0.0796981\ttotal: 8.17s\tremaining: 1.18s\n",
      "131:\tlearn: 0.0795578\ttotal: 8.23s\tremaining: 1.12s\n",
      "132:\tlearn: 0.0793409\ttotal: 8.3s\tremaining: 1.06s\n",
      "133:\tlearn: 0.0792059\ttotal: 8.36s\tremaining: 998ms\n",
      "134:\tlearn: 0.0790300\ttotal: 8.42s\tremaining: 935ms\n",
      "135:\tlearn: 0.0788418\ttotal: 8.48s\tremaining: 873ms\n",
      "136:\tlearn: 0.0785902\ttotal: 8.54s\tremaining: 811ms\n",
      "137:\tlearn: 0.0783502\ttotal: 8.61s\tremaining: 749ms\n",
      "138:\tlearn: 0.0781971\ttotal: 8.67s\tremaining: 686ms\n",
      "139:\tlearn: 0.0780108\ttotal: 8.73s\tremaining: 624ms\n",
      "140:\tlearn: 0.0778254\ttotal: 8.8s\tremaining: 562ms\n",
      "141:\tlearn: 0.0776358\ttotal: 8.87s\tremaining: 500ms\n",
      "142:\tlearn: 0.0774270\ttotal: 8.93s\tremaining: 437ms\n",
      "143:\tlearn: 0.0771889\ttotal: 9s\tremaining: 375ms\n",
      "144:\tlearn: 0.0770210\ttotal: 9.06s\tremaining: 313ms\n",
      "145:\tlearn: 0.0768095\ttotal: 9.13s\tremaining: 250ms\n",
      "146:\tlearn: 0.0766584\ttotal: 9.19s\tremaining: 188ms\n",
      "147:\tlearn: 0.0765408\ttotal: 9.25s\tremaining: 125ms\n",
      "148:\tlearn: 0.0763462\ttotal: 9.32s\tremaining: 62.5ms\n",
      "149:\tlearn: 0.0761275\ttotal: 9.38s\tremaining: 0us\n"
     ]
    },
    {
     "data": {
      "image/png": "[encoded data removed]",
      "text/plain": [
       "<Figure size 432x288 with 1 Axes>"
      ]
     },
     "metadata": {
      "needs_background": "light"
     },
     "output_type": "display_data"
    },
    {
     "name": "stdout",
     "output_type": "stream",
     "text": [
      "0.9627\n",
      "              precision    recall  f1-score   support\n",
      "\n",
      "           0       0.96      0.98      0.97     14675\n",
      "           1       0.97      0.94      0.96     11223\n",
      "\n",
      "    accuracy                           0.96     25898\n",
      "   macro avg       0.96      0.96      0.96     25898\n",
      "weighted avg       0.96      0.96      0.96     25898\n",
      "\n"
     ]
    },
    {
     "data": {
      "image/png": "[encoded data removed]",
      "text/plain": [
       "<Figure size 432x288 with 1 Axes>"
      ]
     },
     "metadata": {
      "needs_background": "light"
     },
     "output_type": "display_data"
    },
    {
     "data": {
      "image/png": "[encoded data removed]",
      "text/plain": [
       "<Figure size 432x288 with 1 Axes>"
      ]
     },
     "metadata": {
      "needs_background": "light"
     },
     "output_type": "display_data"
    }
   ],
   "source": [
    "metrics_report(bestCat)"
   ]
  },
  {
   "cell_type": "markdown",
   "metadata": {},
   "source": [
    "# Stacking "
   ]
  },
  {
   "cell_type": "code",
   "execution_count": 21,
   "metadata": {},
   "outputs": [],
   "source": [
    "# Stacking our best performing models\n",
    "# Best Decision Tree Model  \n",
    "from sklearn import tree\n",
    "from sklearn.linear_model import LogisticRegression\n",
    "bestDT = tree.DecisionTreeClassifier(min_samples_split=45, \n",
    "                                 min_samples_leaf=9, \n",
    "                                 max_leaf_nodes=190, \n",
    "                                 max_depth=20, \n",
    "                                 criterion='entropy', \n",
    "                                 class_weight=None)\n",
    "# best random forest \n",
    "from sklearn.ensemble import RandomForestClassifier\n",
    "bestRF =rf = RandomForestClassifier( min_samples_split=13, \n",
    "                             min_samples_leaf=4, \n",
    "                             max_depth=25, \n",
    "                             criterion='entropy', \n",
    "                             class_weight=None,\n",
    "                             n_estimators=50,\n",
    "                             n_jobs=-1)\n",
    "\n",
    "# best support vector classifier\n",
    "from sklearn.svm import SVC\n",
    "bestSVC=SVC(kernel='rbf')\n",
    "\n",
    "#best logistic Regression\n",
    "bestLogReg = LogisticRegression(\n",
    "    C=100,\n",
    "    tol=.01,\n",
    "    class_weight=None,\n",
    "    fit_intercept=False,\n",
    "    l1_ratio=1.0,\n",
    "    max_iter=1000,\n",
    "    penalty='elasticnet',\n",
    "    solver='saga'\n",
    ")"
   ]
  },
  {
   "cell_type": "markdown",
   "metadata": {},
   "source": [
    "### Stacking all of our best models"
   ]
  },
  {
   "cell_type": "code",
   "execution_count": 23,
   "metadata": {},
   "outputs": [
    {
     "name": "stderr",
     "output_type": "stream",
     "text": [
      "C:\\Users\\Edvinas\\anaconda3\\lib\\site-packages\\xgboost\\sklearn.py:888: UserWarning: The use of label encoder in XGBClassifier is deprecated and will be removed in a future release. To remove this warning, do the following: 1) Pass option use_label_encoder=False when constructing XGBClassifier object; and 2) Encode your labels (y) as integers starting with 0, i.e. 0, 1, 2, ..., [num_class - 1].\n",
      "  warnings.warn(label_encoder_deprecation_msg, UserWarning)\n",
      "C:\\Users\\Edvinas\\anaconda3\\lib\\site-packages\\xgboost\\sklearn.py:888: UserWarning: The use of label encoder in XGBClassifier is deprecated and will be removed in a future release. To remove this warning, do the following: 1) Pass option use_label_encoder=False when constructing XGBClassifier object; and 2) Encode your labels (y) as integers starting with 0, i.e. 0, 1, 2, ..., [num_class - 1].\n",
      "  warnings.warn(label_encoder_deprecation_msg, UserWarning)\n",
      "C:\\Users\\Edvinas\\anaconda3\\lib\\site-packages\\sklearn\\base.py:329: UserWarning: Trying to unpickle estimator DecisionTreeClassifier from version 0.24.1 when using version 0.23.2. This might lead to breaking code or invalid results. Use at your own risk.\n",
      "  # but might do redundant work in estimators\n",
      "C:\\Users\\Edvinas\\anaconda3\\lib\\site-packages\\sklearn\\base.py:329: UserWarning: Trying to unpickle estimator DecisionTreeClassifier from version 0.24.1 when using version 0.23.2. This might lead to breaking code or invalid results. Use at your own risk.\n",
      "  # but might do redundant work in estimators\n",
      "C:\\Users\\Edvinas\\anaconda3\\lib\\site-packages\\sklearn\\base.py:329: UserWarning: Trying to unpickle estimator DecisionTreeClassifier from version 0.24.1 when using version 0.23.2. This might lead to breaking code or invalid results. Use at your own risk.\n",
      "  # but might do redundant work in estimators\n",
      "C:\\Users\\Edvinas\\anaconda3\\lib\\site-packages\\sklearn\\base.py:329: UserWarning: Trying to unpickle estimator DecisionTreeClassifier from version 0.24.1 when using version 0.23.2. This might lead to breaking code or invalid results. Use at your own risk.\n",
      "  # but might do redundant work in estimators\n",
      "C:\\Users\\Edvinas\\anaconda3\\lib\\site-packages\\sklearn\\base.py:329: UserWarning: Trying to unpickle estimator DecisionTreeClassifier from version 0.24.1 when using version 0.23.2. This might lead to breaking code or invalid results. Use at your own risk.\n",
      "  # but might do redundant work in estimators\n",
      "C:\\Users\\Edvinas\\anaconda3\\lib\\site-packages\\sklearn\\base.py:329: UserWarning: Trying to unpickle estimator DecisionTreeClassifier from version 0.24.1 when using version 0.23.2. This might lead to breaking code or invalid results. Use at your own risk.\n",
      "  # but might do redundant work in estimators\n"
     ]
    },
    {
     "name": "stdout",
     "output_type": "stream",
     "text": [
      "Accuracy Score: \n",
      " 0.962390918217623\n"
     ]
    }
   ],
   "source": [
    "\n",
    "from sklearn.ensemble import StackingClassifier\n",
    "# Creating 2 layers of estimation, with 2 learners in each.\n",
    "# best gradient boost and support vector classifier\n",
    "layer_one_estimators = [\n",
    "                        ('rf_1', bestSVC),\n",
    "                        ('gb_1',bestXGB )            \n",
    "                       ]\n",
    "#best decision tree and random forest\n",
    "layer_two_estimators = [\n",
    "                        ('svc_1',bestDT),\n",
    "                        ('rf_1',bestRF)\n",
    "                        \n",
    "                       ]\n",
    "# The final meta-estimator is logistic regression\n",
    "layer_two = StackingClassifier(estimators=layer_two_estimators, final_estimator=LogisticRegression())\n",
    "\n",
    "# stacking the models.\n",
    "clf = StackingClassifier(estimators=layer_one_estimators, final_estimator=layer_two)\n",
    "\n",
    "\n",
    "#displaying accuracy\n",
    "print(\"Accuracy Score: \\n\",clf.fit(X_train, y_train).score(X_test, y_test))"
   ]
  },
  {
   "cell_type": "markdown",
   "metadata": {},
   "source": [
    "### Stacking just SVC  and XG Boost"
   ]
  },
  {
   "cell_type": "code",
   "execution_count": 25,
   "metadata": {},
   "outputs": [
    {
     "name": "stderr",
     "output_type": "stream",
     "text": [
      "C:\\Users\\Edvinas\\anaconda3\\lib\\site-packages\\xgboost\\sklearn.py:888: UserWarning: The use of label encoder in XGBClassifier is deprecated and will be removed in a future release. To remove this warning, do the following: 1) Pass option use_label_encoder=False when constructing XGBClassifier object; and 2) Encode your labels (y) as integers starting with 0, i.e. 0, 1, 2, ..., [num_class - 1].\n",
      "  warnings.warn(label_encoder_deprecation_msg, UserWarning)\n",
      "C:\\Users\\Edvinas\\anaconda3\\lib\\site-packages\\xgboost\\sklearn.py:888: UserWarning: The use of label encoder in XGBClassifier is deprecated and will be removed in a future release. To remove this warning, do the following: 1) Pass option use_label_encoder=False when constructing XGBClassifier object; and 2) Encode your labels (y) as integers starting with 0, i.e. 0, 1, 2, ..., [num_class - 1].\n",
      "  warnings.warn(label_encoder_deprecation_msg, UserWarning)\n"
     ]
    },
    {
     "name": "stdout",
     "output_type": "stream",
     "text": [
      "Accuracy Score: \n",
      " 0.9626225963394857\n"
     ]
    }
   ],
   "source": [
    "from sklearn.ensemble import StackingClassifier\n",
    "# Creating 1 layers of estimation, with 2 learners.\n",
    "# best gradient boost and Support vector machine classifier\n",
    "layer_one_estimators = [\n",
    "                        ('rf_1', bestSVC),\n",
    "                        ('gb_1',bestXGB )            \n",
    "                       ]\n",
    "\n",
    "# The final meta-estimator is logistic regression\n",
    "\n",
    "# stacking the models.\n",
    "clf = StackingClassifier(estimators=layer_one_estimators, final_estimator=LogisticRegression())\n",
    "\n",
    "\n",
    "#displaying accuracy\n",
    "print(\"Accuracy Score: \\n\",clf.fit(X_train, y_train).score(X_test, y_test))"
   ]
  },
  {
   "cell_type": "markdown",
   "metadata": {},
   "source": [
    "### the best stacked model does not outperform our optimized XG boost or random forest models, which both had an accuracy rating of 96.33%. The stacked model was more computationally expensive And yielded an accuracy rate of 96.26%."
   ]
  }
 ],
 "metadata": {
  "kernelspec": {
   "display_name": "Python 3",
   "language": "python",
   "name": "python3"
  },
  "language_info": {
   "codemirror_mode": {
    "name": "ipython",
    "version": 3
   },
   "file_extension": ".py",
   "mimetype": "text/x-python",
   "name": "python",
   "nbconvert_exporter": "python",
   "pygments_lexer": "ipython3",
   "version": "3.8.5"
  }
 },
 "nbformat": 4,
 "nbformat_minor": 4
}
