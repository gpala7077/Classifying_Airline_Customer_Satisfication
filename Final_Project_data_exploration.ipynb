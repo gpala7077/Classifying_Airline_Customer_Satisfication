{
 "cells": [
  {
   "cell_type": "markdown",
   "metadata": {
    "id": "np3xi9oi1oZ7"
   },
   "source": [
    "# Initial Data Analysis"
   ]
  },
  {
   "cell_type": "code",
   "execution_count": 1,
   "metadata": {
    "id": "PzRQ4VyW-MZI"
   },
   "outputs": [],
   "source": [
    "import pandas as pd\n",
    "import numpy as np\n",
    "from matplotlib import pyplot as plt\n",
    "import sklearn\n",
    "\n",
    "from sklearn.model_selection import train_test_split\n",
    "from sklearn.preprocessing import StandardScaler, MinMaxScaler\n",
    "\n",
    "import seaborn as sns\n",
    "from sklearn import metrics\n",
    "\n",
    "from sklearn import model_selection\n",
    "from sklearn.cluster import KMeans\n",
    "\n",
    "from matplotlib import cm\n",
    "from sklearn.metrics import silhouette_samples\n",
    "from sklearn.metrics import completeness_score, homogeneity_score"
   ]
  },
  {
   "cell_type": "markdown",
   "metadata": {
    "id": "3IDvLBSdVwEU"
   },
   "source": [
    "# Import"
   ]
  },
  {
   "cell_type": "code",
   "execution_count": 2,
   "metadata": {
    "colab": {
     "base_uri": "https://localhost:8080/",
     "height": 397
    },
    "id": "f2UrWnGnSg9n",
    "outputId": "c176f3ea-d935-46dd-d7b3-4bd3ab4d8fe6"
   },
   "outputs": [
    {
     "data": {
      "text/plain": "        Gender      Customer Type  Age   Type of Travel     Class  \\\nid                                                                  \n70172     Male     Loyal Customer   13  Personal Travel  Eco Plus   \n5047      Male  disloyal Customer   25  Business travel  Business   \n110028  Female     Loyal Customer   26  Business travel  Business   \n24026   Female     Loyal Customer   25  Business travel  Business   \n119299    Male     Loyal Customer   61  Business travel  Business   \n\n        Flight Distance  Inflight wifi service  \\\nid                                               \n70172               460                      3   \n5047                235                      3   \n110028             1142                      2   \n24026               562                      2   \n119299              214                      3   \n\n        Departure/Arrival time convenient  Ease of Online booking  \\\nid                                                                  \n70172                                   4                       3   \n5047                                    2                       3   \n110028                                  2                       2   \n24026                                   5                       5   \n119299                                  3                       3   \n\n        Gate location  ...  Inflight entertainment  On-board service  \\\nid                     ...                                             \n70172               1  ...                       5                 4   \n5047                3  ...                       1                 1   \n110028              2  ...                       5                 4   \n24026               5  ...                       2                 2   \n119299              3  ...                       3                 3   \n\n        Leg room service  Baggage handling  Checkin service  Inflight service  \\\nid                                                                              \n70172                  3                 4                4                 5   \n5047                   5                 3                1                 4   \n110028                 3                 4                4                 4   \n24026                  5                 3                1                 4   \n119299                 4                 4                3                 3   \n\n        Cleanliness  Departure Delay in Minutes  Arrival Delay in Minutes  \\\nid                                                                          \n70172             5                          25                      18.0   \n5047              1                           1                       6.0   \n110028            5                           0                       0.0   \n24026             2                          11                       9.0   \n119299            3                           0                       0.0   \n\n                   satisfaction  \nid                               \n70172   neutral or dissatisfied  \n5047    neutral or dissatisfied  \n110028                satisfied  \n24026   neutral or dissatisfied  \n119299                satisfied  \n\n[5 rows x 23 columns]",
      "text/html": "<div>\n<style scoped>\n    .dataframe tbody tr th:only-of-type {\n        vertical-align: middle;\n    }\n\n    .dataframe tbody tr th {\n        vertical-align: top;\n    }\n\n    .dataframe thead th {\n        text-align: right;\n    }\n</style>\n<table border=\"1\" class=\"dataframe\">\n  <thead>\n    <tr style=\"text-align: right;\">\n      <th></th>\n      <th>Gender</th>\n      <th>Customer Type</th>\n      <th>Age</th>\n      <th>Type of Travel</th>\n      <th>Class</th>\n      <th>Flight Distance</th>\n      <th>Inflight wifi service</th>\n      <th>Departure/Arrival time convenient</th>\n      <th>Ease of Online booking</th>\n      <th>Gate location</th>\n      <th>...</th>\n      <th>Inflight entertainment</th>\n      <th>On-board service</th>\n      <th>Leg room service</th>\n      <th>Baggage handling</th>\n      <th>Checkin service</th>\n      <th>Inflight service</th>\n      <th>Cleanliness</th>\n      <th>Departure Delay in Minutes</th>\n      <th>Arrival Delay in Minutes</th>\n      <th>satisfaction</th>\n    </tr>\n    <tr>\n      <th>id</th>\n      <th></th>\n      <th></th>\n      <th></th>\n      <th></th>\n      <th></th>\n      <th></th>\n      <th></th>\n      <th></th>\n      <th></th>\n      <th></th>\n      <th></th>\n      <th></th>\n      <th></th>\n      <th></th>\n      <th></th>\n      <th></th>\n      <th></th>\n      <th></th>\n      <th></th>\n      <th></th>\n      <th></th>\n    </tr>\n  </thead>\n  <tbody>\n    <tr>\n      <th>70172</th>\n      <td>Male</td>\n      <td>Loyal Customer</td>\n      <td>13</td>\n      <td>Personal Travel</td>\n      <td>Eco Plus</td>\n      <td>460</td>\n      <td>3</td>\n      <td>4</td>\n      <td>3</td>\n      <td>1</td>\n      <td>...</td>\n      <td>5</td>\n      <td>4</td>\n      <td>3</td>\n      <td>4</td>\n      <td>4</td>\n      <td>5</td>\n      <td>5</td>\n      <td>25</td>\n      <td>18.0</td>\n      <td>neutral or dissatisfied</td>\n    </tr>\n    <tr>\n      <th>5047</th>\n      <td>Male</td>\n      <td>disloyal Customer</td>\n      <td>25</td>\n      <td>Business travel</td>\n      <td>Business</td>\n      <td>235</td>\n      <td>3</td>\n      <td>2</td>\n      <td>3</td>\n      <td>3</td>\n      <td>...</td>\n      <td>1</td>\n      <td>1</td>\n      <td>5</td>\n      <td>3</td>\n      <td>1</td>\n      <td>4</td>\n      <td>1</td>\n      <td>1</td>\n      <td>6.0</td>\n      <td>neutral or dissatisfied</td>\n    </tr>\n    <tr>\n      <th>110028</th>\n      <td>Female</td>\n      <td>Loyal Customer</td>\n      <td>26</td>\n      <td>Business travel</td>\n      <td>Business</td>\n      <td>1142</td>\n      <td>2</td>\n      <td>2</td>\n      <td>2</td>\n      <td>2</td>\n      <td>...</td>\n      <td>5</td>\n      <td>4</td>\n      <td>3</td>\n      <td>4</td>\n      <td>4</td>\n      <td>4</td>\n      <td>5</td>\n      <td>0</td>\n      <td>0.0</td>\n      <td>satisfied</td>\n    </tr>\n    <tr>\n      <th>24026</th>\n      <td>Female</td>\n      <td>Loyal Customer</td>\n      <td>25</td>\n      <td>Business travel</td>\n      <td>Business</td>\n      <td>562</td>\n      <td>2</td>\n      <td>5</td>\n      <td>5</td>\n      <td>5</td>\n      <td>...</td>\n      <td>2</td>\n      <td>2</td>\n      <td>5</td>\n      <td>3</td>\n      <td>1</td>\n      <td>4</td>\n      <td>2</td>\n      <td>11</td>\n      <td>9.0</td>\n      <td>neutral or dissatisfied</td>\n    </tr>\n    <tr>\n      <th>119299</th>\n      <td>Male</td>\n      <td>Loyal Customer</td>\n      <td>61</td>\n      <td>Business travel</td>\n      <td>Business</td>\n      <td>214</td>\n      <td>3</td>\n      <td>3</td>\n      <td>3</td>\n      <td>3</td>\n      <td>...</td>\n      <td>3</td>\n      <td>3</td>\n      <td>4</td>\n      <td>4</td>\n      <td>3</td>\n      <td>3</td>\n      <td>3</td>\n      <td>0</td>\n      <td>0.0</td>\n      <td>satisfied</td>\n    </tr>\n  </tbody>\n</table>\n<p>5 rows × 23 columns</p>\n</div>"
     },
     "execution_count": 2,
     "metadata": {},
     "output_type": "execute_result"
    }
   ],
   "source": [
    "data = pd.read_csv('data/aviation_data.csv', index_col='id')\n",
    "data = data.drop(data.columns[0], axis=1)\n",
    "data.head()"
   ]
  },
  {
   "cell_type": "code",
   "execution_count": 3,
   "metadata": {
    "colab": {
     "base_uri": "https://localhost:8080/"
    },
    "id": "IwBARSm-Y5xE",
    "outputId": "2b456172-782d-4ca5-85fb-f0993ca51b26"
   },
   "outputs": [
    {
     "name": "stdout",
     "output_type": "stream",
     "text": [
      "This dataset contains 129880 observations and 23 attributes\n"
     ]
    }
   ],
   "source": [
    "print('This dataset contains {} observations and {} attributes'.format(*data.shape))"
   ]
  },
  {
   "cell_type": "markdown",
   "metadata": {
    "id": "cmXqHO2fqbRJ"
   },
   "source": [
    "#### Datatypes"
   ]
  },
  {
   "cell_type": "code",
   "execution_count": 4,
   "metadata": {
    "colab": {
     "base_uri": "https://localhost:8080/"
    },
    "id": "fMvD0ALjqafS",
    "outputId": "f2455bc8-2204-4012-e27d-afc0d3d3372a"
   },
   "outputs": [
    {
     "name": "stdout",
     "output_type": "stream",
     "text": [
      "Gender                                object\n",
      "Customer Type                         object\n",
      "Age                                    int64\n",
      "Type of Travel                        object\n",
      "Class                                 object\n",
      "Flight Distance                        int64\n",
      "Inflight wifi service                  int64\n",
      "Departure/Arrival time convenient      int64\n",
      "Ease of Online booking                 int64\n",
      "Gate location                          int64\n",
      "Food and drink                         int64\n",
      "Online boarding                        int64\n",
      "Seat comfort                           int64\n",
      "Inflight entertainment                 int64\n",
      "On-board service                       int64\n",
      "Leg room service                       int64\n",
      "Baggage handling                       int64\n",
      "Checkin service                        int64\n",
      "Inflight service                       int64\n",
      "Cleanliness                            int64\n",
      "Departure Delay in Minutes             int64\n",
      "Arrival Delay in Minutes             float64\n",
      "satisfaction                          object\n",
      "dtype: object\n"
     ]
    }
   ],
   "source": [
    "print(data.dtypes)"
   ]
  },
  {
   "cell_type": "markdown",
   "metadata": {
    "id": "Zt-tbUQQYGB1"
   },
   "source": [
    "Most of the variables have an integer data type. There are 5 object types that represent categorical variables."
   ]
  },
  {
   "cell_type": "markdown",
   "metadata": {
    "id": "kh7kU1D9Svy1"
   },
   "source": [
    "# Preprocessing"
   ]
  },
  {
   "cell_type": "markdown",
   "metadata": {
    "id": "1Kr6gIiCZFnW"
   },
   "source": [
    "#### Checking for missing values"
   ]
  },
  {
   "cell_type": "code",
   "execution_count": 5,
   "metadata": {
    "colab": {
     "base_uri": "https://localhost:8080/"
    },
    "id": "mOcKQnoR1oaB",
    "outputId": "fa22721a-ae83-470c-e355-6f30e60a15cd"
   },
   "outputs": [
    {
     "name": "stdout",
     "output_type": "stream",
     "text": [
      "Gender                                 0\n",
      "Customer Type                          0\n",
      "Age                                    0\n",
      "Type of Travel                         0\n",
      "Class                                  0\n",
      "Flight Distance                        0\n",
      "Inflight wifi service                  0\n",
      "Departure/Arrival time convenient      0\n",
      "Ease of Online booking                 0\n",
      "Gate location                          0\n",
      "Food and drink                         0\n",
      "Online boarding                        0\n",
      "Seat comfort                           0\n",
      "Inflight entertainment                 0\n",
      "On-board service                       0\n",
      "Leg room service                       0\n",
      "Baggage handling                       0\n",
      "Checkin service                        0\n",
      "Inflight service                       0\n",
      "Cleanliness                            0\n",
      "Departure Delay in Minutes             0\n",
      "Arrival Delay in Minutes             393\n",
      "satisfaction                           0\n",
      "dtype: int64\n"
     ]
    }
   ],
   "source": [
    "print(data.isnull().sum()) # checks for null values\n",
    "data = data.dropna() # drop rows that contain missing values"
   ]
  },
  {
   "cell_type": "markdown",
   "metadata": {
    "id": "VNbn8SN21oaB"
   },
   "source": [
    "There are very few null observations. As seen below, only 393 instances under 'Arrival Delay in Minutes' were found to\n",
    "have null values.  Due to the large dataset, it would be best to drop any instances where null values exist."
   ]
  },
  {
   "cell_type": "markdown",
   "metadata": {
    "id": "opNN75MNV1sI"
   },
   "source": [
    "#### Dummify"
   ]
  },
  {
   "cell_type": "code",
   "execution_count": 6,
   "metadata": {
    "colab": {
     "base_uri": "https://localhost:8080/",
     "height": 310
    },
    "id": "NwEsyA0BUq3p",
    "outputId": "a78ae932-83a6-4e38-91b1-b2cbd2b3c04c"
   },
   "outputs": [
    {
     "ename": "KeyError",
     "evalue": "'id'",
     "output_type": "error",
     "traceback": [
      "\u001B[1;31m---------------------------------------------------------------------------\u001B[0m",
      "\u001B[1;31mKeyError\u001B[0m                                  Traceback (most recent call last)",
      "\u001B[1;32mc:\\users\\g_man\\appdata\\local\\programs\\python\\python38-32\\lib\\site-packages\\pandas\\core\\indexes\\base.py\u001B[0m in \u001B[0;36mget_loc\u001B[1;34m(self, key, method, tolerance)\u001B[0m\n\u001B[0;32m   2894\u001B[0m             \u001B[1;32mtry\u001B[0m\u001B[1;33m:\u001B[0m\u001B[1;33m\u001B[0m\u001B[1;33m\u001B[0m\u001B[0m\n\u001B[1;32m-> 2895\u001B[1;33m                 \u001B[1;32mreturn\u001B[0m \u001B[0mself\u001B[0m\u001B[1;33m.\u001B[0m\u001B[0m_engine\u001B[0m\u001B[1;33m.\u001B[0m\u001B[0mget_loc\u001B[0m\u001B[1;33m(\u001B[0m\u001B[0mcasted_key\u001B[0m\u001B[1;33m)\u001B[0m\u001B[1;33m\u001B[0m\u001B[1;33m\u001B[0m\u001B[0m\n\u001B[0m\u001B[0;32m   2896\u001B[0m             \u001B[1;32mexcept\u001B[0m \u001B[0mKeyError\u001B[0m \u001B[1;32mas\u001B[0m \u001B[0merr\u001B[0m\u001B[1;33m:\u001B[0m\u001B[1;33m\u001B[0m\u001B[1;33m\u001B[0m\u001B[0m\n",
      "\u001B[1;32mpandas\\_libs\\index.pyx\u001B[0m in \u001B[0;36mpandas._libs.index.IndexEngine.get_loc\u001B[1;34m()\u001B[0m\n",
      "\u001B[1;32mpandas\\_libs\\index.pyx\u001B[0m in \u001B[0;36mpandas._libs.index.IndexEngine.get_loc\u001B[1;34m()\u001B[0m\n",
      "\u001B[1;32mpandas\\_libs\\hashtable_class_helper.pxi\u001B[0m in \u001B[0;36mpandas._libs.hashtable.PyObjectHashTable.get_item\u001B[1;34m()\u001B[0m\n",
      "\u001B[1;32mpandas\\_libs\\hashtable_class_helper.pxi\u001B[0m in \u001B[0;36mpandas._libs.hashtable.PyObjectHashTable.get_item\u001B[1;34m()\u001B[0m\n",
      "\u001B[1;31mKeyError\u001B[0m: 'id'",
      "\nThe above exception was the direct cause of the following exception:\n",
      "\u001B[1;31mKeyError\u001B[0m                                  Traceback (most recent call last)",
      "\u001B[1;32m<ipython-input-6-83d3deb26eb6>\u001B[0m in \u001B[0;36m<module>\u001B[1;34m\u001B[0m\n\u001B[0;32m      2\u001B[0m \u001B[0mdata_dummies\u001B[0m \u001B[1;33m=\u001B[0m \u001B[0mdata_dummies\u001B[0m\u001B[1;33m.\u001B[0m\u001B[0mastype\u001B[0m\u001B[1;33m(\u001B[0m\u001B[1;34m'int64'\u001B[0m\u001B[1;33m)\u001B[0m \u001B[1;31m# converting all dataypes to int\u001B[0m\u001B[1;33m\u001B[0m\u001B[1;33m\u001B[0m\u001B[0m\n\u001B[0;32m      3\u001B[0m \u001B[0mdata_dummies\u001B[0m\u001B[1;33m.\u001B[0m\u001B[0mhead\u001B[0m\u001B[1;33m(\u001B[0m\u001B[1;33m)\u001B[0m\u001B[1;33m\u001B[0m\u001B[1;33m\u001B[0m\u001B[0m\n\u001B[1;32m----> 4\u001B[1;33m \u001B[0mdata_dummies\u001B[0m\u001B[1;33m.\u001B[0m\u001B[0mpop\u001B[0m\u001B[1;33m(\u001B[0m\u001B[1;34m'id'\u001B[0m\u001B[1;33m)\u001B[0m\u001B[1;33m\u001B[0m\u001B[1;33m\u001B[0m\u001B[0m\n\u001B[0m\u001B[0;32m      5\u001B[0m \u001B[1;33m\u001B[0m\u001B[0m\n\u001B[0;32m      6\u001B[0m \u001B[0mdata_dummies\u001B[0m\u001B[1;33m.\u001B[0m\u001B[0mto_csv\u001B[0m\u001B[1;33m(\u001B[0m\u001B[1;34m'data/aviation_data_dummies.csv'\u001B[0m\u001B[1;33m)\u001B[0m\u001B[1;33m\u001B[0m\u001B[1;33m\u001B[0m\u001B[0m\n",
      "\u001B[1;32mc:\\users\\g_man\\appdata\\local\\programs\\python\\python38-32\\lib\\site-packages\\pandas\\core\\frame.py\u001B[0m in \u001B[0;36mpop\u001B[1;34m(self, item)\u001B[0m\n\u001B[0;32m   4369\u001B[0m         \u001B[1;36m3\u001B[0m  \u001B[0mmonkey\u001B[0m        \u001B[0mNaN\u001B[0m\u001B[1;33m\u001B[0m\u001B[1;33m\u001B[0m\u001B[0m\n\u001B[0;32m   4370\u001B[0m         \"\"\"\n\u001B[1;32m-> 4371\u001B[1;33m         \u001B[1;32mreturn\u001B[0m \u001B[0msuper\u001B[0m\u001B[1;33m(\u001B[0m\u001B[1;33m)\u001B[0m\u001B[1;33m.\u001B[0m\u001B[0mpop\u001B[0m\u001B[1;33m(\u001B[0m\u001B[0mitem\u001B[0m\u001B[1;33m=\u001B[0m\u001B[0mitem\u001B[0m\u001B[1;33m)\u001B[0m\u001B[1;33m\u001B[0m\u001B[1;33m\u001B[0m\u001B[0m\n\u001B[0m\u001B[0;32m   4372\u001B[0m \u001B[1;33m\u001B[0m\u001B[0m\n\u001B[0;32m   4373\u001B[0m     \u001B[1;33m@\u001B[0m\u001B[0mdoc\u001B[0m\u001B[1;33m(\u001B[0m\u001B[0mNDFrame\u001B[0m\u001B[1;33m.\u001B[0m\u001B[0mreplace\u001B[0m\u001B[1;33m,\u001B[0m \u001B[1;33m**\u001B[0m\u001B[0m_shared_doc_kwargs\u001B[0m\u001B[1;33m)\u001B[0m\u001B[1;33m\u001B[0m\u001B[1;33m\u001B[0m\u001B[0m\n",
      "\u001B[1;32mc:\\users\\g_man\\appdata\\local\\programs\\python\\python38-32\\lib\\site-packages\\pandas\\core\\generic.py\u001B[0m in \u001B[0;36mpop\u001B[1;34m(self, item)\u001B[0m\n\u001B[0;32m    659\u001B[0m \u001B[1;33m\u001B[0m\u001B[0m\n\u001B[0;32m    660\u001B[0m     \u001B[1;32mdef\u001B[0m \u001B[0mpop\u001B[0m\u001B[1;33m(\u001B[0m\u001B[0mself\u001B[0m\u001B[1;33m,\u001B[0m \u001B[0mitem\u001B[0m\u001B[1;33m:\u001B[0m \u001B[0mLabel\u001B[0m\u001B[1;33m)\u001B[0m \u001B[1;33m->\u001B[0m \u001B[0mUnion\u001B[0m\u001B[1;33m[\u001B[0m\u001B[1;34m\"Series\"\u001B[0m\u001B[1;33m,\u001B[0m \u001B[0mAny\u001B[0m\u001B[1;33m]\u001B[0m\u001B[1;33m:\u001B[0m\u001B[1;33m\u001B[0m\u001B[1;33m\u001B[0m\u001B[0m\n\u001B[1;32m--> 661\u001B[1;33m         \u001B[0mresult\u001B[0m \u001B[1;33m=\u001B[0m \u001B[0mself\u001B[0m\u001B[1;33m[\u001B[0m\u001B[0mitem\u001B[0m\u001B[1;33m]\u001B[0m\u001B[1;33m\u001B[0m\u001B[1;33m\u001B[0m\u001B[0m\n\u001B[0m\u001B[0;32m    662\u001B[0m         \u001B[1;32mdel\u001B[0m \u001B[0mself\u001B[0m\u001B[1;33m[\u001B[0m\u001B[0mitem\u001B[0m\u001B[1;33m]\u001B[0m\u001B[1;33m\u001B[0m\u001B[1;33m\u001B[0m\u001B[0m\n\u001B[0;32m    663\u001B[0m         \u001B[1;32mif\u001B[0m \u001B[0mself\u001B[0m\u001B[1;33m.\u001B[0m\u001B[0mndim\u001B[0m \u001B[1;33m==\u001B[0m \u001B[1;36m2\u001B[0m\u001B[1;33m:\u001B[0m\u001B[1;33m\u001B[0m\u001B[1;33m\u001B[0m\u001B[0m\n",
      "\u001B[1;32mc:\\users\\g_man\\appdata\\local\\programs\\python\\python38-32\\lib\\site-packages\\pandas\\core\\frame.py\u001B[0m in \u001B[0;36m__getitem__\u001B[1;34m(self, key)\u001B[0m\n\u001B[0;32m   2904\u001B[0m             \u001B[1;32mif\u001B[0m \u001B[0mself\u001B[0m\u001B[1;33m.\u001B[0m\u001B[0mcolumns\u001B[0m\u001B[1;33m.\u001B[0m\u001B[0mnlevels\u001B[0m \u001B[1;33m>\u001B[0m \u001B[1;36m1\u001B[0m\u001B[1;33m:\u001B[0m\u001B[1;33m\u001B[0m\u001B[1;33m\u001B[0m\u001B[0m\n\u001B[0;32m   2905\u001B[0m                 \u001B[1;32mreturn\u001B[0m \u001B[0mself\u001B[0m\u001B[1;33m.\u001B[0m\u001B[0m_getitem_multilevel\u001B[0m\u001B[1;33m(\u001B[0m\u001B[0mkey\u001B[0m\u001B[1;33m)\u001B[0m\u001B[1;33m\u001B[0m\u001B[1;33m\u001B[0m\u001B[0m\n\u001B[1;32m-> 2906\u001B[1;33m             \u001B[0mindexer\u001B[0m \u001B[1;33m=\u001B[0m \u001B[0mself\u001B[0m\u001B[1;33m.\u001B[0m\u001B[0mcolumns\u001B[0m\u001B[1;33m.\u001B[0m\u001B[0mget_loc\u001B[0m\u001B[1;33m(\u001B[0m\u001B[0mkey\u001B[0m\u001B[1;33m)\u001B[0m\u001B[1;33m\u001B[0m\u001B[1;33m\u001B[0m\u001B[0m\n\u001B[0m\u001B[0;32m   2907\u001B[0m             \u001B[1;32mif\u001B[0m \u001B[0mis_integer\u001B[0m\u001B[1;33m(\u001B[0m\u001B[0mindexer\u001B[0m\u001B[1;33m)\u001B[0m\u001B[1;33m:\u001B[0m\u001B[1;33m\u001B[0m\u001B[1;33m\u001B[0m\u001B[0m\n\u001B[0;32m   2908\u001B[0m                 \u001B[0mindexer\u001B[0m \u001B[1;33m=\u001B[0m \u001B[1;33m[\u001B[0m\u001B[0mindexer\u001B[0m\u001B[1;33m]\u001B[0m\u001B[1;33m\u001B[0m\u001B[1;33m\u001B[0m\u001B[0m\n",
      "\u001B[1;32mc:\\users\\g_man\\appdata\\local\\programs\\python\\python38-32\\lib\\site-packages\\pandas\\core\\indexes\\base.py\u001B[0m in \u001B[0;36mget_loc\u001B[1;34m(self, key, method, tolerance)\u001B[0m\n\u001B[0;32m   2895\u001B[0m                 \u001B[1;32mreturn\u001B[0m \u001B[0mself\u001B[0m\u001B[1;33m.\u001B[0m\u001B[0m_engine\u001B[0m\u001B[1;33m.\u001B[0m\u001B[0mget_loc\u001B[0m\u001B[1;33m(\u001B[0m\u001B[0mcasted_key\u001B[0m\u001B[1;33m)\u001B[0m\u001B[1;33m\u001B[0m\u001B[1;33m\u001B[0m\u001B[0m\n\u001B[0;32m   2896\u001B[0m             \u001B[1;32mexcept\u001B[0m \u001B[0mKeyError\u001B[0m \u001B[1;32mas\u001B[0m \u001B[0merr\u001B[0m\u001B[1;33m:\u001B[0m\u001B[1;33m\u001B[0m\u001B[1;33m\u001B[0m\u001B[0m\n\u001B[1;32m-> 2897\u001B[1;33m                 \u001B[1;32mraise\u001B[0m \u001B[0mKeyError\u001B[0m\u001B[1;33m(\u001B[0m\u001B[0mkey\u001B[0m\u001B[1;33m)\u001B[0m \u001B[1;32mfrom\u001B[0m \u001B[0merr\u001B[0m\u001B[1;33m\u001B[0m\u001B[1;33m\u001B[0m\u001B[0m\n\u001B[0m\u001B[0;32m   2898\u001B[0m \u001B[1;33m\u001B[0m\u001B[0m\n\u001B[0;32m   2899\u001B[0m         \u001B[1;32mif\u001B[0m \u001B[0mtolerance\u001B[0m \u001B[1;32mis\u001B[0m \u001B[1;32mnot\u001B[0m \u001B[1;32mNone\u001B[0m\u001B[1;33m:\u001B[0m\u001B[1;33m\u001B[0m\u001B[1;33m\u001B[0m\u001B[0m\n",
      "\u001B[1;31mKeyError\u001B[0m: 'id'"
     ]
    }
   ],
   "source": [
    "data_dummies = pd.get_dummies(data) # applying one hot encoding\n",
    "data_dummies = data_dummies.astype('int64') # converting all dataypes to int\n",
    "data_dummies.head()\n",
    "data_dummies.to_csv('data/aviation_data_dummies.csv')"
   ]
  },
  {
   "cell_type": "markdown",
   "metadata": {
    "id": "8bv2vI9yZVRq"
   },
   "source": [
    "#### Datatypes of the dummies"
   ]
  },
  {
   "cell_type": "code",
   "execution_count": null,
   "metadata": {
    "colab": {
     "base_uri": "https://localhost:8080/"
    },
    "id": "SdfKGaq7qwG9",
    "outputId": "5ddb9fdc-c5b9-4cbf-f852-d7023b6cbfa3"
   },
   "outputs": [],
   "source": [
    "print(data_dummies.dtypes)"
   ]
  },
  {
   "cell_type": "markdown",
   "metadata": {
    "id": "vx8NvonvZs31"
   },
   "source": [
    "All the variables are of int64 datatype"
   ]
  },
  {
   "cell_type": "markdown",
   "metadata": {
    "id": "6cvLWZLBV3pJ"
   },
   "source": [
    "### Seperate Target, Predictors, Feature names"
   ]
  },
  {
   "cell_type": "code",
   "execution_count": null,
   "metadata": {
    "id": "5RLif3Z8T24y"
   },
   "outputs": [],
   "source": [
    "target = data_dummies['satisfaction_satisfied']\n",
    "# dropping the target variable to seperate out the predictors\n",
    "predictors = data_dummies.drop(['satisfaction_satisfied','satisfaction_neutral or dissatisfied'], axis=1)\n",
    "feature_names = predictors.columns.to_numpy(dtype=str) # getting feature names for later use"
   ]
  },
  {
   "cell_type": "markdown",
   "metadata": {
    "id": "6txwa6rcV9Uu"
   },
   "source": [
    "### Split to Train / Test sets"
   ]
  },
  {
   "cell_type": "code",
   "execution_count": null,
   "metadata": {
    "id": "m4s3B5SWTZ4T"
   },
   "outputs": [],
   "source": [
    "# train / test split\n",
    "X_train, X_test, y_train, y_test = train_test_split(predictors, target, test_size=0.2, random_state=7, shuffle=True)"
   ]
  },
  {
   "cell_type": "markdown",
   "metadata": {
    "id": "91Fjrf0YWm-U"
   },
   "source": [
    "### Min-Max Scaling"
   ]
  },
  {
   "cell_type": "code",
   "execution_count": null,
   "metadata": {
    "id": "mfZe5h63WbXk"
   },
   "outputs": [],
   "source": [
    "scaler = MinMaxScaler()\n",
    "\n",
    "X_train_s = scaler.fit_transform(X_train) # scaling the training subset\n",
    "X_test_s = scaler.fit_transform(X_test) # scaling the testing subset\n",
    "\n",
    "# convert target variables to numpy\n",
    "y_train = y_train.values\n",
    "y_test = y_test.values\n",
    "\n",
    "np.save('data/X_train_s.npy', X_train_s)\n",
    "np.save('data/X_test_s.npy', X_test_s)\n",
    "np.save('data/y_train.npy', y_train)\n",
    "np.save('data/y_test.npy', y_test)\n",
    "\n",
    "np.save('data/feature_names.npy', feature_names)"
   ]
  },
  {
   "cell_type": "markdown",
   "metadata": {
    "id": "3er8GIbZibYc"
   },
   "source": [
    "# Data Exploration"
   ]
  },
  {
   "cell_type": "markdown",
   "metadata": {
    "id": "-Bvfbw__if-4"
   },
   "source": [
    "## Distributions"
   ]
  },
  {
   "cell_type": "code",
   "execution_count": null,
   "metadata": {
    "colab": {
     "base_uri": "https://localhost:8080/",
     "height": 511
    },
    "id": "4iI4oV1w1oaC",
    "outputId": "a1fd9d18-8da9-452e-9d60-402964aee317"
   },
   "outputs": [],
   "source": [
    "rows, columns = 4,6\n",
    "# Show the distribution for all attributes\n",
    "fig, axs = plt.subplots(rows,columns, figsize=(15,7))   # initialize 4 by 6 plot grid\n",
    "fig.tight_layout()                                      # set layout\n",
    "column_names = [column for column in data]              # Get column names into list\n",
    "i = 0\n",
    "for x in range(rows):                                   # Fill plot grid\n",
    "    for y in range(columns):\n",
    "        if i < data.shape[1]:\n",
    "            axs[x,y].hist(data[column_names[i]], density=True)\n",
    "            axs[x,y].set(title=column_names[i])\n",
    "            i += 1"
   ]
  },
  {
   "cell_type": "markdown",
   "metadata": {
    "id": "U8KxGLwL1oaD"
   },
   "source": [
    "The final dataset consists of 23 attributes and 129,487 observations. 18 are categorical attributes of which 5 are nominal and 13 are ordinal. 5 features are\n",
    "numerical."
   ]
  },
  {
   "cell_type": "code",
   "execution_count": null,
   "metadata": {
    "colab": {
     "base_uri": "https://localhost:8080/",
     "height": 676
    },
    "id": "j-6EtJAQTzdV",
    "outputId": "518913df-852a-4dc9-f848-16586bcd3d29"
   },
   "outputs": [],
   "source": [
    "data_satisfied = data.query('satisfaction==\"satisfied\"')\n",
    "data_not_satisfied = data.query('satisfaction==\"neutral or dissatisfied\"')\n",
    "\n",
    "# Show the distribution for all attributes\n",
    "fig, axs = plt.subplots(rows,columns, figsize=(27,17))   # initialize plot grid\n",
    "fig.tight_layout()                                      # set layout\n",
    "i = 0\n",
    "for x in range(rows):                                      # Fill plot grid\n",
    "    for y in range(columns):\n",
    "        if i < data.shape[1]:\n",
    "          axs[x,y].hist(data_satisfied[column_names[i]],alpha=.5, density=True)\n",
    "          axs[x,y].hist(data_not_satisfied[column_names[i]],alpha=.5, density=True)\n",
    "          axs[x,y].set(title=column_names[i])\n",
    "          axs[x,y].legend(['Satisfied','Neutral or Dissatisfied'])\n",
    "          i += 1\n"
   ]
  },
  {
   "cell_type": "markdown",
   "metadata": {
    "id": "2yAsawUUc98e"
   },
   "source": [
    "Satisfied customers tend to be older and business class travelers."
   ]
  },
  {
   "cell_type": "markdown",
   "metadata": {
    "id": "OhTqrfFawDqa"
   },
   "source": [
    "### 5-number Summary"
   ]
  },
  {
   "cell_type": "code",
   "execution_count": null,
   "metadata": {
    "colab": {
     "base_uri": "https://localhost:8080/",
     "height": 355
    },
    "id": "AivAB-Wv1oaE",
    "outputId": "45de1820-a829-48ca-d3b0-2565cc2fc39d"
   },
   "outputs": [],
   "source": [
    "data.select_dtypes('int64').describe().round(2)"
   ]
  },
  {
   "cell_type": "markdown",
   "metadata": {
    "id": "5PYa2kqK4bKy"
   },
   "source": [
    "Mean age is 39.4 years old with a standard deviation of 15.1."
   ]
  },
  {
   "cell_type": "markdown",
   "metadata": {
    "id": "1A_LFLQwwIht"
   },
   "source": [
    "### Continuous Variable Outliers"
   ]
  },
  {
   "cell_type": "code",
   "execution_count": null,
   "metadata": {
    "colab": {
     "base_uri": "https://localhost:8080/",
     "height": 498
    },
    "id": "0Mh5f8Mo5g-i",
    "outputId": "3bcfadad-cc12-4d6b-8899-36e7391f6ed2"
   },
   "outputs": [],
   "source": [
    "data_lst = [data['Arrival Delay in Minutes'], \n",
    "            data['Departure Delay in Minutes']] \n",
    "  \n",
    "fig = plt.figure(figsize =(5, 6))\n",
    "\n",
    "# Creating axes instance \n",
    "ax = fig.add_axes([0, 1, 1, 1]) \n",
    "  \n",
    "# Creating plot \n",
    "ax.boxplot(data_lst)\n",
    "plt.xticks([1, 2], [data_lst[0].name, data_lst[1].name])\n",
    "\n",
    "plt.title('Arrival/Departure Delay in Minutes Boxplot', size=16)\n",
    "plt.grid(True)\n",
    "plt.ylabel('Minutes')\n",
    "\n",
    "plt.show()"
   ]
  },
  {
   "cell_type": "code",
   "execution_count": null,
   "metadata": {
    "colab": {
     "base_uri": "https://localhost:8080/",
     "height": 406
    },
    "id": "tMHOoysgju3K",
    "outputId": "b2110d0a-9efe-45f0-b7e0-e0fd43a43d0f"
   },
   "outputs": [],
   "source": [
    "plt.figure(figsize=(4,6))\n",
    "plt.boxplot(data['Flight Distance'])\n",
    "plt.title('Flight Distance Boxplot', size=16)\n",
    "plt.xlabel('Flight Distance')\n",
    "plt.ylabel('Miles')\n",
    "plt.grid(True, alpha=0.8)\n",
    "plt.show()"
   ]
  },
  {
   "cell_type": "markdown",
   "metadata": {
    "id": "46--N2xAfrCA"
   },
   "source": [
    "All 3 variables have a lot of outliers that are way above the top of the IQR range."
   ]
  },
  {
   "cell_type": "markdown",
   "metadata": {
    "id": "mWUQT20Rf6Rx"
   },
   "source": [
    "### Class Counts (Balance)"
   ]
  },
  {
   "cell_type": "code",
   "execution_count": null,
   "metadata": {
    "colab": {
     "base_uri": "https://localhost:8080/",
     "height": 353
    },
    "id": "OEjSofrjrQb3",
    "outputId": "43a076ab-fdff-42c5-bc1e-d59d49bb9da0"
   },
   "outputs": [],
   "source": [
    "target_counts = data['satisfaction'].value_counts()\n",
    "plt.bar(target_counts.index.to_list(), target_counts)\n",
    "plt.title('Class Counts', size=16)\n",
    "plt.xlabel('Satisfaction', size=14)\n",
    "plt.ylabel('Customer Count', size=14)\n",
    "plt.show()\n",
    "\n",
    "target_counts_pct = target_counts / target_counts.sum() * 100\n",
    "print(\"\\nDisatisfied or Neutral {:6.1f}%\".format(target_counts_pct[0]))\n",
    "print(\"Satisfied {:19.1f}%\".format(target_counts_pct[1]))"
   ]
  },
  {
   "cell_type": "markdown",
   "metadata": {
    "id": "eyZq5hVVsval"
   },
   "source": [
    "The classes are disbalanced but not by much. There are slighly less satisfied customers (43.4%) than neutral or dissatisied (56.6%)."
   ]
  },
  {
   "cell_type": "markdown",
   "metadata": {
    "id": "tEb1Sks9TWpZ"
   },
   "source": [
    "#### Normality"
   ]
  },
  {
   "cell_type": "code",
   "execution_count": null,
   "metadata": {
    "colab": {
     "base_uri": "https://localhost:8080/",
     "height": 645
    },
    "id": "blKeKd4FTWHE",
    "outputId": "48704d7e-7658-4287-df43-ec631455c8fb"
   },
   "outputs": [],
   "source": [
    "data_skew_kurt = {\"Kurtosis\": data_dummies.kurt().abs(), \n",
    "        \"Skewness\": data_dummies.skew().abs()}\n",
    "\n",
    "df = pd.concat(data_skew_kurt, axis = 1).round(2)\n",
    "\n",
    "df = df[(df['Kurtosis'] > 1) | (df['Skewness'] > 1)]\n",
    "df.sort_values(by=['Kurtosis'], ascending=False)"
   ]
  },
  {
   "cell_type": "markdown",
   "metadata": {
    "id": "Sn49GlbYUDEy"
   },
   "source": [
    "The variables above have an absolute value of Kurtosis or Skewness that are above 1 and therefore, are not close to being normally distributed. \"Departure Delay in Minutes\" and \"Arrival Delay in Minutes\" variables have extremely large kurtosis values."
   ]
  },
  {
   "cell_type": "code",
   "execution_count": null,
   "metadata": {
    "colab": {
     "base_uri": "https://localhost:8080/",
     "height": 279
    },
    "id": "BhcFIf2zj8kl",
    "outputId": "0b791f85-e6d2-472f-9ce3-6e65fc074dca"
   },
   "outputs": [],
   "source": [
    "import statsmodels.api as sm\n",
    "import matplotlib.pyplot as plt\n",
    "\n",
    "#create Q-Q plot with 45-degree line added to plot\n",
    "fig = sm.qqplot(data['Age'], line='45')\n",
    "plt.show()"
   ]
  },
  {
   "cell_type": "markdown",
   "metadata": {
    "id": "gQoBoSK4j60g"
   },
   "source": [
    "## Correlations"
   ]
  },
  {
   "cell_type": "code",
   "execution_count": null,
   "metadata": {
    "id": "2FPzz5UKg7zY"
   },
   "outputs": [],
   "source": [
    "# most relevant correlation pairs\n",
    "def plot_correlation_pairs(data, threshold):\n",
    "  # plots correlation pairs with a given threshold\n",
    "\n",
    "  # min-max normalization\n",
    "  dummies_norm = (data - data.min()) / (data.max() - data.min())\n",
    "  corr = dummies_norm.corr() # get pearson correlation matrix\n",
    "  corr = corr.mask(np.tril(np.ones(corr.shape)).astype(np.bool)) # remove the lower half of the triangle\n",
    "\n",
    "  corr_filtered = corr[abs(corr) >= threshold].stack().reset_index() # filter out low correlation values\n",
    "  corr_filtered.columns = ['Pair1', 'Pair2', 'Coefficient'] # renaming columns\n",
    "  corr_filtered = corr_filtered.sort_values(kind=\"quicksort\", by='Coefficient') # sorting rows by \"Coefficient\"\n",
    "  corr_filtered = corr_filtered.drop([23,25,24,39]) # dropping values that are the exact opposites of each other\n",
    "  corr_filtered['Pair'] = corr_filtered.agg('{0[Pair1]} / {0[Pair2]}'.format, axis=1) # concetenate the pair columns\n",
    "  corr_filtered = corr_filtered.set_index('Pair') # change index to Pair\n",
    "\n",
    "  corr_filtered.plot(kind='barh', figsize=(10, 16), fontsize=12);\n",
    "  plt.title('Correlation Pairs (for |corr| >'+str(threshold)+')', size=18);\n",
    "  plt.grid(True, alpha=.5);\n",
    "  plt.ylabel('Pair', size=16);\n",
    "  plt.xlabel('Correlation Coefficient', size=16);"
   ]
  },
  {
   "cell_type": "code",
   "execution_count": null,
   "metadata": {
    "colab": {
     "base_uri": "https://localhost:8080/",
     "height": 960
    },
    "id": "pylb_k2VhAuC",
    "outputId": "f6be8984-d806-4bda-ff80-1eb3f0309201"
   },
   "outputs": [],
   "source": [
    "cor_threshold = .3 # filters out correlations below the threshold\n",
    "\n",
    "plot_correlation_pairs(data_dummies, cor_threshold)"
   ]
  },
  {
   "cell_type": "code",
   "execution_count": null,
   "metadata": {
    "colab": {
     "base_uri": "https://localhost:8080/",
     "height": 757
    },
    "id": "49GL5CvSOlIJ",
    "outputId": "c0610e33-3054-4181-dbc9-82ef39600ec6"
   },
   "outputs": [],
   "source": [
    "# correlation plot - filtered for values above .3 correlation\n",
    "fig,ax = plt.subplots(figsize=(20,10))\n",
    "c = data_dummies.corr()\n",
    "threshold = c[np.abs(c)>=.3]\n",
    "sns.heatmap(threshold,cmap='coolwarm')\n",
    "plt.show()"
   ]
  },
  {
   "cell_type": "markdown",
   "metadata": {
    "id": "W9V3GfqlhkWV"
   },
   "source": [
    "Most of the correlation pairs are low or moderately correlated. Only few correlation pairs that come from the same predictors (such as Gender_Female, Gender_Male) have correlations that exceed 0.75. This means that we should have no issues with multicollinearity."
   ]
  },
  {
   "cell_type": "markdown",
   "metadata": {
    "id": "T3By9DI5o2fg"
   },
   "source": [
    "### Cluster Exploration"
   ]
  },
  {
   "cell_type": "code",
   "execution_count": null,
   "metadata": {
    "id": "BWnTGf8Sjd7g"
   },
   "outputs": [],
   "source": [
    "def findBestClusters(data, max_k):\n",
    "    # finds the optimal number of clusters using calinski_harabasz_score\n",
    "    \n",
    "    scores = []\n",
    "    \n",
    "    for k in range(2, max_k+1):\n",
    "        kmeans = KMeans(n_clusters=k, max_iter=500, verbose=0)\n",
    "        fit = kmeans.fit(data)\n",
    "        score = metrics.calinski_harabasz_score(data, fit.labels_)\n",
    "        \n",
    "        scores.append(score)\n",
    "        #print(\"k={:} {:.2f}\".format(k, score))\n",
    "        \n",
    "    return scores"
   ]
  },
  {
   "cell_type": "code",
   "execution_count": null,
   "metadata": {
    "id": "qEwwR2Sjp2Ya"
   },
   "outputs": [],
   "source": [
    "def plot_silhouettes(data, clusters, metric='euclidean'):\n",
    "    # produces silhouettes plots\n",
    "    \n",
    "    cluster_labels = np.unique(clusters)\n",
    "    n_clusters = cluster_labels.shape[0]\n",
    "\n",
    "    silhouette_vals = metrics.silhouette_samples(data, clusters, metric='euclidean')\n",
    "    c_ax_lower, c_ax_upper = 0, 0\n",
    "    cticks = []\n",
    "\n",
    "    for i, k in enumerate(cluster_labels):\n",
    "        c_silhouette_vals = silhouette_vals[clusters == k]\n",
    "        c_silhouette_vals.sort()\n",
    "        c_ax_upper += len(c_silhouette_vals)\n",
    "        color = cm.jet(float(i) / n_clusters)\n",
    "        plt.barh(range(c_ax_lower, c_ax_upper), c_silhouette_vals, height=1.0, \n",
    "                      edgecolor='none', color=color)\n",
    "\n",
    "        cticks.append((c_ax_lower + c_ax_upper) / 2)\n",
    "        c_ax_lower += len(c_silhouette_vals)\n",
    "    \n",
    "    silhouette_avg = np.mean(silhouette_vals)\n",
    "    plt.axvline(silhouette_avg, color=\"red\", linestyle=\"--\") \n",
    "\n",
    "    plt.yticks(cticks, cluster_labels)\n",
    "    plt.ylabel('Cluster')\n",
    "    plt.xlabel('Silhouette coefficient')\n",
    "\n",
    "    plt.tight_layout()\n",
    "    #pl.savefig('images/11_04.png', dpi=300)\n",
    "    plt.show();\n",
    "    \n",
    "    return silhouette_avg"
   ]
  },
  {
   "cell_type": "markdown",
   "metadata": {},
   "source": [
    "#### Find the optimal number of clusters"
   ]
  },
  {
   "cell_type": "code",
   "execution_count": null,
   "metadata": {
    "id": "mOtnww5Ko31t"
   },
   "outputs": [],
   "source": [
    "predictors_s = MinMaxScaler().fit_transform(predictors) # scale the data\n",
    "\n",
    "max_k = 20\n",
    "scores = findBestClusters(predictors_s, max_k) # find the optimal number of clusters"
   ]
  },
  {
   "cell_type": "code",
   "execution_count": null,
   "metadata": {
    "colab": {
     "base_uri": "https://localhost:8080/",
     "height": 279
    },
    "id": "b-kQxyxeqA5P",
    "outputId": "4c680061-3f19-49b3-df59-4ea81a664f56"
   },
   "outputs": [],
   "source": [
    "xaxis_clusters = [*range(2, max_k+1)]\n",
    "plt.xticks(xaxis_clusters)\n",
    "plt.plot(xaxis_clusters, scores)\n",
    "plt.ylabel(\"Calinski Harabasz Score\")\n",
    "plt.xlabel(\"Cluster\")\n",
    "plt.title(\"Cluster number vs Score\", size=16)\n",
    "plt.show()"
   ]
  },
  {
   "cell_type": "markdown",
   "metadata": {},
   "source": [
    "We get the highest Calinski Harabasz score if we assume 2 clusters. The optimal number of clusters appears to be 2."
   ]
  },
  {
   "cell_type": "markdown",
   "metadata": {},
   "source": [
    "#### Evaluation the clusters"
   ]
  },
  {
   "cell_type": "code",
   "execution_count": null,
   "metadata": {
    "id": "fihC4F0UpD8j"
   },
   "outputs": [],
   "source": [
    "kmeans_model = KMeans(n_clusters=2, random_state=1)\n",
    "fit = kmeans_model.fit(predictors_s)\n",
    "clusters = fit.predict(predictors_s)"
   ]
  },
  {
   "cell_type": "code",
   "execution_count": null,
   "metadata": {
    "colab": {
     "base_uri": "https://localhost:8080/"
    },
    "id": "IQ_oLSSzp0sk",
    "outputId": "02317c96-49b0-426f-86f3-dbef72af4bd6"
   },
   "outputs": [],
   "source": [
    "_, counts = np.unique(clusters, return_counts = True)\n",
    "print(counts)"
   ]
  },
  {
   "cell_type": "markdown",
   "metadata": {},
   "source": [
    "Both clusters are very similar in size"
   ]
  },
  {
   "cell_type": "markdown",
   "metadata": {},
   "source": [
    "#### Class distribution of each cluster"
   ]
  },
  {
   "cell_type": "code",
   "execution_count": null,
   "metadata": {},
   "outputs": [],
   "source": [
    "print(\"Completeness {:.4f}\".format(completeness_score(target, clusters)))\n",
    "print(\"Homogeneity {:.4f}\".format(homogeneity_score(target, clusters)))"
   ]
  },
  {
   "cell_type": "markdown",
   "metadata": {},
   "source": [
    "The completeness and homogeneity scores are very low. Low completeness score means that a lot of the data points that are members of a given class are not elements of the same cluster. Also, low homogeneity score means that the clusters contain a mix of both classes and are not uniform. The clusters do not represent the ground truth classes (satisfied or disatisfied/neutral)."
   ]
  },
  {
   "cell_type": "code",
   "execution_count": null,
   "metadata": {
    "colab": {
     "base_uri": "https://localhost:8080/",
     "height": 366
    },
    "id": "R7Pcrq5Cp4p0",
    "outputId": "742e113e-c374-4d0f-f6ec-8b0e92cc9b96"
   },
   "outputs": [],
   "source": [
    "avg_silhouette = plot_silhouettes(predictors_s, clusters)\n",
    "print(avg_silhouette)"
   ]
  },
  {
   "cell_type": "markdown",
   "metadata": {},
   "source": [
    "The average Silhouette score across both clusters is very low, only 0.22. This means that the clusters are not defined well. If we look at the individual clusters in Silhouette plot we also see that most of the points in cluster 0 are well below the average score and very low in general. Cluster 1 looks reasonable as most of the points are above the average. Overall, this data does not seem to have well defined clusters."
   ]
  }
 ],
 "metadata": {
  "colab": {
   "collapsed_sections": [],
   "name": "Final Project.ipynb",
   "provenance": [],
   "toc_visible": true
  },
  "kernelspec": {
   "display_name": "Python 3",
   "language": "python",
   "name": "python3"
  },
  "language_info": {
   "codemirror_mode": {
    "name": "ipython",
    "version": 3
   },
   "file_extension": ".py",
   "mimetype": "text/x-python",
   "name": "python",
   "nbconvert_exporter": "python",
   "pygments_lexer": "ipython3",
   "version": "3.8.5"
  }
 },
 "nbformat": 4,
 "nbformat_minor": 1
}