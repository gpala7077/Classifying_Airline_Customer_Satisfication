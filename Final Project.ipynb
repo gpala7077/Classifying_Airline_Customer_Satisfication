{
 "cells": [
  {
   "cell_type": "markdown",
   "metadata": {
    "collapsed": true,
    "pycharm": {
     "name": "#%% md\n"
    }
   },
   "source": [
    "# This is our final project for DSC 478\n",
    "\n",
    "\n",
    "Trying again to commit changes."
   ]
  },
  {
   "cell_type": "code",
   "execution_count": 1,
   "metadata": {},
   "outputs": [],
   "source": [
    "import pandas as pd\n",
    "import numpy as np"
   ]
  },
  {
   "cell_type": "code",
   "execution_count": 2,
   "metadata": {},
   "outputs": [],
   "source": [
    "data = pd.read_csv('data/2018_Financial_Data.csv')"
   ]
  },
  {
   "cell_type": "code",
   "execution_count": 3,
   "metadata": {},
   "outputs": [
    {
     "output_type": "execute_result",
     "data": {
      "text/plain": [
       "     Unnamed: 0       Revenue  Revenue Growth  Cost of Revenue  Gross Profit  \\\n",
       "0         CMCSA  9.450700e+10          0.1115     0.000000e+00  9.450700e+10   \n",
       "1           KMI  1.414400e+10          0.0320     7.288000e+09  6.856000e+09   \n",
       "2          INTC  7.084800e+10          0.1289     2.711100e+10  4.373700e+10   \n",
       "3            MU  3.039100e+10          0.4955     1.250000e+10  1.789100e+10   \n",
       "4            GE  1.216150e+11          0.0285     9.546100e+10  2.615400e+10   \n",
       "...         ...           ...             ...              ...           ...   \n",
       "4387       YRIV  0.000000e+00          0.0000     0.000000e+00  0.000000e+00   \n",
       "4388       YTEN  5.560000e+05         -0.4110     0.000000e+00  5.560000e+05   \n",
       "4389       ZKIN  5.488438e+07          0.2210     3.659379e+07  1.829059e+07   \n",
       "4390        ZOM  0.000000e+00          0.0000     0.000000e+00  0.000000e+00   \n",
       "4391       ZYME  5.301900e+07          0.0243     0.000000e+00  5.301900e+07   \n",
       "\n",
       "      R&D Expenses  SG&A Expense  Operating Expenses  Operating Income  \\\n",
       "0     0.000000e+00  6.482200e+10        7.549800e+10      1.900900e+10   \n",
       "1     0.000000e+00  6.010000e+08        3.062000e+09      3.794000e+09   \n",
       "2     1.354300e+10  6.750000e+09        2.042100e+10      2.331600e+10   \n",
       "3     2.141000e+09  8.130000e+08        2.897000e+09      1.499400e+10   \n",
       "4     0.000000e+00  1.811100e+10        4.071100e+10     -1.455700e+10   \n",
       "...            ...           ...                 ...               ...   \n",
       "4387  0.000000e+00  3.755251e+06        3.755251e+06     -3.755251e+06   \n",
       "4388  4.759000e+06  5.071000e+06        9.830000e+06     -9.274000e+06   \n",
       "4389  1.652633e+06  7.020320e+06        8.672953e+06      9.617636e+06   \n",
       "4390  1.031715e+07  4.521349e+06        1.664863e+07     -1.664863e+07   \n",
       "4391  5.668400e+07  2.945700e+07        8.614600e+07     -3.312700e+07   \n",
       "\n",
       "      Interest Expense  ...  Receivables growth  Inventory Growth  \\\n",
       "0         3.542000e+09  ...              0.2570            0.0000   \n",
       "1         1.917000e+09  ...              0.0345           -0.0920   \n",
       "2        -1.260000e+08  ...              0.1989            0.0387   \n",
       "3         3.420000e+08  ...              0.4573            0.1511   \n",
       "4         5.059000e+09  ...             -0.2781           -0.2892   \n",
       "...                ...  ...                 ...               ...   \n",
       "4387      1.105849e+07  ...              0.0000            0.0000   \n",
       "4388      0.000000e+00  ...              0.3445            0.0000   \n",
       "4389      1.239170e+06  ...              0.1605            0.7706   \n",
       "4390      0.000000e+00  ...              0.8980            0.0000   \n",
       "4391      1.660000e+05  ...             -0.4185            0.0000   \n",
       "\n",
       "      Asset Growth  Book Value per Share Growth  Debt Growth  \\\n",
       "0           0.3426                       0.0722       0.7309   \n",
       "1          -0.0024                       0.0076      -0.0137   \n",
       "2           0.0382                       0.1014      -0.0169   \n",
       "3           0.2275                       0.6395      -0.5841   \n",
       "4          -0.1575                      -0.4487      -0.2297   \n",
       "...            ...                          ...          ...   \n",
       "4387       -0.0508                      -0.1409      -0.0152   \n",
       "4388       -0.2323                      -0.8602       0.0000   \n",
       "4389        0.2489                       0.4074      -0.0968   \n",
       "4390        0.1568                      -0.2200       0.0000   \n",
       "4391        0.8519                       0.1325       0.0000   \n",
       "\n",
       "      R&D Expense Growth  SG&A Expenses Growth             Sector  \\\n",
       "0                 0.0000                0.1308  Consumer Cyclical   \n",
       "1                 0.0000               -0.1265             Energy   \n",
       "2                 0.0390               -0.0942         Technology   \n",
       "3                 0.1738                0.0942         Technology   \n",
       "4                 0.0000                0.0308        Industrials   \n",
       "...                  ...                   ...                ...   \n",
       "4387              0.0000               -0.2602        Real Estate   \n",
       "4388              0.0352               -0.0993    Basic Materials   \n",
       "4389              0.2415                0.8987    Basic Materials   \n",
       "4390              2.7499                0.1457        Industrials   \n",
       "4391              0.3577                0.5880         Healthcare   \n",
       "\n",
       "      2019 PRICE VAR [%]  Class  \n",
       "0              32.794573      1  \n",
       "1              40.588068      1  \n",
       "2              30.295514      1  \n",
       "3              64.213737      1  \n",
       "4              44.757840      1  \n",
       "...                  ...    ...  \n",
       "4387          -90.962099      0  \n",
       "4388          -77.922077      0  \n",
       "4389          -17.834400      0  \n",
       "4390          -73.520000      0  \n",
       "4391          209.462222      1  \n",
       "\n",
       "[4392 rows x 225 columns]"
      ],
      "text/html": "<div>\n<style scoped>\n    .dataframe tbody tr th:only-of-type {\n        vertical-align: middle;\n    }\n\n    .dataframe tbody tr th {\n        vertical-align: top;\n    }\n\n    .dataframe thead th {\n        text-align: right;\n    }\n</style>\n<table border=\"1\" class=\"dataframe\">\n  <thead>\n    <tr style=\"text-align: right;\">\n      <th></th>\n      <th>Unnamed: 0</th>\n      <th>Revenue</th>\n      <th>Revenue Growth</th>\n      <th>Cost of Revenue</th>\n      <th>Gross Profit</th>\n      <th>R&amp;D Expenses</th>\n      <th>SG&amp;A Expense</th>\n      <th>Operating Expenses</th>\n      <th>Operating Income</th>\n      <th>Interest Expense</th>\n      <th>...</th>\n      <th>Receivables growth</th>\n      <th>Inventory Growth</th>\n      <th>Asset Growth</th>\n      <th>Book Value per Share Growth</th>\n      <th>Debt Growth</th>\n      <th>R&amp;D Expense Growth</th>\n      <th>SG&amp;A Expenses Growth</th>\n      <th>Sector</th>\n      <th>2019 PRICE VAR [%]</th>\n      <th>Class</th>\n    </tr>\n  </thead>\n  <tbody>\n    <tr>\n      <th>0</th>\n      <td>CMCSA</td>\n      <td>9.450700e+10</td>\n      <td>0.1115</td>\n      <td>0.000000e+00</td>\n      <td>9.450700e+10</td>\n      <td>0.000000e+00</td>\n      <td>6.482200e+10</td>\n      <td>7.549800e+10</td>\n      <td>1.900900e+10</td>\n      <td>3.542000e+09</td>\n      <td>...</td>\n      <td>0.2570</td>\n      <td>0.0000</td>\n      <td>0.3426</td>\n      <td>0.0722</td>\n      <td>0.7309</td>\n      <td>0.0000</td>\n      <td>0.1308</td>\n      <td>Consumer Cyclical</td>\n      <td>32.794573</td>\n      <td>1</td>\n    </tr>\n    <tr>\n      <th>1</th>\n      <td>KMI</td>\n      <td>1.414400e+10</td>\n      <td>0.0320</td>\n      <td>7.288000e+09</td>\n      <td>6.856000e+09</td>\n      <td>0.000000e+00</td>\n      <td>6.010000e+08</td>\n      <td>3.062000e+09</td>\n      <td>3.794000e+09</td>\n      <td>1.917000e+09</td>\n      <td>...</td>\n      <td>0.0345</td>\n      <td>-0.0920</td>\n      <td>-0.0024</td>\n      <td>0.0076</td>\n      <td>-0.0137</td>\n      <td>0.0000</td>\n      <td>-0.1265</td>\n      <td>Energy</td>\n      <td>40.588068</td>\n      <td>1</td>\n    </tr>\n    <tr>\n      <th>2</th>\n      <td>INTC</td>\n      <td>7.084800e+10</td>\n      <td>0.1289</td>\n      <td>2.711100e+10</td>\n      <td>4.373700e+10</td>\n      <td>1.354300e+10</td>\n      <td>6.750000e+09</td>\n      <td>2.042100e+10</td>\n      <td>2.331600e+10</td>\n      <td>-1.260000e+08</td>\n      <td>...</td>\n      <td>0.1989</td>\n      <td>0.0387</td>\n      <td>0.0382</td>\n      <td>0.1014</td>\n      <td>-0.0169</td>\n      <td>0.0390</td>\n      <td>-0.0942</td>\n      <td>Technology</td>\n      <td>30.295514</td>\n      <td>1</td>\n    </tr>\n    <tr>\n      <th>3</th>\n      <td>MU</td>\n      <td>3.039100e+10</td>\n      <td>0.4955</td>\n      <td>1.250000e+10</td>\n      <td>1.789100e+10</td>\n      <td>2.141000e+09</td>\n      <td>8.130000e+08</td>\n      <td>2.897000e+09</td>\n      <td>1.499400e+10</td>\n      <td>3.420000e+08</td>\n      <td>...</td>\n      <td>0.4573</td>\n      <td>0.1511</td>\n      <td>0.2275</td>\n      <td>0.6395</td>\n      <td>-0.5841</td>\n      <td>0.1738</td>\n      <td>0.0942</td>\n      <td>Technology</td>\n      <td>64.213737</td>\n      <td>1</td>\n    </tr>\n    <tr>\n      <th>4</th>\n      <td>GE</td>\n      <td>1.216150e+11</td>\n      <td>0.0285</td>\n      <td>9.546100e+10</td>\n      <td>2.615400e+10</td>\n      <td>0.000000e+00</td>\n      <td>1.811100e+10</td>\n      <td>4.071100e+10</td>\n      <td>-1.455700e+10</td>\n      <td>5.059000e+09</td>\n      <td>...</td>\n      <td>-0.2781</td>\n      <td>-0.2892</td>\n      <td>-0.1575</td>\n      <td>-0.4487</td>\n      <td>-0.2297</td>\n      <td>0.0000</td>\n      <td>0.0308</td>\n      <td>Industrials</td>\n      <td>44.757840</td>\n      <td>1</td>\n    </tr>\n    <tr>\n      <th>...</th>\n      <td>...</td>\n      <td>...</td>\n      <td>...</td>\n      <td>...</td>\n      <td>...</td>\n      <td>...</td>\n      <td>...</td>\n      <td>...</td>\n      <td>...</td>\n      <td>...</td>\n      <td>...</td>\n      <td>...</td>\n      <td>...</td>\n      <td>...</td>\n      <td>...</td>\n      <td>...</td>\n      <td>...</td>\n      <td>...</td>\n      <td>...</td>\n      <td>...</td>\n      <td>...</td>\n    </tr>\n    <tr>\n      <th>4387</th>\n      <td>YRIV</td>\n      <td>0.000000e+00</td>\n      <td>0.0000</td>\n      <td>0.000000e+00</td>\n      <td>0.000000e+00</td>\n      <td>0.000000e+00</td>\n      <td>3.755251e+06</td>\n      <td>3.755251e+06</td>\n      <td>-3.755251e+06</td>\n      <td>1.105849e+07</td>\n      <td>...</td>\n      <td>0.0000</td>\n      <td>0.0000</td>\n      <td>-0.0508</td>\n      <td>-0.1409</td>\n      <td>-0.0152</td>\n      <td>0.0000</td>\n      <td>-0.2602</td>\n      <td>Real Estate</td>\n      <td>-90.962099</td>\n      <td>0</td>\n    </tr>\n    <tr>\n      <th>4388</th>\n      <td>YTEN</td>\n      <td>5.560000e+05</td>\n      <td>-0.4110</td>\n      <td>0.000000e+00</td>\n      <td>5.560000e+05</td>\n      <td>4.759000e+06</td>\n      <td>5.071000e+06</td>\n      <td>9.830000e+06</td>\n      <td>-9.274000e+06</td>\n      <td>0.000000e+00</td>\n      <td>...</td>\n      <td>0.3445</td>\n      <td>0.0000</td>\n      <td>-0.2323</td>\n      <td>-0.8602</td>\n      <td>0.0000</td>\n      <td>0.0352</td>\n      <td>-0.0993</td>\n      <td>Basic Materials</td>\n      <td>-77.922077</td>\n      <td>0</td>\n    </tr>\n    <tr>\n      <th>4389</th>\n      <td>ZKIN</td>\n      <td>5.488438e+07</td>\n      <td>0.2210</td>\n      <td>3.659379e+07</td>\n      <td>1.829059e+07</td>\n      <td>1.652633e+06</td>\n      <td>7.020320e+06</td>\n      <td>8.672953e+06</td>\n      <td>9.617636e+06</td>\n      <td>1.239170e+06</td>\n      <td>...</td>\n      <td>0.1605</td>\n      <td>0.7706</td>\n      <td>0.2489</td>\n      <td>0.4074</td>\n      <td>-0.0968</td>\n      <td>0.2415</td>\n      <td>0.8987</td>\n      <td>Basic Materials</td>\n      <td>-17.834400</td>\n      <td>0</td>\n    </tr>\n    <tr>\n      <th>4390</th>\n      <td>ZOM</td>\n      <td>0.000000e+00</td>\n      <td>0.0000</td>\n      <td>0.000000e+00</td>\n      <td>0.000000e+00</td>\n      <td>1.031715e+07</td>\n      <td>4.521349e+06</td>\n      <td>1.664863e+07</td>\n      <td>-1.664863e+07</td>\n      <td>0.000000e+00</td>\n      <td>...</td>\n      <td>0.8980</td>\n      <td>0.0000</td>\n      <td>0.1568</td>\n      <td>-0.2200</td>\n      <td>0.0000</td>\n      <td>2.7499</td>\n      <td>0.1457</td>\n      <td>Industrials</td>\n      <td>-73.520000</td>\n      <td>0</td>\n    </tr>\n    <tr>\n      <th>4391</th>\n      <td>ZYME</td>\n      <td>5.301900e+07</td>\n      <td>0.0243</td>\n      <td>0.000000e+00</td>\n      <td>5.301900e+07</td>\n      <td>5.668400e+07</td>\n      <td>2.945700e+07</td>\n      <td>8.614600e+07</td>\n      <td>-3.312700e+07</td>\n      <td>1.660000e+05</td>\n      <td>...</td>\n      <td>-0.4185</td>\n      <td>0.0000</td>\n      <td>0.8519</td>\n      <td>0.1325</td>\n      <td>0.0000</td>\n      <td>0.3577</td>\n      <td>0.5880</td>\n      <td>Healthcare</td>\n      <td>209.462222</td>\n      <td>1</td>\n    </tr>\n  </tbody>\n</table>\n<p>4392 rows × 225 columns</p>\n</div>"
     },
     "metadata": {},
     "execution_count": 3
    }
   ],
   "source": [
    "data"
   ]
  },
  {
   "cell_type": "code",
   "execution_count": null,
   "metadata": {},
   "outputs": [],
   "source": []
  }
 ],
 "metadata": {
  "kernelspec": {
   "name": "python3",
   "display_name": "Python 3.8.2 64-bit ('DePaul': conda)",
   "metadata": {
    "interpreter": {
     "hash": "d73578aac8b07760489f3cd708d73e64b8afc562ceda62f21181d35913f78f74"
    }
   }
  },
  "language_info": {
   "codemirror_mode": {
    "name": "ipython",
    "version": 2
   },
   "file_extension": ".py",
   "mimetype": "text/x-python",
   "name": "python",
   "nbconvert_exporter": "python",
   "pygments_lexer": "ipython2",
   "version": "3.8.2-final"
  }
 },
 "nbformat": 4,
 "nbformat_minor": 0
}