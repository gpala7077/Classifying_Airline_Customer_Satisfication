{
 "cells": [
  {
   "cell_type": "markdown",
   "metadata": {
    "collapsed": true,
    "pycharm": {
     "name": "#%% md\n"
    }
   },
   "source": [
    "# Executive Summary\n",
    "\n",
    "# Data Characteristics\n",
    "The raw dataset consists of 129,880 observations and 23 different attributes. The sample is an anonymized dataset from a\n",
    "US Airline describing their passenger characteristics, ratings on various airline features and airline flight delays.\n",
    "It is a rather complete dataset, with very few null observations. Only 393 instances under 'Arrival Delay in Minutes'\n",
    "were found to have null values.  Due to the large dataset, it would be best to drop any instances where null values\n",
    "exist. After removing rows that contain null values, the final usable dataset consists of 23 attributes and 129,487\n",
    "observations; 5 of which, are categorical attributes and 17 are numerical attributes.\n",
    "   ## Distributions of Attributes\n",
    "\n",
    "\n",
    "# Data Exploration\n",
    "\n",
    "# Modeling Methodologies\n",
    "\n",
    "# Conclusion"
   ]
  }
 ],
 "metadata": {
  "kernelspec": {
   "display_name": "Python 3",
   "language": "python",
   "name": "python3"
  },
  "language_info": {
   "codemirror_mode": {
    "name": "ipython",
    "version": 2
   },
   "file_extension": ".py",
   "mimetype": "text/x-python",
   "name": "python",
   "nbconvert_exporter": "python",
   "pygments_lexer": "ipython2",
   "version": "2.7.6"
  }
 },
 "nbformat": 4,
 "nbformat_minor": 0
}