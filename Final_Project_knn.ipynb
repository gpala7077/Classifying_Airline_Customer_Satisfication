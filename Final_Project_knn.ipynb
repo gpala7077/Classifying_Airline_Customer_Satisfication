{
 "cells": [
  {
   "cell_type": "markdown",
   "metadata": {
    "id": "np3xi9oi1oZ7"
   },
   "source": [
    "# Initial Data Analysis"
   ]
  },
  {
   "cell_type": "code",
   "execution_count": 1,
   "metadata": {
    "id": "PzRQ4VyW-MZI"
   },
   "outputs": [],
   "source": [
    "import pandas as pd\n",
    "import numpy as np\n",
    "from matplotlib import pyplot as plt\n",
    "import sklearn\n",
    "\n",
    "from sklearn.model_selection import train_test_split\n",
    "from sklearn.preprocessing import StandardScaler\n",
    "\n",
    "import seaborn as sns\n",
    "from sklearn import metrics\n",
    "from sklearn.linear_model import LogisticRegression\n",
    "\n",
    "from sklearn import neighbors, tree, naive_bayes\n",
    "from sklearn.ensemble import RandomForestClassifier\n",
    "from sklearn.discriminant_analysis import LinearDiscriminantAnalysis\n",
    "from sklearn import model_selection\n",
    "from sklearn.model_selection import GridSearchCV\n",
    "from sklearn.metrics import mean_squared_error\n",
    "from sklearn.cluster import KMeans\n",
    "from sklearn.metrics import silhouette_samples\n",
    "from sklearn.neighbors import KNeighborsClassifier\n",
    "from sklearn.model_selection import KFold\n",
    "\n",
    "from david.textToSpeech import say"
   ]
  },
  {
   "cell_type": "code",
   "execution_count": 22,
   "metadata": {},
   "outputs": [],
   "source": [
    "X_train_s = np.load('data/X_train_s.npy')\n",
    "X_test_s = np.load('data/X_test_s.npy')\n",
    "y_train = np.load('data/y_train.npy')\n",
    "y_test = np.load('data/y_test.npy')"
   ]
  },
  {
   "cell_type": "code",
   "execution_count": 23,
   "metadata": {},
   "outputs": [
    {
     "data": {
      "text/plain": [
       "(103589, 27)"
      ]
     },
     "execution_count": 23,
     "metadata": {},
     "output_type": "execute_result"
    }
   ],
   "source": [
    "X_train_s.shape"
   ]
  },
  {
   "cell_type": "code",
   "execution_count": 6,
   "metadata": {
    "id": "kx4lQzuAjrG9"
   },
   "outputs": [],
   "source": [
    "# models\n",
    "treeclf = tree.DecisionTreeClassifier(criterion='entropy', min_samples_split=3)\n",
    "knnclf = neighbors.KNeighborsClassifier(5, weights='distance')\n",
    "ldclf = LinearDiscriminantAnalysis()\n",
    "nbclf = naive_bayes.GaussianNB()\n",
    "rfclf = RandomForestClassifier(random_state=33)"
   ]
  },
  {
   "cell_type": "markdown",
   "metadata": {},
   "source": [
    "# Decision Tree"
   ]
  },
  {
   "cell_type": "code",
   "execution_count": 7,
   "metadata": {},
   "outputs": [],
   "source": [
    "tree = tree.DecisionTreeClassifier()\n",
    "\n",
    "# parameter values to be optimized for\n",
    "parameters = {\n",
    "    #'criterion': ['entropy', 'gini'],\n",
    "#    'max_depth': [None, 16,32,64, 80, 90 ,100,110,120],\n",
    "#    'min_samples_split' : [50,64,70,80,90],\n",
    "#    'min_samples_leaf' : [1,2,3,4],\n",
    "    'n_estimators': [5, 10, 20, 30, 40, 50, 80, 100],\n",
    "    'class_weight' : ['balanced'] #None, \n",
    "}\n",
    "\n",
    "# GridSearch finds the best combination of paramters\n",
    "tree_gs = GridSearchCV(rfclf, parameters, verbose=3, cv=5, scoring='accuracy', n_jobs=-1, return_train_score=False)"
   ]
  },
  {
   "cell_type": "code",
   "execution_count": 8,
   "metadata": {},
   "outputs": [
    {
     "name": "stdout",
     "output_type": "stream",
     "text": [
      "Fitting 5 folds for each of 8 candidates, totalling 40 fits\n"
     ]
    },
    {
     "name": "stderr",
     "output_type": "stream",
     "text": [
      "[Parallel(n_jobs=-1)]: Using backend LokyBackend with 8 concurrent workers.\n",
      "[Parallel(n_jobs=-1)]: Done  16 tasks      | elapsed:    8.6s\n",
      "[Parallel(n_jobs=-1)]: Done  40 out of  40 | elapsed:   46.3s finished\n"
     ]
    },
    {
     "data": {
      "text/plain": [
       "GridSearchCV(cv=5, estimator=RandomForestClassifier(random_state=33), n_jobs=-1,\n",
       "             param_grid={'class_weight': ['balanced'],\n",
       "                         'n_estimators': [5, 10, 20, 30, 40, 50, 80, 100]},\n",
       "             scoring='accuracy', verbose=3)"
      ]
     },
     "execution_count": 8,
     "metadata": {},
     "output_type": "execute_result"
    }
   ],
   "source": [
    "tree_gs.fit(X_train_s, y_train) # performs gridsearch"
   ]
  },
  {
   "cell_type": "code",
   "execution_count": 9,
   "metadata": {},
   "outputs": [
    {
     "name": "stdout",
     "output_type": "stream",
     "text": [
      "{'class_weight': 'balanced', 'n_estimators': 80}\n",
      "RMSE (test): 0.9630\n"
     ]
    }
   ],
   "source": [
    "print(tree_gs.best_params_)\n",
    "print(\"RMSE (test): {:.4f}\".format(tree_gs.best_score_))"
   ]
  },
  {
   "cell_type": "code",
   "execution_count": 10,
   "metadata": {},
   "outputs": [],
   "source": [
    "say('The task is complete.')"
   ]
  },
  {
   "cell_type": "code",
   "execution_count": 11,
   "metadata": {},
   "outputs": [
    {
     "ename": "NameError",
     "evalue": "name 'measure_performance' is not defined",
     "output_type": "error",
     "traceback": [
      "\u001b[0;31m---------------------------------------------------------------------------\u001b[0m",
      "\u001b[0;31mNameError\u001b[0m                                 Traceback (most recent call last)",
      "\u001b[0;32m<ipython-input-11-fe2d2ef6e54f>\u001b[0m in \u001b[0;36m<module>\u001b[0;34m\u001b[0m\n\u001b[0;32m----> 1\u001b[0;31m \u001b[0mmeasure_performance\u001b[0m\u001b[0;34m(\u001b[0m\u001b[0mX_test_s\u001b[0m\u001b[0;34m,\u001b[0m \u001b[0my_test\u001b[0m\u001b[0;34m,\u001b[0m \u001b[0mtree_gs\u001b[0m\u001b[0;34m,\u001b[0m \u001b[0mshow_confussion_matrix\u001b[0m\u001b[0;34m=\u001b[0m\u001b[0;32mTrue\u001b[0m\u001b[0;34m,\u001b[0m \u001b[0mshow_classification_report\u001b[0m\u001b[0;34m=\u001b[0m\u001b[0;32mTrue\u001b[0m\u001b[0;34m)\u001b[0m\u001b[0;34m\u001b[0m\u001b[0;34m\u001b[0m\u001b[0m\n\u001b[0m",
      "\u001b[0;31mNameError\u001b[0m: name 'measure_performance' is not defined"
     ]
    }
   ],
   "source": [
    "measure_performance(X_test_s, y_test, tree_gs, show_confussion_matrix=True, show_classification_report=True)"
   ]
  },
  {
   "cell_type": "markdown",
   "metadata": {},
   "source": [
    "# KNN"
   ]
  },
  {
   "cell_type": "code",
   "execution_count": 19,
   "metadata": {},
   "outputs": [],
   "source": [
    "knn = neighbors.KNeighborsClassifier()\n",
    "\n",
    "# parameter values to be optimized for\n",
    "parameters = {\n",
    "    'n_neighbors' : [*range(1, 21)],\n",
    "    'weights': ['uniform', 'distance'],\n",
    "    'p': [1, 2]\n",
    "}\n",
    "\n",
    "# GridSearch finds the best combination of paramters\n",
    "knn_gs = GridSearchCV(knn, parameters, verbose=3, cv=5, scoring='accuracy', n_jobs=-1, return_train_score=False)"
   ]
  },
  {
   "cell_type": "code",
   "execution_count": 20,
   "metadata": {},
   "outputs": [
    {
     "name": "stdout",
     "output_type": "stream",
     "text": [
      "Fitting 5 folds for each of 80 candidates, totalling 400 fits\n"
     ]
    },
    {
     "name": "stderr",
     "output_type": "stream",
     "text": [
      "[Parallel(n_jobs=-1)]: Using backend LokyBackend with 8 concurrent workers.\n",
      "[Parallel(n_jobs=-1)]: Done  16 tasks      | elapsed:  4.4min\n",
      "[Parallel(n_jobs=-1)]: Done 112 tasks      | elapsed: 33.9min\n"
     ]
    },
    {
     "ename": "KeyboardInterrupt",
     "evalue": "",
     "output_type": "error",
     "traceback": [
      "\u001b[0;31m---------------------------------------------------------------------------\u001b[0m",
      "\u001b[0;31mKeyboardInterrupt\u001b[0m                         Traceback (most recent call last)",
      "\u001b[0;32m<ipython-input-20-11ff91318675>\u001b[0m in \u001b[0;36m<module>\u001b[0;34m\u001b[0m\n\u001b[0;32m----> 1\u001b[0;31m \u001b[0mknn_gs\u001b[0m\u001b[0;34m.\u001b[0m\u001b[0mfit\u001b[0m\u001b[0;34m(\u001b[0m\u001b[0mX_train_s\u001b[0m\u001b[0;34m,\u001b[0m \u001b[0my_train\u001b[0m\u001b[0;34m)\u001b[0m \u001b[0;31m# performs gridsearch\u001b[0m\u001b[0;34m\u001b[0m\u001b[0;34m\u001b[0m\u001b[0m\n\u001b[0m",
      "\u001b[0;32m~/opt/anaconda3/lib/python3.8/site-packages/sklearn/utils/validation.py\u001b[0m in \u001b[0;36minner_f\u001b[0;34m(*args, **kwargs)\u001b[0m\n\u001b[1;32m     70\u001b[0m                           FutureWarning)\n\u001b[1;32m     71\u001b[0m         \u001b[0mkwargs\u001b[0m\u001b[0;34m.\u001b[0m\u001b[0mupdate\u001b[0m\u001b[0;34m(\u001b[0m\u001b[0;34m{\u001b[0m\u001b[0mk\u001b[0m\u001b[0;34m:\u001b[0m \u001b[0marg\u001b[0m \u001b[0;32mfor\u001b[0m \u001b[0mk\u001b[0m\u001b[0;34m,\u001b[0m \u001b[0marg\u001b[0m \u001b[0;32min\u001b[0m \u001b[0mzip\u001b[0m\u001b[0;34m(\u001b[0m\u001b[0msig\u001b[0m\u001b[0;34m.\u001b[0m\u001b[0mparameters\u001b[0m\u001b[0;34m,\u001b[0m \u001b[0margs\u001b[0m\u001b[0;34m)\u001b[0m\u001b[0;34m}\u001b[0m\u001b[0;34m)\u001b[0m\u001b[0;34m\u001b[0m\u001b[0;34m\u001b[0m\u001b[0m\n\u001b[0;32m---> 72\u001b[0;31m         \u001b[0;32mreturn\u001b[0m \u001b[0mf\u001b[0m\u001b[0;34m(\u001b[0m\u001b[0;34m**\u001b[0m\u001b[0mkwargs\u001b[0m\u001b[0;34m)\u001b[0m\u001b[0;34m\u001b[0m\u001b[0;34m\u001b[0m\u001b[0m\n\u001b[0m\u001b[1;32m     73\u001b[0m     \u001b[0;32mreturn\u001b[0m \u001b[0minner_f\u001b[0m\u001b[0;34m\u001b[0m\u001b[0;34m\u001b[0m\u001b[0m\n\u001b[1;32m     74\u001b[0m \u001b[0;34m\u001b[0m\u001b[0m\n",
      "\u001b[0;32m~/opt/anaconda3/lib/python3.8/site-packages/sklearn/model_selection/_search.py\u001b[0m in \u001b[0;36mfit\u001b[0;34m(self, X, y, groups, **fit_params)\u001b[0m\n\u001b[1;32m    734\u001b[0m                 \u001b[0;32mreturn\u001b[0m \u001b[0mresults\u001b[0m\u001b[0;34m\u001b[0m\u001b[0;34m\u001b[0m\u001b[0m\n\u001b[1;32m    735\u001b[0m \u001b[0;34m\u001b[0m\u001b[0m\n\u001b[0;32m--> 736\u001b[0;31m             \u001b[0mself\u001b[0m\u001b[0;34m.\u001b[0m\u001b[0m_run_search\u001b[0m\u001b[0;34m(\u001b[0m\u001b[0mevaluate_candidates\u001b[0m\u001b[0;34m)\u001b[0m\u001b[0;34m\u001b[0m\u001b[0;34m\u001b[0m\u001b[0m\n\u001b[0m\u001b[1;32m    737\u001b[0m \u001b[0;34m\u001b[0m\u001b[0m\n\u001b[1;32m    738\u001b[0m         \u001b[0;31m# For multi-metric evaluation, store the best_index_, best_params_ and\u001b[0m\u001b[0;34m\u001b[0m\u001b[0;34m\u001b[0m\u001b[0;34m\u001b[0m\u001b[0m\n",
      "\u001b[0;32m~/opt/anaconda3/lib/python3.8/site-packages/sklearn/model_selection/_search.py\u001b[0m in \u001b[0;36m_run_search\u001b[0;34m(self, evaluate_candidates)\u001b[0m\n\u001b[1;32m   1186\u001b[0m     \u001b[0;32mdef\u001b[0m \u001b[0m_run_search\u001b[0m\u001b[0;34m(\u001b[0m\u001b[0mself\u001b[0m\u001b[0;34m,\u001b[0m \u001b[0mevaluate_candidates\u001b[0m\u001b[0;34m)\u001b[0m\u001b[0;34m:\u001b[0m\u001b[0;34m\u001b[0m\u001b[0;34m\u001b[0m\u001b[0m\n\u001b[1;32m   1187\u001b[0m         \u001b[0;34m\"\"\"Search all candidates in param_grid\"\"\"\u001b[0m\u001b[0;34m\u001b[0m\u001b[0;34m\u001b[0m\u001b[0m\n\u001b[0;32m-> 1188\u001b[0;31m         \u001b[0mevaluate_candidates\u001b[0m\u001b[0;34m(\u001b[0m\u001b[0mParameterGrid\u001b[0m\u001b[0;34m(\u001b[0m\u001b[0mself\u001b[0m\u001b[0;34m.\u001b[0m\u001b[0mparam_grid\u001b[0m\u001b[0;34m)\u001b[0m\u001b[0;34m)\u001b[0m\u001b[0;34m\u001b[0m\u001b[0;34m\u001b[0m\u001b[0m\n\u001b[0m\u001b[1;32m   1189\u001b[0m \u001b[0;34m\u001b[0m\u001b[0m\n\u001b[1;32m   1190\u001b[0m \u001b[0;34m\u001b[0m\u001b[0m\n",
      "\u001b[0;32m~/opt/anaconda3/lib/python3.8/site-packages/sklearn/model_selection/_search.py\u001b[0m in \u001b[0;36mevaluate_candidates\u001b[0;34m(candidate_params)\u001b[0m\n\u001b[1;32m    706\u001b[0m                               n_splits, n_candidates, n_candidates * n_splits))\n\u001b[1;32m    707\u001b[0m \u001b[0;34m\u001b[0m\u001b[0m\n\u001b[0;32m--> 708\u001b[0;31m                 out = parallel(delayed(_fit_and_score)(clone(base_estimator),\n\u001b[0m\u001b[1;32m    709\u001b[0m                                                        \u001b[0mX\u001b[0m\u001b[0;34m,\u001b[0m \u001b[0my\u001b[0m\u001b[0;34m,\u001b[0m\u001b[0;34m\u001b[0m\u001b[0;34m\u001b[0m\u001b[0m\n\u001b[1;32m    710\u001b[0m                                                        \u001b[0mtrain\u001b[0m\u001b[0;34m=\u001b[0m\u001b[0mtrain\u001b[0m\u001b[0;34m,\u001b[0m \u001b[0mtest\u001b[0m\u001b[0;34m=\u001b[0m\u001b[0mtest\u001b[0m\u001b[0;34m,\u001b[0m\u001b[0;34m\u001b[0m\u001b[0;34m\u001b[0m\u001b[0m\n",
      "\u001b[0;32m~/opt/anaconda3/lib/python3.8/site-packages/joblib/parallel.py\u001b[0m in \u001b[0;36m__call__\u001b[0;34m(self, iterable)\u001b[0m\n\u001b[1;32m   1059\u001b[0m \u001b[0;34m\u001b[0m\u001b[0m\n\u001b[1;32m   1060\u001b[0m             \u001b[0;32mwith\u001b[0m \u001b[0mself\u001b[0m\u001b[0;34m.\u001b[0m\u001b[0m_backend\u001b[0m\u001b[0;34m.\u001b[0m\u001b[0mretrieval_context\u001b[0m\u001b[0;34m(\u001b[0m\u001b[0;34m)\u001b[0m\u001b[0;34m:\u001b[0m\u001b[0;34m\u001b[0m\u001b[0;34m\u001b[0m\u001b[0m\n\u001b[0;32m-> 1061\u001b[0;31m                 \u001b[0mself\u001b[0m\u001b[0;34m.\u001b[0m\u001b[0mretrieve\u001b[0m\u001b[0;34m(\u001b[0m\u001b[0;34m)\u001b[0m\u001b[0;34m\u001b[0m\u001b[0;34m\u001b[0m\u001b[0m\n\u001b[0m\u001b[1;32m   1062\u001b[0m             \u001b[0;31m# Make sure that we get a last message telling us we are done\u001b[0m\u001b[0;34m\u001b[0m\u001b[0;34m\u001b[0m\u001b[0;34m\u001b[0m\u001b[0m\n\u001b[1;32m   1063\u001b[0m             \u001b[0melapsed_time\u001b[0m \u001b[0;34m=\u001b[0m \u001b[0mtime\u001b[0m\u001b[0;34m.\u001b[0m\u001b[0mtime\u001b[0m\u001b[0;34m(\u001b[0m\u001b[0;34m)\u001b[0m \u001b[0;34m-\u001b[0m \u001b[0mself\u001b[0m\u001b[0;34m.\u001b[0m\u001b[0m_start_time\u001b[0m\u001b[0;34m\u001b[0m\u001b[0;34m\u001b[0m\u001b[0m\n",
      "\u001b[0;32m~/opt/anaconda3/lib/python3.8/site-packages/joblib/parallel.py\u001b[0m in \u001b[0;36mretrieve\u001b[0;34m(self)\u001b[0m\n\u001b[1;32m    938\u001b[0m             \u001b[0;32mtry\u001b[0m\u001b[0;34m:\u001b[0m\u001b[0;34m\u001b[0m\u001b[0;34m\u001b[0m\u001b[0m\n\u001b[1;32m    939\u001b[0m                 \u001b[0;32mif\u001b[0m \u001b[0mgetattr\u001b[0m\u001b[0;34m(\u001b[0m\u001b[0mself\u001b[0m\u001b[0;34m.\u001b[0m\u001b[0m_backend\u001b[0m\u001b[0;34m,\u001b[0m \u001b[0;34m'supports_timeout'\u001b[0m\u001b[0;34m,\u001b[0m \u001b[0;32mFalse\u001b[0m\u001b[0;34m)\u001b[0m\u001b[0;34m:\u001b[0m\u001b[0;34m\u001b[0m\u001b[0;34m\u001b[0m\u001b[0m\n\u001b[0;32m--> 940\u001b[0;31m                     \u001b[0mself\u001b[0m\u001b[0;34m.\u001b[0m\u001b[0m_output\u001b[0m\u001b[0;34m.\u001b[0m\u001b[0mextend\u001b[0m\u001b[0;34m(\u001b[0m\u001b[0mjob\u001b[0m\u001b[0;34m.\u001b[0m\u001b[0mget\u001b[0m\u001b[0;34m(\u001b[0m\u001b[0mtimeout\u001b[0m\u001b[0;34m=\u001b[0m\u001b[0mself\u001b[0m\u001b[0;34m.\u001b[0m\u001b[0mtimeout\u001b[0m\u001b[0;34m)\u001b[0m\u001b[0;34m)\u001b[0m\u001b[0;34m\u001b[0m\u001b[0;34m\u001b[0m\u001b[0m\n\u001b[0m\u001b[1;32m    941\u001b[0m                 \u001b[0;32melse\u001b[0m\u001b[0;34m:\u001b[0m\u001b[0;34m\u001b[0m\u001b[0;34m\u001b[0m\u001b[0m\n\u001b[1;32m    942\u001b[0m                     \u001b[0mself\u001b[0m\u001b[0;34m.\u001b[0m\u001b[0m_output\u001b[0m\u001b[0;34m.\u001b[0m\u001b[0mextend\u001b[0m\u001b[0;34m(\u001b[0m\u001b[0mjob\u001b[0m\u001b[0;34m.\u001b[0m\u001b[0mget\u001b[0m\u001b[0;34m(\u001b[0m\u001b[0;34m)\u001b[0m\u001b[0;34m)\u001b[0m\u001b[0;34m\u001b[0m\u001b[0;34m\u001b[0m\u001b[0m\n",
      "\u001b[0;32m~/opt/anaconda3/lib/python3.8/site-packages/joblib/_parallel_backends.py\u001b[0m in \u001b[0;36mwrap_future_result\u001b[0;34m(future, timeout)\u001b[0m\n\u001b[1;32m    540\u001b[0m         AsyncResults.get from multiprocessing.\"\"\"\n\u001b[1;32m    541\u001b[0m         \u001b[0;32mtry\u001b[0m\u001b[0;34m:\u001b[0m\u001b[0;34m\u001b[0m\u001b[0;34m\u001b[0m\u001b[0m\n\u001b[0;32m--> 542\u001b[0;31m             \u001b[0;32mreturn\u001b[0m \u001b[0mfuture\u001b[0m\u001b[0;34m.\u001b[0m\u001b[0mresult\u001b[0m\u001b[0;34m(\u001b[0m\u001b[0mtimeout\u001b[0m\u001b[0;34m=\u001b[0m\u001b[0mtimeout\u001b[0m\u001b[0;34m)\u001b[0m\u001b[0;34m\u001b[0m\u001b[0;34m\u001b[0m\u001b[0m\n\u001b[0m\u001b[1;32m    543\u001b[0m         \u001b[0;32mexcept\u001b[0m \u001b[0mCfTimeoutError\u001b[0m \u001b[0;32mas\u001b[0m \u001b[0me\u001b[0m\u001b[0;34m:\u001b[0m\u001b[0;34m\u001b[0m\u001b[0;34m\u001b[0m\u001b[0m\n\u001b[1;32m    544\u001b[0m             \u001b[0;32mraise\u001b[0m \u001b[0mTimeoutError\u001b[0m \u001b[0;32mfrom\u001b[0m \u001b[0me\u001b[0m\u001b[0;34m\u001b[0m\u001b[0;34m\u001b[0m\u001b[0m\n",
      "\u001b[0;32m~/opt/anaconda3/lib/python3.8/concurrent/futures/_base.py\u001b[0m in \u001b[0;36mresult\u001b[0;34m(self, timeout)\u001b[0m\n\u001b[1;32m    432\u001b[0m                 \u001b[0;32mreturn\u001b[0m \u001b[0mself\u001b[0m\u001b[0;34m.\u001b[0m\u001b[0m__get_result\u001b[0m\u001b[0;34m(\u001b[0m\u001b[0;34m)\u001b[0m\u001b[0;34m\u001b[0m\u001b[0;34m\u001b[0m\u001b[0m\n\u001b[1;32m    433\u001b[0m \u001b[0;34m\u001b[0m\u001b[0m\n\u001b[0;32m--> 434\u001b[0;31m             \u001b[0mself\u001b[0m\u001b[0;34m.\u001b[0m\u001b[0m_condition\u001b[0m\u001b[0;34m.\u001b[0m\u001b[0mwait\u001b[0m\u001b[0;34m(\u001b[0m\u001b[0mtimeout\u001b[0m\u001b[0;34m)\u001b[0m\u001b[0;34m\u001b[0m\u001b[0;34m\u001b[0m\u001b[0m\n\u001b[0m\u001b[1;32m    435\u001b[0m \u001b[0;34m\u001b[0m\u001b[0m\n\u001b[1;32m    436\u001b[0m             \u001b[0;32mif\u001b[0m \u001b[0mself\u001b[0m\u001b[0;34m.\u001b[0m\u001b[0m_state\u001b[0m \u001b[0;32min\u001b[0m \u001b[0;34m[\u001b[0m\u001b[0mCANCELLED\u001b[0m\u001b[0;34m,\u001b[0m \u001b[0mCANCELLED_AND_NOTIFIED\u001b[0m\u001b[0;34m]\u001b[0m\u001b[0;34m:\u001b[0m\u001b[0;34m\u001b[0m\u001b[0;34m\u001b[0m\u001b[0m\n",
      "\u001b[0;32m~/opt/anaconda3/lib/python3.8/threading.py\u001b[0m in \u001b[0;36mwait\u001b[0;34m(self, timeout)\u001b[0m\n\u001b[1;32m    300\u001b[0m         \u001b[0;32mtry\u001b[0m\u001b[0;34m:\u001b[0m    \u001b[0;31m# restore state no matter what (e.g., KeyboardInterrupt)\u001b[0m\u001b[0;34m\u001b[0m\u001b[0;34m\u001b[0m\u001b[0m\n\u001b[1;32m    301\u001b[0m             \u001b[0;32mif\u001b[0m \u001b[0mtimeout\u001b[0m \u001b[0;32mis\u001b[0m \u001b[0;32mNone\u001b[0m\u001b[0;34m:\u001b[0m\u001b[0;34m\u001b[0m\u001b[0;34m\u001b[0m\u001b[0m\n\u001b[0;32m--> 302\u001b[0;31m                 \u001b[0mwaiter\u001b[0m\u001b[0;34m.\u001b[0m\u001b[0macquire\u001b[0m\u001b[0;34m(\u001b[0m\u001b[0;34m)\u001b[0m\u001b[0;34m\u001b[0m\u001b[0;34m\u001b[0m\u001b[0m\n\u001b[0m\u001b[1;32m    303\u001b[0m                 \u001b[0mgotit\u001b[0m \u001b[0;34m=\u001b[0m \u001b[0;32mTrue\u001b[0m\u001b[0;34m\u001b[0m\u001b[0;34m\u001b[0m\u001b[0m\n\u001b[1;32m    304\u001b[0m             \u001b[0;32melse\u001b[0m\u001b[0;34m:\u001b[0m\u001b[0;34m\u001b[0m\u001b[0;34m\u001b[0m\u001b[0m\n",
      "\u001b[0;31mKeyboardInterrupt\u001b[0m: "
     ]
    }
   ],
   "source": [
    "knn_gs.fit(X_train_s, y_train) # performs gridsearch"
   ]
  },
  {
   "cell_type": "code",
   "execution_count": null,
   "metadata": {},
   "outputs": [],
   "source": [
    "print(knn_gs.best_params_)\n",
    "print(\"RMSE (test): {:.4f}\".format(knn_gs.best_score_))"
   ]
  },
  {
   "cell_type": "code",
   "execution_count": 41,
   "metadata": {},
   "outputs": [],
   "source": [
    "say('The task is complete.')"
   ]
  },
  {
   "cell_type": "code",
   "execution_count": 17,
   "metadata": {},
   "outputs": [
    {
     "name": "stdout",
     "output_type": "stream",
     "text": [
      "n_neighbors = 1 Train = 1.0 Test = 0.727355247852284\n",
      "n_neighbors = 2 Train = 0.8623092232240819 Test = 0.7323654254368848\n",
      "n_neighbors = 3 Train = 0.8683885350281892 Test = 0.744104106697568\n",
      "n_neighbors = 4 Train = 0.832209502693955 Test = 0.7471739434822758\n",
      "n_neighbors = 5 Train = 0.8328780083196099 Test = 0.7484578437399012\n",
      "n_neighbors = 6 Train = 0.8145942154492761 Test = 0.7493363017863833\n",
      "n_neighbors = 7 Train = 0.8141404959546144 Test = 0.7496452240279894\n",
      "n_neighbors = 8 Train = 0.8018877474481536 Test = 0.7496645169318786\n",
      "n_neighbors = 9 Train = 0.8014171383624067 Test = 0.7496452286876608\n",
      "n_neighbors = 10 Train = 0.793189912858083 Test = 0.7495100590728457\n",
      "n_neighbors = 11 Train = 0.7929437483537466 Test = 0.750214779403486\n",
      "n_neighbors = 12 Train = 0.7861935142437255 Test = 0.74745387045199\n",
      "n_neighbors = 13 Train = 0.7856022336160811 Test = 0.7479075947813414\n",
      "n_neighbors = 14 Train = 0.7795301604369679 Test = 0.7457548428560035\n",
      "n_neighbors = 15 Train = 0.778960603372486 Test = 0.7455714414474321\n",
      "n_neighbors = 16 Train = 0.7744234430517994 Test = 0.7440847970188613\n",
      "n_neighbors = 17 Train = 0.7739286988772063 Test = 0.7433704474770612\n",
      "n_neighbors = 18 Train = 0.76985249443379 Test = 0.7423857722186777\n",
      "n_neighbors = 19 Train = 0.7697149316408594 Test = 0.7420672105146344\n",
      "n_neighbors = 20 Train = 0.7658993722425419 Test = 0.741092203608652\n",
      "Index 10\n",
      "0.75\n"
     ]
    },
    {
     "data": {
      "image/png": "[encoded data removed]",
      "text/plain": [
       "<Figure size 432x288 with 1 Axes>"
      ]
     },
     "metadata": {
      "needs_background": "light"
     },
     "output_type": "display_data"
    }
   ],
   "source": [
    "k = range(1,21)\n",
    "\n",
    "train_scores, test_scores = calc_params(X_train, y_train, knn, k, 'n_neighbors', 5)\n",
    "max_at = np.where(test_scores==np.max(test_scores))[0][0]\n",
    "print(\"Index {}\".format(max_at))\n",
    "print(\"{:.2f}\".format(test_scores[max_at]))"
   ]
  },
  {
   "cell_type": "code",
   "execution_count": 58,
   "metadata": {},
   "outputs": [],
   "source": [
    "def measure_performance(X, y, clf, show_accuracy=True, show_classification_report=True, show_confussion_matrix=True):\n",
    "    y_pred = clf.predict(X)   \n",
    "    if show_accuracy:\n",
    "         print(\"Accuracy:{0:.3f}\".format(metrics.accuracy_score(y, y_pred)),\"\\n\")\n",
    "    if show_classification_report:\n",
    "        print(\"Classification report\")\n",
    "        print(metrics.classification_report(y, y_pred),\"\\n\")\n",
    "      \n",
    "    if show_confussion_matrix:\n",
    "        print(\"Confussion matrix\")\n",
    "        print(metrics.confusion_matrix(y, y_pred),\"\\n\")"
   ]
  },
  {
   "cell_type": "code",
   "execution_count": 60,
   "metadata": {},
   "outputs": [
    {
     "data": {
      "text/plain": [
       "GridSearchCV(cv=5, estimator=RandomForestClassifier(random_state=33), n_jobs=-1,\n",
       "             param_grid={'class_weight': ['balanced'],\n",
       "                         'n_estimators': [5, 10, 20, 30, 40, 50, 80, 100]},\n",
       "             scoring='accuracy', verbose=3)"
      ]
     },
     "execution_count": 60,
     "metadata": {},
     "output_type": "execute_result"
    }
   ],
   "source": [
    "tree_gs"
   ]
  },
  {
   "cell_type": "code",
   "execution_count": 16,
   "metadata": {},
   "outputs": [],
   "source": [
    "def calc_params(X, y, clf, param_values, param_name, K):\n",
    "    \n",
    "    # Convert input to Numpy arrays\n",
    "    X = np.array(X)\n",
    "    y = np.array(y)\n",
    "\n",
    "    # initialize training and testing score arrays with zeros\n",
    "    train_scores = np.zeros(len(param_values))\n",
    "    test_scores = np.zeros(len(param_values))\n",
    "    \n",
    "    # iterate over the different parameter values\n",
    "    for i, param_value in enumerate(param_values):\n",
    "\n",
    "        # set classifier parameters\n",
    "        clf.set_params(**{param_name:param_value})\n",
    "        \n",
    "        # initialize the K scores obtained for each fold\n",
    "        k_train_scores = np.zeros(K)\n",
    "        k_test_scores = np.zeros(K)\n",
    "        \n",
    "        # create KFold cross validation\n",
    "        cv = KFold(n_splits=K, shuffle=True, random_state=0)\n",
    "        \n",
    "        # iterate over the K folds\n",
    "        j = 0\n",
    "        for train, test in cv.split(X):\n",
    "            # fit the classifier in the corresponding fold\n",
    "            # and obtain the corresponding accuracy scores on train and test sets\n",
    "            clf.fit(X[train], y[train])\n",
    "            k_train_scores[j] = clf.score(X[train], y[train])\n",
    "            k_test_scores[j] = clf.score(X[test], y[test])\n",
    "            j += 1\n",
    "            \n",
    "        # store the mean of the K fold scores\n",
    "        train_scores[i] = np.mean(k_train_scores)\n",
    "        test_scores[i] = np.mean(k_test_scores)\n",
    "        print(param_name, '=', param_value, \"Train =\", train_scores[i], \"Test =\", test_scores[i])\n",
    "       \n",
    "    # plot the training and testing scores in a log scale\n",
    "    plt.plot(param_values, train_scores, label='Train', alpha=0.4, lw=2, c='b')\n",
    "    plt.plot(param_values, test_scores, label='X-Val', alpha=0.4, lw=2, c='g')\n",
    "    plt.legend(loc=7)\n",
    "    plt.xlabel(param_name + \" values\")\n",
    "    plt.ylabel(\"Mean cross validation accuracy\")\n",
    "    plt.grid(True)\n",
    "\n",
    "    # return the training and testing scores on each parameter value\n",
    "    return train_scores, test_scores"
   ]
  },
  {
   "cell_type": "code",
   "execution_count": 89,
   "metadata": {},
   "outputs": [],
   "source": []
  },
  {
   "cell_type": "code",
   "execution_count": 113,
   "metadata": {},
   "outputs": [
    {
     "name": "stdout",
     "output_type": "stream",
     "text": [
      "min_samples_leaf = 1 Train = 0.9996428194046286 Test = 0.9612410816974473\n",
      "min_samples_leaf = 2 Train = 0.9915917697892395 Test = 0.9617527080368239\n",
      "min_samples_leaf = 3 Train = 0.9836227769015524 Test = 0.9612024688635741\n",
      "min_samples_leaf = 4 Train = 0.9777437749685938 Test = 0.9610093907151936\n",
      "min_samples_leaf = 5 Train = 0.9743722777502745 Test = 0.9604012243696924\n",
      "min_samples_leaf = 6 Train = 0.971734450207306 Test = 0.9599378531224294\n",
      "min_samples_leaf = 7 Train = 0.9696830739211636 Test = 0.9589628490122497\n",
      "min_samples_leaf = 8 Train = 0.9681771232508936 Test = 0.9583932950346545\n",
      "min_samples_leaf = 9 Train = 0.9665625702867799 Test = 0.9579685263699874\n",
      "min_samples_leaf = 10 Train = 0.9651724609139325 Test = 0.9568487313552738\n",
      "min_samples_leaf = 11 Train = 0.9644339654497562 Test = 0.9570707567809297\n",
      "min_samples_leaf = 12 Train = 0.9630221346396445 Test = 0.956028181842357\n",
      "min_samples_leaf = 13 Train = 0.9624984311599618 Test = 0.9556516934320294\n",
      "min_samples_leaf = 14 Train = 0.9613665542290196 Test = 0.9550724836831467\n",
      "min_samples_leaf = 15 Train = 0.9607366609713214 Test = 0.9547056505781397\n",
      "min_samples_leaf = 16 Train = 0.9603167325988062 Test = 0.9551014421436339\n",
      "min_samples_leaf = 17 Train = 0.9592065759402526 Test = 0.9539237115692603\n",
      "min_samples_leaf = 18 Train = 0.9586128860584319 Test = 0.9534120600676577\n",
      "min_samples_leaf = 19 Train = 0.9580047132187317 Test = 0.9533251823563609\n",
      "min_samples_leaf = 20 Train = 0.9574351511744063 Test = 0.9529100908974699\n",
      "Index 1\n",
      "0.96\n"
     ]
    },
    {
     "data": {
      "image/png": "[encoded data removed]",
      "text/plain": [
       "<Figure size 432x288 with 1 Axes>"
      ]
     },
     "metadata": {
      "needs_background": "light"
     },
     "output_type": "display_data"
    }
   ],
   "source": [
    "rf = RandomForestClassifier(n_estimators=30, random_state=33, n_jobs=-1)\n",
    "\n",
    "msl = range(1,21)\n",
    "\n",
    "train_scores, test_scores = calc_params(X_train, y_train, rf, msl, 'min_samples_leaf', 5)\n",
    "max_at = np.where(test_scores==np.max(test_scores))[0][0]\n",
    "print(\"Index {}\".format(max_at))\n",
    "print(\"{:.2f}\".format(test_scores[max_at]))"
   ]
  },
  {
   "cell_type": "code",
   "execution_count": 112,
   "metadata": {},
   "outputs": [
    {
     "name": "stdout",
     "output_type": "stream",
     "text": [
      "n_estimators = 1 Train = 0.9727118732398938 Test = 0.9253105961121015\n",
      "n_estimators = 2 Train = 0.9749104648576401 Test = 0.9345780094081843\n",
      "n_estimators = 3 Train = 0.9903295742235205 Test = 0.9481122582709787\n",
      "n_estimators = 4 Train = 0.9896176243546082 Test = 0.9502843263985632\n",
      "n_estimators = 5 Train = 0.9947533043938837 Test = 0.9535182427979896\n",
      "n_estimators = 6 Train = 0.9939279274033245 Test = 0.9551979602493024\n",
      "n_estimators = 7 Train = 0.9966864241875613 Test = 0.9563177734367345\n",
      "n_estimators = 8 Train = 0.9959986106014925 Test = 0.9576403191459336\n",
      "n_estimators = 9 Train = 0.9977290062026357 Test = 0.9581229944802976\n",
      "n_estimators = 10 Train = 0.9971980624088891 Test = 0.95860566841676\n",
      "n_estimators = 11 Train = 0.9982623641721584 Test = 0.9589628466824138\n",
      "n_estimators = 12 Train = 0.9978424355957898 Test = 0.9595613665759704\n",
      "n_estimators = 13 Train = 0.9986629856617697 Test = 0.9595613614503318\n",
      "n_estimators = 14 Train = 0.9983082183685175 Test = 0.9600440428422686\n",
      "n_estimators = 15 Train = 0.9989863790373283 Test = 0.9598413154461405\n",
      "n_estimators = 16 Train = 0.9986557459301435 Test = 0.9602081546087206\n",
      "n_estimators = 17 Train = 0.9991504891437144 Test = 0.9601695413088802\n",
      "n_estimators = 18 Train = 0.9988826036680638 Test = 0.9605749942372677\n",
      "n_estimators = 19 Train = 0.9993314932094695 Test = 0.9602371112053391\n",
      "n_estimators = 20 Train = 0.9991553161265372 Test = 0.9606039526977547\n",
      "n_estimators = 21 Train = 0.9994352684040025 Test = 0.9608452887340517\n",
      "n_estimators = 22 Train = 0.9992735716288577 Test = 0.9608742495243746\n",
      "n_estimators = 23 Train = 0.9995221501342387 Test = 0.9606908322729202\n",
      "n_estimators = 24 Train = 0.9993966543760979 Test = 0.9609418264103405\n",
      "n_estimators = 25 Train = 0.9996235122596279 Test = 0.9608356343606654\n",
      "n_estimators = 26 Train = 0.9994980163558775 Test = 0.960951472396318\n",
      "n_estimators = 27 Train = 0.9996790199556826 Test = 0.9609804373803452\n",
      "n_estimators = 28 Train = 0.9995969649170504 Test = 0.9611155869585728\n",
      "n_estimators = 29 Train = 0.9997152207979555 Test = 0.961250737468735\n",
      "n_estimators = 30 Train = 0.9996428194046286 Test = 0.9612410816974473\n",
      "n_estimators = 31 Train = 0.9997852088891633 Test = 0.9611638560297008\n",
      "n_estimators = 32 Train = 0.9997200475769251 Test = 0.9614244975510001\n",
      "n_estimators = 33 Train = 0.9998189963128293 Test = 0.9613376193737363\n",
      "n_estimators = 34 Train = 0.9997538349714696 Test = 0.9618009882911635\n",
      "n_estimators = 35 Train = 0.9998407167308276 Test = 0.9616754907564861\n",
      "n_estimators = 36 Train = 0.9997900357846206 Test = 0.9618685651771296\n",
      "n_estimators = 37 Train = 0.9998479568992822 Test = 0.9616175687098736\n",
      "n_estimators = 38 Train = 0.9998165829524664 Test = 0.9618299476835848\n",
      "n_estimators = 39 Train = 0.9998817441482168 Test = 0.961820294242133\n",
      "n_estimators = 40 Train = 0.9998455434515534 Test = 0.9621485103195624\n",
      "n_estimators = 41 Train = 0.9998913977061564 Test = 0.9618395973972994\n",
      "n_estimators = 42 Train = 0.9998527836200081 Test = 0.9619843985531105\n",
      "n_estimators = 43 Train = 0.9998986379037328 Test = 0.9619457866511716\n",
      "n_estimators = 44 Train = 0.9998769175148567 Test = 0.9621098984176235\n",
      "n_estimators = 45 Train = 0.9999251851298225 Test = 0.962061627482627\n",
      "n_estimators = 46 Train = 0.9998986379910985 Test = 0.9622064328321424\n",
      "n_estimators = 47 Train = 0.9999348386295182 Test = 0.9620712827879474\n",
      "n_estimators = 48 Train = 0.9999107048220353 Test = 0.9621678195323019\n",
      "n_estimators = 49 Train = 0.9999444921583358 Test = 0.9621002412484344\n",
      "n_estimators = 50 Train = 0.9999227717694597 Test = 0.9622933147371435\n",
      "n_estimators = 51 Train = 0.9999613858847297 Test = 0.9621774715758523\n",
      "n_estimators = 52 Train = 0.9999420787979728 Test = 0.9624381158929547\n",
      "n_estimators = 53 Train = 0.999961385826486 Test = 0.9623705385410213\n",
      "n_estimators = 54 Train = 0.9999444921874577 Test = 0.9623512335219863\n",
      "n_estimators = 55 Train = 0.9999662126345775 Test = 0.962225736453276\n",
      "n_estimators = 56 Train = 0.9999517323267902 Test = 0.9622450419382783\n",
      "n_estimators = 57 Train = 0.9999686259949406 Test = 0.9621678125427946\n",
      "n_estimators = 58 Train = 0.9999662126054556 Test = 0.9623415777506985\n",
      "n_estimators = 59 Train = 0.99997827955288 Test = 0.9623898463558593\n",
      "n_estimators = 60 Train = 0.9999686260531844 Test = 0.9623801938463418\n",
      "n_estimators = 61 Train = 0.9999782795820019 Test = 0.9622740031945682\n",
      "n_estimators = 62 Train = 0.9999758661925171 Test = 0.9623705394729557\n",
      "n_estimators = 63 Train = 0.9999782795820019 Test = 0.9622257355213417\n",
      "n_estimators = 64 Train = 0.9999686260531844 Test = 0.9623801938463419\n",
      "n_estimators = 65 Train = 0.9999758661925171 Test = 0.9622450433361797\n",
      "n_estimators = 66 Train = 0.9999710394135473 Test = 0.9625346549671449\n",
      "n_estimators = 67 Train = 0.9999831063318497 Test = 0.962486386361984\n",
      "n_estimators = 68 Train = 0.9999806929423649 Test = 0.9624960421332716\n",
      "n_estimators = 69 Train = 0.9999903464711825 Test = 0.9624381177568232\n",
      "n_estimators = 70 Train = 0.9999782795528802 Test = 0.9624960407353701\n",
      "n_estimators = 71 Train = 0.9999903465003044 Test = 0.9624767319885977\n",
      "n_estimators = 72 Train = 0.9999855197213346 Test = 0.9625636185532706\n",
      "n_estimators = 73 Train = 0.9999975866105151 Test = 0.9625443060787611\n",
      "n_estimators = 74 Train = 0.9999855197213346 Test = 0.9625443098064981\n",
      "n_estimators = 75 Train = 0.9999927598606673 Test = 0.9625443051468267\n",
      "n_estimators = 76 Train = 0.9999927598606673 Test = 0.9624574241737598\n",
      "n_estimators = 77 Train = 0.9999927598606673 Test = 0.9624091560345661\n",
      "n_estimators = 78 Train = 0.9999927598606673 Test = 0.9624767305906963\n",
      "n_estimators = 79 Train = 0.9999927598606673 Test = 0.9624863844981155\n",
      "n_estimators = 80 Train = 0.9999903464711825 Test = 0.9626215345423104\n",
      "n_estimators = 81 Train = 0.9999927598606673 Test = 0.9626311851879592\n",
      "n_estimators = 82 Train = 0.9999927598606673 Test = 0.9626697989537668\n",
      "n_estimators = 83 Train = 0.9999927598606673 Test = 0.9625732659371493\n",
      "n_estimators = 84 Train = 0.9999927598606673 Test = 0.9627470297471519\n",
      "n_estimators = 85 Train = 0.9999951732501522 Test = 0.9626504939347316\n",
      "n_estimators = 86 Train = 0.9999951732501522 Test = 0.9627759896055403\n",
      "n_estimators = 87 Train = 0.9999975866396371 Test = 0.9627566822566693\n",
      "n_estimators = 88 Train = 0.9999975866396371 Test = 0.9628049508618304\n",
      "n_estimators = 89 Train = 0.9999975866396371 Test = 0.9627470292811846\n",
      "n_estimators = 90 Train = 0.9999951732792741 Test = 0.9628628696466729\n",
      "n_estimators = 91 Train = 0.9999975866396371 Test = 0.9628532143413524\n",
      "n_estimators = 92 Train = 0.9999975866396371 Test = 0.9630945517755508\n",
      "n_estimators = 93 Train = 0.9999975866396371 Test = 0.9629400948484521\n",
      "n_estimators = 94 Train = 0.9999975866396371 Test = 0.9629594045271588\n",
      "n_estimators = 95 Train = 0.9999975866396371 Test = 0.9630366297289381\n",
      "n_estimators = 96 Train = 0.9999975866396371 Test = 0.9630076708024837\n",
      "n_estimators = 97 Train = 0.9999975866396371 Test = 0.9629497492218384\n",
      "n_estimators = 98 Train = 0.9999975866396371 Test = 0.9630173247099029\n",
      "n_estimators = 99 Train = 0.9999975866396371 Test = 0.9628628645210343\n",
      "n_estimators = 100 Train = 0.9999975866396371 Test = 0.9631042042850684\n",
      "Index 99\n",
      "0.96\n"
     ]
    },
    {
     "data": {
      "image/png": "[encoded data removed]",
      "text/plain": [
       "<Figure size 432x288 with 1 Axes>"
      ]
     },
     "metadata": {
      "needs_background": "light"
     },
     "output_type": "display_data"
    }
   ],
   "source": [
    "rf = RandomForestClassifier(n_estimators=30, random_state=33, n_jobs=-1)\n",
    "\n",
    "n_est = range(1,101)\n",
    "\n",
    "train_scores, test_scores = calc_params(X_train, y_train, rf, n_est, 'n_estimators', 5)\n",
    "max_at = np.where(test_scores==np.max(test_scores))[0][0]\n",
    "print(\"Index {}\".format(max_at))\n",
    "print(\"{:.2f}\".format(test_scores[max_at]))"
   ]
  },
  {
   "cell_type": "code",
   "execution_count": 114,
   "metadata": {},
   "outputs": [
    {
     "name": "stdout",
     "output_type": "stream",
     "text": [
      "max_depth = 1 Train = 0.8565146858751502 Test = 0.8562685626459959\n",
      "max_depth = 2 Train = 0.857723781542896 Test = 0.8574366798520925\n",
      "max_depth = 3 Train = 0.890893338419367 Test = 0.8911467914273208\n",
      "max_depth = 4 Train = 0.9051974651631369 Test = 0.9046424358436507\n",
      "max_depth = 5 Train = 0.9202666329081028 Test = 0.9196826378817882\n",
      "max_depth = 6 Train = 0.9289885981022481 Test = 0.9283804794935243\n",
      "max_depth = 7 Train = 0.9344211301736147 Test = 0.9337671273157339\n",
      "max_depth = 8 Train = 0.9391923888957482 Test = 0.9377443843351478\n",
      "max_depth = 9 Train = 0.944093968320313 Test = 0.9416637221037524\n",
      "max_depth = 10 Train = 0.9500791604098717 Test = 0.9464036065894706\n",
      "max_depth = 11 Train = 0.9564601482584603 Test = 0.9507862997624551\n",
      "max_depth = 12 Train = 0.9627976918637913 Test = 0.9547539154555634\n",
      "max_depth = 13 Train = 0.9674579343492804 Test = 0.956433633372843\n",
      "max_depth = 14 Train = 0.972769793102314 Test = 0.9585863596699877\n",
      "max_depth = 15 Train = 0.9772417924311034 Test = 0.9599088974577452\n",
      "max_depth = 16 Train = 0.9812842092178784 Test = 0.9602274503084127\n",
      "max_depth = 17 Train = 0.9852759463689316 Test = 0.9608645993446926\n",
      "max_depth = 18 Train = 0.9885919346680765 Test = 0.9610576667758288\n",
      "max_depth = 19 Train = 0.9912852724989485 Test = 0.961550000211316\n",
      "max_depth = 20 Train = 0.993575573266582 Test = 0.961289347040838\n",
      "max_depth = 21 Train = 0.9953083825193071 Test = 0.9616658382469685\n",
      "max_depth = 22 Train = 0.996449913590627 Test = 0.9616947943776198\n",
      "max_depth = 23 Train = 0.9974804273186703 Test = 0.9614148487692198\n",
      "max_depth = 24 Train = 0.9980306795970246 Test = 0.9614727573027851\n",
      "max_depth = 25 Train = 0.9984916357946357 Test = 0.9620037100956857\n",
      "max_depth = 26 Train = 0.998894670382513 Test = 0.9619264732447277\n",
      "max_depth = 27 Train = 0.9991987568751677 Test = 0.9617623675358488\n",
      "max_depth = 28 Train = 0.999415961491977 Test = 0.9618009850293934\n",
      "max_depth = 29 Train = 0.9995197371524605 Test = 0.9613182961819822\n",
      "max_depth = 30 Train = 0.9995800714236316 Test = 0.9622257443747175\n",
      "max_depth = 31 Train = 0.9996621265205073 Test = 0.9617913283261714\n",
      "max_depth = 32 Train = 0.9996452328523573 Test = 0.9617816739527854\n",
      "max_depth = 33 Train = 0.9996331657302016 Test = 0.9615886013960104\n",
      "max_depth = 34 Train = 0.9996524728460804 Test = 0.9618009780398861\n",
      "max_depth = 35 Train = 0.999642819288141 Test = 0.9617237547019755\n",
      "max_depth = 36 Train = 0.9996621264913855 Test = 0.9619554489459994\n",
      "max_depth = 37 Train = 0.9996404059568998 Test = 0.9616561862034182\n",
      "max_depth = 38 Train = 0.9996452327941135 Test = 0.9613762322076094\n",
      "max_depth = 39 Train = 0.9996500595730831 Test = 0.961405198589538\n",
      "max_depth = 40 Train = 0.9996548862646872 Test = 0.9613279631364813\n",
      "max_depth = 41 Train = 0.9996452327649916 Test = 0.9612410816974473\n",
      "max_depth = 42 Train = 0.9996428194046286 Test = 0.9612410816974473\n",
      "max_depth = 43 Train = 0.9996428194046286 Test = 0.9612410816974473\n",
      "max_depth = 44 Train = 0.9996428194046286 Test = 0.9612410816974473\n",
      "max_depth = 45 Train = 0.9996428194046286 Test = 0.9612410816974473\n",
      "max_depth = 46 Train = 0.9996428194046286 Test = 0.9612410816974473\n",
      "max_depth = 47 Train = 0.9996428194046286 Test = 0.9612410816974473\n",
      "max_depth = 48 Train = 0.9996428194046286 Test = 0.9612410816974473\n",
      "max_depth = 49 Train = 0.9996428194046286 Test = 0.9612410816974473\n",
      "max_depth = 50 Train = 0.9996428194046286 Test = 0.9612410816974473\n",
      "Index 29\n",
      "0.96\n"
     ]
    },
    {
     "data": {
      "image/png": "[encoded data removed]",
      "text/plain": [
       "<Figure size 432x288 with 1 Axes>"
      ]
     },
     "metadata": {
      "needs_background": "light"
     },
     "output_type": "display_data"
    }
   ],
   "source": [
    "rf = RandomForestClassifier(n_estimators=30, random_state=33, n_jobs=-1)\n",
    "\n",
    "n_est = range(1,51)\n",
    "\n",
    "train_scores, test_scores = calc_params(X_train, y_train, rf, n_est, 'max_depth', 5)\n",
    "max_at = np.where(test_scores==np.max(test_scores))[0][0]\n",
    "print(\"Index {}\".format(max_at))\n",
    "print(\"{:.2f}\".format(test_scores[max_at]))"
   ]
  },
  {
   "cell_type": "code",
   "execution_count": 91,
   "metadata": {},
   "outputs": [
    {
     "name": "stdout",
     "output_type": "stream",
     "text": [
      "min_samples_split = 2 Train = 0.9971980624088891 Test = 0.95860566841676\n",
      "min_samples_split = 3 Train = 0.9957114178352316 Test = 0.9594262100082354\n",
      "min_samples_split = 4 Train = 0.9936721080596854 Test = 0.9586539193151692\n",
      "min_samples_split = 5 Train = 0.9914445546906109 Test = 0.9589724959301614\n",
      "min_samples_split = 6 Train = 0.9894317943835398 Test = 0.9592041720014663\n",
      "min_samples_split = 7 Train = 0.9871318375826059 Test = 0.9588759549921025\n",
      "min_samples_split = 8 Train = 0.9858117172037449 Test = 0.9590400630308172\n",
      "min_samples_split = 9 Train = 0.9839799597975535 Test = 0.9593586326563022\n",
      "min_samples_split = 10 Train = 0.9825777839432319 Test = 0.9590111041043631\n",
      "min_samples_split = 11 Train = 0.981694484265429 Test = 0.9595420438501835\n",
      "min_samples_split = 12 Train = 0.980446765833211 Test = 0.9598027007483987\n",
      "min_samples_split = 13 Train = 0.9791821529756733 Test = 0.9594165696138639\n",
      "min_samples_split = 14 Train = 0.9782843739802278 Test = 0.9600536874303446\n",
      "min_samples_split = 15 Train = 0.9774517574327739 Test = 0.959812358849522\n",
      "min_samples_split = 16 Train = 0.9767301549087006 Test = 0.9602564222819471\n",
      "min_samples_split = 17 Train = 0.9758951242437147 Test = 0.9599281968851745\n",
      "min_samples_split = 18 Train = 0.9752000697029006 Test = 0.9602081462213118\n",
      "min_samples_split = 19 Train = 0.9744664009594505 Test = 0.9596772153288672\n",
      "min_samples_split = 20 Train = 0.9740512987543453 Test = 0.9598509623640522\n",
      "min_samples_split = 21 Train = 0.9733296978319761 Test = 0.9597158174454961\n",
      "min_samples_split = 22 Train = 0.9727070448592201 Test = 0.959783399923068\n",
      "min_samples_split = 23 Train = 0.972270222206995 Test = 0.9593972571393543\n",
      "min_samples_split = 24 Train = 0.9719444152963421 Test = 0.9594744916604764\n",
      "min_samples_split = 25 Train = 0.9713386555549081 Test = 0.9594165598285536\n",
      "min_samples_split = 26 Train = 0.970848737518603 Test = 0.9596289453258049\n",
      "min_samples_split = 27 Train = 0.970539825673951 Test = 0.9597544358709751\n",
      "min_samples_split = 28 Train = 0.9702357396763686 Test = 0.9597351271242027\n",
      "min_samples_split = 29 Train = 0.9696782484235571 Test = 0.9590400863291748\n",
      "min_samples_split = 30 Train = 0.9694296683747158 Test = 0.9595613712356419\n",
      "min_samples_split = 31 Train = 0.969062835269793 Test = 0.9590593918141771\n",
      "min_samples_split = 32 Train = 0.9689421658537938 Test = 0.9589725029196685\n",
      "min_samples_split = 33 Train = 0.96847879676177 Test = 0.9595806660033996\n",
      "min_samples_split = 34 Train = 0.9680419738765697 Test = 0.9586925451961227\n",
      "min_samples_split = 35 Train = 0.9683291672835121 Test = 0.9587601234799902\n",
      "min_samples_split = 36 Train = 0.968261591533401 Test = 0.9591269668362745\n",
      "min_samples_split = 37 Train = 0.9673951878535 Test = 0.9594262211914468\n",
      "min_samples_split = 38 Train = 0.9675592977269108 Test = 0.9595710284048309\n",
      "min_samples_split = 39 Train = 0.966861829418027 Test = 0.9587601341972345\n",
      "min_samples_split = 40 Train = 0.96657222477662 Test = 0.9584801596988711\n",
      "min_samples_split = 41 Train = 0.9668545892204505 Test = 0.9590690252190415\n",
      "min_samples_split = 42 Train = 0.9664998221601735 Test = 0.9587215162377227\n",
      "min_samples_split = 43 Train = 0.9662512425190387 Test = 0.9589531937069291\n",
      "min_samples_split = 44 Train = 0.9660847188193145 Test = 0.9587118553407965\n",
      "min_samples_split = 45 Train = 0.9659230227722169 Test = 0.9587794378183683\n",
      "min_samples_split = 46 Train = 0.965807181008844 Test = 0.9588663183254681\n",
      "min_samples_split = 47 Train = 0.9651917689908338 Test = 0.9583160670370722\n",
      "min_samples_split = 48 Train = 0.9650711000699067 Test = 0.9582871011211109\n",
      "min_samples_split = 49 Train = 0.9650276571080123 Test = 0.9587697778533762\n",
      "min_samples_split = 50 Train = 0.9648925078792979 Test = 0.9584898289832061\n",
      "Index 14\n",
      "0.96\n"
     ]
    },
    {
     "data": {
      "image/png": "[encoded data removed]",
      "text/plain": [
       "<Figure size 432x288 with 1 Axes>"
      ]
     },
     "metadata": {
      "needs_background": "light"
     },
     "output_type": "display_data"
    }
   ],
   "source": [
    "rf = RandomForestClassifier(n_estimators=30, random_state=33, n_jobs=-1)\n",
    "\n",
    "n_est = range(2,51)\n",
    "\n",
    "train_scores, test_scores = calc_params(X_train, y_train, rf, n_est, 'min_samples_split', 5)\n",
    "max_at = np.where(test_scores==np.max(test_scores))[0][0]\n",
    "print(\"Index {}\".format(max_at))\n",
    "print(\"{:.2f}\".format(test_scores[max_at]))"
   ]
  },
  {
   "cell_type": "code",
   "execution_count": 111,
   "metadata": {},
   "outputs": [
    {
     "name": "stdout",
     "output_type": "stream",
     "text": [
      "min_samples_leaf = 2 Train = 0.9915893563997547 Test = 0.9617623614782758\n",
      "min_samples_leaf = 3 Train = 0.9836227769015524 Test = 0.9612024688635741\n",
      "min_samples_leaf = 4 Train = 0.9777437749685938 Test = 0.9610093907151936\n",
      "min_samples_leaf = 5 Train = 0.9743722777502745 Test = 0.9604012243696924\n",
      "min_samples_leaf = 6 Train = 0.971734450207306 Test = 0.9599378531224294\n",
      "min_samples_leaf = 7 Train = 0.9696830739211636 Test = 0.9589628490122497\n",
      "min_samples_leaf = 8 Train = 0.9681771232508936 Test = 0.9583932950346545\n",
      "min_samples_leaf = 9 Train = 0.9665625702867799 Test = 0.9579685263699874\n",
      "min_samples_leaf = 10 Train = 0.9651724609139325 Test = 0.9568487313552738\n",
      "min_samples_leaf = 11 Train = 0.9644339654497562 Test = 0.9570707567809297\n",
      "min_samples_leaf = 12 Train = 0.9630221346396445 Test = 0.956028181842357\n",
      "min_samples_leaf = 13 Train = 0.9624984311599618 Test = 0.9556516934320294\n",
      "min_samples_leaf = 14 Train = 0.9613665542290196 Test = 0.9550724836831467\n",
      "min_samples_leaf = 15 Train = 0.9607366609713214 Test = 0.9547056505781397\n",
      "min_samples_leaf = 16 Train = 0.9603167325988062 Test = 0.9551014421436339\n",
      "min_samples_leaf = 17 Train = 0.9592065759402526 Test = 0.9539237115692603\n",
      "min_samples_leaf = 18 Train = 0.9586128860584319 Test = 0.9534120600676577\n",
      "min_samples_leaf = 19 Train = 0.9580047132187317 Test = 0.9533251823563609\n",
      "min_samples_leaf = 20 Train = 0.9574351511744063 Test = 0.9529100908974699\n",
      "min_samples_leaf = 21 Train = 0.9566604562658082 Test = 0.9524467173203712\n",
      "min_samples_leaf = 22 Train = 0.9566942442136683 Test = 0.9523598428708446\n",
      "min_samples_leaf = 23 Train = 0.9555527144528337 Test = 0.9512979475363206\n",
      "min_samples_leaf = 24 Train = 0.9554996193890947 Test = 0.9516647825051961\n",
      "min_samples_leaf = 25 Train = 0.9544473857672473 Test = 0.9503905030713223\n",
      "min_samples_leaf = 26 Train = 0.9545318519821006 Test = 0.9508345874722691\n",
      "min_samples_leaf = 27 Train = 0.9536413151353982 Test = 0.9501491819459742\n",
      "min_samples_leaf = 28 Train = 0.9532093199028242 Test = 0.949705108728239\n",
      "min_samples_leaf = 29 Train = 0.9531127851388428 Test = 0.9493768870592036\n",
      "min_samples_leaf = 30 Train = 0.9526445856276128 Test = 0.9494058534411322\n",
      "min_samples_leaf = 31 Train = 0.9521353636205931 Test = 0.9491355431014652\n",
      "min_samples_leaf = 32 Train = 0.9516213136406064 Test = 0.9483536134119287\n",
      "min_samples_leaf = 33 Train = 0.9514765085533229 Test = 0.9483922337012765\n",
      "min_samples_leaf = 34 Train = 0.9512255148820217 Test = 0.9483439772112614\n",
      "min_samples_leaf = 35 Train = 0.9502239650894486 Test = 0.9470503880986808\n",
      "min_samples_leaf = 36 Train = 0.9500598534104803 Test = 0.9467221724872183\n",
      "min_samples_leaf = 37 Train = 0.9496399249505997 Test = 0.9468476658281915\n",
      "min_samples_leaf = 38 Train = 0.9488435060420105 Test = 0.9461236605151034\n",
      "min_samples_leaf = 39 Train = 0.9484959796161382 Test = 0.9456892528539662\n",
      "min_samples_leaf = 40 Train = 0.9484911521964868 Test = 0.9459595459528487\n",
      "min_samples_leaf = 41 Train = 0.9481484537144601 Test = 0.9456699343218837\n",
      "min_samples_leaf = 42 Train = 0.9477236980970248 Test = 0.9449555745288061\n",
      "min_samples_leaf = 43 Train = 0.9473182463629385 Test = 0.9449941948181536\n",
      "min_samples_leaf = 44 Train = 0.9464228823004379 Test = 0.9441253836895832\n",
      "min_samples_leaf = 45 Train = 0.9461791304575392 Test = 0.9438454241021684\n",
      "min_samples_leaf = 46 Train = 0.9463022124767322 Test = 0.943903348478617\n",
      "min_samples_leaf = 47 Train = 0.9458243613296077 Test = 0.9436620152381229\n",
      "min_samples_leaf = 48 Train = 0.9458026450177964 Test = 0.9434689268384652\n",
      "min_samples_leaf = 49 Train = 0.9452765252364397 Test = 0.9435075475937799\n",
      "min_samples_leaf = 50 Train = 0.9450014002621383 Test = 0.9430924468155462\n",
      "Index 0\n",
      "0.96\n"
     ]
    },
    {
     "data": {
      "image/png": "[encoded data removed]",
      "text/plain": [
       "<Figure size 432x288 with 1 Axes>"
      ]
     },
     "metadata": {
      "needs_background": "light"
     },
     "output_type": "display_data"
    }
   ],
   "source": [
    "rf = RandomForestClassifier(n_estimators=30, random_state=33, n_jobs=-1)\n",
    "\n",
    "n_est = range(2,11)\n",
    "\n",
    "train_scores, test_scores = calc_params(X_train, y_train, rf, n_est, 'min_samples_leaf', 5)\n",
    "max_at = np.where(test_scores==np.max(test_scores))[0][0]\n",
    "print(\"Index {}\".format(max_at))\n",
    "print(\"{:.2f}\".format(test_scores[max_at]))"
   ]
  },
  {
   "cell_type": "code",
   "execution_count": 109,
   "metadata": {},
   "outputs": [
    {
     "name": "stdout",
     "output_type": "stream",
     "text": [
      "max_leaf_nodes = 2 Train = 0.8565146858751502 Test = 0.8562685626459959\n",
      "max_leaf_nodes = 3 Train = 0.8543402144649631 Test = 0.8542317223791203\n",
      "max_leaf_nodes = 4 Train = 0.8534279704216019 Test = 0.8530828952811103\n",
      "max_leaf_nodes = 5 Train = 0.8615417539229918 Test = 0.861133983341665\n",
      "max_leaf_nodes = 6 Train = 0.8732901085410099 Test = 0.8732395177439429\n",
      "max_leaf_nodes = 7 Train = 0.877675232604623 Test = 0.877757357233385\n",
      "max_leaf_nodes = 8 Train = 0.8861293199821757 Test = 0.8862041935244891\n",
      "max_leaf_nodes = 9 Train = 0.8912529335399771 Test = 0.8909730299471542\n",
      "max_leaf_nodes = 10 Train = 0.8953918900996992 Test = 0.8949309698323875\n",
      "max_leaf_nodes = 11 Train = 0.9001969333915534 Test = 0.8998542878784102\n",
      "max_leaf_nodes = 12 Train = 0.9027720146425947 Test = 0.9022193945471676\n",
      "max_leaf_nodes = 13 Train = 0.9048258036775403 Test = 0.904304562131065\n",
      "max_leaf_nodes = 14 Train = 0.9059118281303153 Test = 0.9054243692609243\n",
      "max_leaf_nodes = 15 Train = 0.9089720016870801 Test = 0.9086775962709916\n",
      "max_leaf_nodes = 16 Train = 0.9108206508976208 Test = 0.9106951972202003\n",
      "max_leaf_nodes = 17 Train = 0.9127127444096628 Test = 0.9126452077703956\n",
      "max_leaf_nodes = 18 Train = 0.9138591019396113 Test = 0.9138422484894428\n",
      "max_leaf_nodes = 19 Train = 0.9145396760852726 Test = 0.914768987722199\n",
      "max_leaf_nodes = 20 Train = 0.9153916007387497 Test = 0.9152516621246285\n",
      "max_leaf_nodes = 21 Train = 0.9160552818860644 Test = 0.9159177575062497\n",
      "max_leaf_nodes = 22 Train = 0.9170978620664597 Test = 0.9169410348812617\n",
      "max_leaf_nodes = 23 Train = 0.9179497864578398 Test = 0.9176553923445037\n",
      "max_leaf_nodes = 24 Train = 0.9185531332757393 Test = 0.9182345988316163\n",
      "max_leaf_nodes = 25 Train = 0.9192530134306475 Test = 0.9188138165019405\n",
      "max_leaf_nodes = 26 Train = 0.9200035746482504 Test = 0.9195281814206566\n",
      "max_leaf_nodes = 27 Train = 0.9206165735971167 Test = 0.9201846200990559\n",
      "max_leaf_nodes = 28 Train = 0.9212126787904671 Test = 0.9207059147908332\n",
      "max_leaf_nodes = 29 Train = 0.921644674547235 Test = 0.92118858965923\n",
      "max_leaf_nodes = 30 Train = 0.9219439337949696 Test = 0.9217002304435882\n",
      "max_leaf_nodes = 31 Train = 0.9225641740189223 Test = 0.9222601351734359\n",
      "max_leaf_nodes = 32 Train = 0.9228634330628038 Test = 0.922549741212795\n",
      "max_leaf_nodes = 33 Train = 0.9231699330031873 Test = 0.9228200389713489\n",
      "max_leaf_nodes = 34 Train = 0.9234426454907826 Test = 0.9231096454766753\n",
      "max_leaf_nodes = 35 Train = 0.9239301491765805 Test = 0.923457172630713\n",
      "max_leaf_nodes = 36 Train = 0.9243669719744151 Test = 0.9238915807578175\n",
      "max_leaf_nodes = 37 Train = 0.9247169133332325 Test = 0.9242970248328293\n",
      "max_leaf_nodes = 38 Train = 0.9250596133587194 Test = 0.9245287083596085\n",
      "max_leaf_nodes = 39 Train = 0.9254385149254052 Test = 0.9250210338736544\n",
      "max_leaf_nodes = 40 Train = 0.9259404983365522 Test = 0.925358910382043\n",
      "max_leaf_nodes = 41 Train = 0.9261697698134201 Test = 0.9256967822307602\n",
      "max_leaf_nodes = 42 Train = 0.9264231748647956 Test = 0.9259381187330243\n",
      "max_leaf_nodes = 43 Train = 0.9267996632749714 Test = 0.9263242596528695\n",
      "max_leaf_nodes = 44 Train = 0.9271061625455512 Test = 0.9267297097854541\n",
      "max_leaf_nodes = 45 Train = 0.92761055975389 Test = 0.9271737704220762\n",
      "max_leaf_nodes = 46 Train = 0.9278712054105485 Test = 0.9275695638514391\n",
      "max_leaf_nodes = 47 Train = 0.9280763427595925 Test = 0.9278398616099931\n",
      "max_leaf_nodes = 48 Train = 0.9284866176615341 Test = 0.9283611539719345\n",
      "max_leaf_nodes = 49 Train = 0.928795530525452 Test = 0.9286893733111341\n",
      "max_leaf_nodes = 50 Train = 0.9290368691535973 Test = 0.9288631380530707\n",
      "max_leaf_nodes = 51 Train = 0.9292516603809217 Test = 0.929094823909686\n",
      "max_leaf_nodes = 52 Train = 0.9295895345593396 Test = 0.9292878946025921\n",
      "max_leaf_nodes = 53 Train = 0.9299056881450282 Test = 0.92951957673147\n",
      "max_leaf_nodes = 54 Train = 0.9300311838740469 Test = 0.9296064586364713\n",
      "max_leaf_nodes = 55 Train = 0.9304873130888349 Test = 0.9301760163418035\n",
      "max_leaf_nodes = 56 Train = 0.9307962264478251 Test = 0.9303497792198716\n",
      "max_leaf_nodes = 57 Train = 0.9311316872076363 Test = 0.9307166109269772\n",
      "max_leaf_nodes = 58 Train = 0.9314188797991658 Test = 0.9308517591073034\n",
      "max_leaf_nodes = 59 Train = 0.9316240171190879 Test = 0.9310737891926308\n",
      "max_leaf_nodes = 60 Train = 0.9318870758157687 Test = 0.9313827044447297\n",
      "max_leaf_nodes = 61 Train = 0.9320680794155736 Test = 0.9315468166771488\n",
      "max_leaf_nodes = 62 Train = 0.9322370164174169 Test = 0.9316626561107026\n",
      "max_leaf_nodes = 63 Train = 0.9324035402918724 Test = 0.9318074568005466\n",
      "max_leaf_nodes = 64 Train = 0.932504902504627 Test = 0.9318267646153847\n",
      "max_leaf_nodes = 65 Train = 0.9327341736611541 Test = 0.9320101814008719\n",
      "max_leaf_nodes = 66 Train = 0.9329417248947551 Test = 0.9322032530257122\n",
      "max_leaf_nodes = 67 Train = 0.9330141264628136 Test = 0.9322901349307134\n",
      "max_leaf_nodes = 68 Train = 0.9331878904474799 Test = 0.9324735512502335\n",
      "max_leaf_nodes = 69 Train = 0.9333809613441717 Test = 0.9326280063134635\n",
      "max_leaf_nodes = 70 Train = 0.9336126462687682 Test = 0.9328500377966924\n",
      "max_leaf_nodes = 71 Train = 0.933837090995788 Test = 0.9330720650862169\n",
      "max_leaf_nodes = 72 Train = 0.9340542956999631 Test = 0.9332458307600879\n",
      "max_leaf_nodes = 73 Train = 0.934331835228625 Test = 0.9334968216357383\n",
      "max_leaf_nodes = 74 Train = 0.9346214415882239 Test = 0.9337091968817125\n",
      "max_leaf_nodes = 75 Train = 0.9347734851257703 Test = 0.9338926136671996\n",
      "max_leaf_nodes = 76 Train = 0.9349207015931279 Test = 0.9340277609155916\n",
      "max_leaf_nodes = 77 Train = 0.9350655046710006 Test = 0.9341629109597867\n",
      "max_leaf_nodes = 78 Train = 0.9352778821593775 Test = 0.9343077149114002\n",
      "max_leaf_nodes = 79 Train = 0.9354009647027647 Test = 0.9343559825846268\n",
      "max_leaf_nodes = 80 Train = 0.9355771413197467 Test = 0.9345394003020482\n",
      "max_leaf_nodes = 81 Train = 0.9357050506712253 Test = 0.9346552429973723\n",
      "max_leaf_nodes = 82 Train = 0.9359512158453654 Test = 0.9348097017883396\n",
      "max_leaf_nodes = 83 Train = 0.9360936055628752 Test = 0.9349834632685061\n",
      "max_leaf_nodes = 84 Train = 0.9362480619657123 Test = 0.9351765344273796\n",
      "max_leaf_nodes = 85 Train = 0.9364580263267012 Test = 0.9353309918204452\n",
      "max_leaf_nodes = 86 Train = 0.9365980028585794 Test = 0.9355337145569018\n",
      "max_leaf_nodes = 87 Train = 0.9367548726800232 Test = 0.9357074765030357\n",
      "max_leaf_nodes = 88 Train = 0.9369310496173459 Test = 0.9359295084522318\n",
      "max_leaf_nodes = 89 Train = 0.9370879193514241 Test = 0.9360260442646521\n",
      "max_leaf_nodes = 90 Train = 0.9374644071209183 Test = 0.9362577305872343\n",
      "max_leaf_nodes = 91 Train = 0.9376019696808738 Test = 0.9364121865823986\n",
      "max_leaf_nodes = 92 Train = 0.937780559862072 Test = 0.9365473398883635\n",
      "max_leaf_nodes = 93 Train = 0.9378867488246744 Test = 0.9367114502569139\n",
      "max_leaf_nodes = 94 Train = 0.9380532722623016 Test = 0.9368948656444998\n",
      "max_leaf_nodes = 95 Train = 0.9382680636352354 Test = 0.9370686280566007\n",
      "max_leaf_nodes = 96 Train = 0.938391146324232 Test = 0.9373099664227335\n",
      "max_leaf_nodes = 97 Train = 0.93851664219886 Test = 0.9373196212620867\n",
      "max_leaf_nodes = 98 Train = 0.9386493785040401 Test = 0.9373389272130561\n",
      "max_leaf_nodes = 99 Train = 0.938823142051878 Test = 0.9376478401353191\n",
      "max_leaf_nodes = 100 Train = 0.9389510511412595 Test = 0.9377636809667745\n",
      "Index 98\n",
      "0.94\n"
     ]
    },
    {
     "data": {
      "image/png": "[encoded data removed]",
      "text/plain": [
       "<Figure size 432x288 with 1 Axes>"
      ]
     },
     "metadata": {
      "needs_background": "light"
     },
     "output_type": "display_data"
    }
   ],
   "source": [
    "rf = RandomForestClassifier(n_estimators=30, random_state=33, n_jobs=-1)\n",
    "\n",
    "n_est2 = range(2,101)\n",
    "\n",
    "train_scores, test_scores = calc_params(X_train, y_train, rf, n_est2, 'max_leaf_nodes', 5)\n",
    "max_at = np.where(test_scores==np.max(test_scores))[0][0]\n",
    "print(\"Index {}\".format(max_at))\n",
    "print(\"{:.2f}\".format(test_scores[max_at]))"
   ]
  },
  {
   "cell_type": "code",
   "execution_count": 102,
   "metadata": {},
   "outputs": [
    {
     "data": {
      "text/plain": [
       "array([0.01, 0.02, 0.03, 0.04, 0.05, 0.06, 0.07, 0.08, 0.09, 0.1 , 0.11,\n",
       "       0.12, 0.13, 0.14, 0.15, 0.16, 0.17, 0.18, 0.19, 0.2 , 0.21, 0.22,\n",
       "       0.23, 0.24, 0.25, 0.26, 0.27, 0.28, 0.29, 0.3 , 0.31, 0.32, 0.33,\n",
       "       0.34, 0.35, 0.36, 0.37, 0.38, 0.39, 0.4 , 0.41, 0.42, 0.43, 0.44,\n",
       "       0.45, 0.46, 0.47, 0.48, 0.49, 0.5 , 0.51, 0.52, 0.53, 0.54, 0.55,\n",
       "       0.56, 0.57, 0.58, 0.59, 0.6 , 0.61, 0.62, 0.63, 0.64, 0.65, 0.66,\n",
       "       0.67, 0.68, 0.69, 0.7 , 0.71, 0.72, 0.73, 0.74, 0.75, 0.76, 0.77,\n",
       "       0.78, 0.79, 0.8 , 0.81, 0.82, 0.83, 0.84, 0.85, 0.86, 0.87, 0.88,\n",
       "       0.89, 0.9 , 0.91, 0.92, 0.93, 0.94, 0.95, 0.96, 0.97, 0.98, 0.99,\n",
       "       1.  ])"
      ]
     },
     "execution_count": 102,
     "metadata": {},
     "output_type": "execute_result"
    }
   ],
   "source": []
  },
  {
   "cell_type": "code",
   "execution_count": null,
   "metadata": {},
   "outputs": [],
   "source": []
  }
 ],
 "metadata": {
  "colab": {
   "collapsed_sections": [],
   "name": "Final Project.ipynb",
   "provenance": []
  },
  "kernelspec": {
   "display_name": "DePaul",
   "language": "python",
   "name": "depaul"
  },
  "language_info": {
   "codemirror_mode": {
    "name": "ipython",
    "version": 3
   },
   "file_extension": ".py",
   "mimetype": "text/x-python",
   "name": "python",
   "nbconvert_exporter": "python",
   "pygments_lexer": "ipython3",
   "version": "3.8.5"
  }
 },
 "nbformat": 4,
 "nbformat_minor": 1
}
